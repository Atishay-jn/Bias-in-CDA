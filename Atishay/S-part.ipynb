{
 "cells": [
  {
   "cell_type": "code",
   "execution_count": null,
   "metadata": {},
   "outputs": [],
   "source": [
    "from igraph import *\n",
    "from random import randint\n",
    "import copy\n",
    "from collections import Counter\n",
    "from tqdm import tqdm\n",
    "from multiprocessing import Process, Lock, Pool\n",
    "import networkx as nx\n",
    "import subprocess\n",
    "import matplotlib.pyplot as plt\n",
    "from threading import Thread\n",
    "import seaborn as sns\n",
    "import os\n",
    "import numpy as np"
   ]
  },
  {
   "cell_type": "code",
   "execution_count": null,
   "metadata": {},
   "outputs": [],
   "source": [
    "def fix_partition(partition):\n",
    "    check = [-1]*len(partition)\n",
    "    cnt = -1\n",
    "    for i in range(len(partition)):\n",
    "        if partition[i] < i:\n",
    "            if(check[i] > -1):\n",
    "                for j in range(len(partition)):\n",
    "                    if(check[j] == check[i] and j!=i and j!= partition[i]):\n",
    "                        check[j] = check[partition[i]]\n",
    "            check[i] = check[partition[i]]\n",
    "        else:\n",
    "            kk = i\n",
    "            while(partition[kk] > kk):\n",
    "                kk = partition[kk]\n",
    "            if(check[kk] == -1):\n",
    "                cnt += 1\n",
    "                check[i] = cnt\n",
    "                while(partition[i] > i):\n",
    "                    check[partition[i]] = cnt\n",
    "                    i = partition[i]\n",
    "            else:\n",
    "                check[i] = check[kk]\n",
    "                while(partition[i] > i):\n",
    "                    check[partition[i]] = check[kk]\n",
    "                    i = partition[i]\n",
    "    ch = [0]*len(partition)\n",
    "    for i in range(len(partition)):\n",
    "        ch[partition[i]] = 1\n",
    "    cnt = 0\n",
    "    for i in range(len(ch)):\n",
    "        if ch[i]>0:\n",
    "            ch[i] = cnt\n",
    "            cnt += 1\n",
    "    for i in range(len(partition)):\n",
    "        partition[i] = ch[partition[i]]\n",
    "    return partition, partition"
   ]
  },
  {
   "cell_type": "code",
   "execution_count": null,
   "metadata": {},
   "outputs": [],
   "source": [
    "def spart_fitness(graph, partition):\n",
    "#     partition, check = fix_partition(partition)\n",
    "#     print(partition)\n",
    "    snode = [0]*len(partition)\n",
    "    comm = Counter(partition)\n",
    "    scom = [0]*len(comm)\n",
    "    edges = 0\n",
    "    scom_edges = [0]*len(comm)\n",
    "    for i in range(len(partition)):\n",
    "        k_in = 0\n",
    "        k_out = 0\n",
    "        for j in range(len(partition)):\n",
    "            if graph[i,j] == 1:\n",
    "                if partition[i] == partition[j]:\n",
    "                    k_in += 1\n",
    "                    scom_edges[partition[i]] += 1\n",
    "                    edges += 1\n",
    "                else:\n",
    "                    k_out += 1\n",
    "                    edges += 1\n",
    "        snode[i] = (k_in - k_out)/comm[partition[i]]\n",
    "        scom[partition[i]] += (k_in+2)*snode[i]/2\n",
    "    edges //= 2\n",
    "    spart = 0\n",
    "    for i in range(len(comm)):\n",
    "        spart += (scom[i]*scom_edges[i])/(comm[i] * edges * 2)\n",
    "    spart /= len(comm)\n",
    "    return spart"
   ]
  },
  {
   "cell_type": "code",
   "execution_count": null,
   "metadata": {},
   "outputs": [],
   "source": [
    "def BWX(g, parent1, parent2, global_best, global_worst):\n",
    "    child = []\n",
    "    for i in range(len(parent1)):\n",
    "        if(parent1[i] == global_best[i]):\n",
    "            child.append(parent1[i])\n",
    "        elif(parent1[i] == global_worst[i]):\n",
    "            k = randint(0, len(parent1)-1)\n",
    "            while(i!=k and g[i,k] == 0):\n",
    "                k = randint(0, len(parent1)-1)\n",
    "            child.append(k)\n",
    "        else:\n",
    "            child.append(parent2[i])\n",
    "    return fix_partition(child)[1]"
   ]
  },
  {
   "cell_type": "code",
   "execution_count": null,
   "metadata": {},
   "outputs": [],
   "source": [
    "def mutation(g, parent):\n",
    "    child = []\n",
    "    for i in range(len(parent)):\n",
    "        temp = randint(0,1)\n",
    "        if temp == 1:\n",
    "            temp = i\n",
    "            for j in range(len(parent)-1):\n",
    "                if i!=j and g[i,j] == 1 and parent[i] == parent[j]:\n",
    "                    temp = j\n",
    "            child.append(temp)\n",
    "        else:\n",
    "            k = randint(0, len(parent)-1)\n",
    "            while(i!=k and g[i,k] == 0):\n",
    "                k = randint(0, len(parent)-1)\n",
    "            child.append(k)\n",
    "    return fix_partition(child)[1]"
   ]
  },
  {
   "cell_type": "code",
   "execution_count": null,
   "metadata": {},
   "outputs": [],
   "source": [
    "def spart(graph, num_nodes, lock):\n",
    "    population_size = 500\n",
    "    num_generations = 100\n",
    "    elite = 10\n",
    "    cluster = 50\n",
    "    crossover = 80\n",
    "    mutations = 50\n",
    "    population = []\n",
    "    for i in range(population_size):\n",
    "        temp = []\n",
    "        for i in range(num_nodes):\n",
    "            k = randint(0, num_nodes-1)\n",
    "            while(i!=k and graph[i,k] == 0):\n",
    "                k = randint(0, num_nodes-1)\n",
    "            temp.append(k)\n",
    "        population.append(temp)\n",
    "    arr = []\n",
    "    for pop in population:\n",
    "        arr.append((spart_fitness(graph, pop), pop))\n",
    "    arr.sort(reverse=True)\n",
    "    population = [y for (x,y) in arr]\n",
    "    t = 0\n",
    "    global_best = []\n",
    "    for i in range(num_generations):\n",
    "        n_population = []\n",
    "        for i in range(population_size//elite):\n",
    "            temp = [x for x in population[i]]\n",
    "            n_population.append(temp)\n",
    "        for i in range(population_size//elite, population_size):\n",
    "            temp = [x for x in population[randint(0, population_size - 1)]]\n",
    "            n_population.append(temp)\n",
    "        arr = []\n",
    "        for pop in n_population:\n",
    "            arr.append((spart_fitness(graph, pop), pop))\n",
    "        arr.sort(reverse=True)\n",
    "        global_best = arr[0][1]\n",
    "        global_worst = arr[-1][1]\n",
    "        for i in range(population_size//elite, population_size):\n",
    "            if randint(0, 99) < crossover:\n",
    "                parent1 = n_population[i]\n",
    "                x = []\n",
    "                parent2 = []\n",
    "                for j in range(cluster):\n",
    "                    x.append(randint(0, population_size - 1))\n",
    "                    x.sort()\n",
    "                    parent2 = arr[x[0]][1]\n",
    "                child = BWX(graph, parent1, parent2, global_best, global_worst)\n",
    "                if spart_fitness(graph, child) > spart_fitness(graph, n_population[i]):\n",
    "                    n_population[i] = child\n",
    "            if randint(0, 99) < mutations:\n",
    "                child = mutation(graph, n_population[i])\n",
    "                if spart_fitness(graph, child) > spart_fitness(graph, n_population[i]):\n",
    "                    n_population[i] = child\n",
    "        population = copy.deepcopy(n_population)\n",
    "#         print(spart_fitness(graph, global_best))\n",
    "    val = spart_fitness(graph, global_best)\n",
    "    lock.acquire()\n",
    "    f1 = open(\"tempcheckk.txt\", \"r\")\n",
    "    L = f1.readlines()\n",
    "    f1.close()\n",
    "    if float(L[0]) < val:\n",
    "        f1 = open(\"tempcheckk.txt\", \"w\")\n",
    "        global_best = [str(x) for x in global_best]\n",
    "        f1.writelines([str(val) + '\\n', \" \".join(global_best) + '\\n'])\n",
    "        f1.close()\n",
    "    lock.release()"
   ]
  },
  {
   "cell_type": "code",
   "execution_count": null,
   "metadata": {},
   "outputs": [],
   "source": [
    "def spart_optimized(graph, num_nodes, val, partition):\n",
    "    f1 = open(\"tempcheckk.txt\",\"w\")\n",
    "    partition = [str(x) for x in partition]\n",
    "    f1.writelines([str(val)+\"\\n\", \" \".join(partition)+\"\\n\"])\n",
    "    f1.close()\n",
    "    p = []\n",
    "    lock = Lock()\n",
    "    for i in range(10):\n",
    "        p.append(Process(target=spart, args=(graph, num_nodes,lock,)))\n",
    "    for i in range(len(p)):\n",
    "        p[i].start()\n",
    "    for i in range(len(p)):\n",
    "        p[i].join()\n",
    "    f1 = open(\"tempcheckk.txt\",\"r\") \n",
    "    L = f1.readlines()\n",
    "    f1.close()\n",
    "#     print(\"final\", L)\n",
    "    return L[1]"
   ]
  },
  {
   "cell_type": "code",
   "execution_count": null,
   "metadata": {},
   "outputs": [],
   "source": [
    "g = Graph([(0,1), (0,2), (1,2), (1,3), (1,4), (2,3), (2,4), (3,4)])"
   ]
  },
  {
   "cell_type": "code",
   "execution_count": null,
   "metadata": {
    "scrolled": true
   },
   "outputs": [],
   "source": [
    "spart_optimized(g, 5, 0, [1,2,3,4,5])"
   ]
  },
  {
   "cell_type": "code",
   "execution_count": 10,
   "metadata": {},
   "outputs": [],
   "source": [
    "# Print(g, 5)"
   ]
  },
  {
   "cell_type": "code",
   "execution_count": 11,
   "metadata": {},
   "outputs": [],
   "source": [
    "def clique(g, size, idx, num_nodes):\n",
    "  for i in range(idx,num_nodes-1):\n",
    "    for j in range(idx - size,idx):\n",
    "      g[i,j] = 0"
   ]
  },
  {
   "cell_type": "code",
   "execution_count": 12,
   "metadata": {},
   "outputs": [],
   "source": [
    "def Print(g,num_nodes):\n",
    "  G = nx.Graph()\n",
    "  for i in range(num_nodes):\n",
    "    G.add_node(i)\n",
    "  for i in range(num_nodes):\n",
    "    for j in range(i+1, num_nodes):\n",
    "      if g[i,j] == 1:\n",
    "        G.add_edge(i,j)\n",
    "  nx.draw(G, with_labels=True)"
   ]
  },
  {
   "cell_type": "markdown",
   "metadata": {},
   "source": [
    "## Hub Node"
   ]
  },
  {
   "cell_type": "code",
   "execution_count": null,
   "metadata": {},
   "outputs": [],
   "source": [
    "def hub_node(clq1, clq2, alpha, beta):\n",
    "    num_nodes = 1 + clq1 + clq2\n",
    "    g = Graph.Full(num_nodes)\n",
    "    for i in range(1,clq1+1):\n",
    "        for j in range(clq1+1, num_nodes):\n",
    "            g[i,j] = 0\n",
    "    for i in range(1, clq1-alpha+1):\n",
    "        g[0,i] = 0\n",
    "    for i in range(1, clq2-beta+1):\n",
    "        g[0, clq1+i] = 0\n",
    "#     Print(g, num_nodes)\n",
    "    partition = [0]\n",
    "    for i in range(clq1):\n",
    "        partition.append(1)\n",
    "    for i in range(clq2):\n",
    "        partition.append(2)\n",
    "    val = spart_fitness(g,partition)\n",
    "    \n",
    "    temp = []\n",
    "    for i in range(clq1+1):\n",
    "        temp.append(0)\n",
    "    for i in range(clq2):\n",
    "        temp.append(1)\n",
    "    if val < spart_fitness(g,temp):\n",
    "        val = spart_fitness(g,temp)\n",
    "        partition = copy.deepcopy(temp)\n",
    "    \n",
    "    temp = []\n",
    "    for i in range(clq1):\n",
    "        temp.append(0)\n",
    "    for i in range(clq2+1):\n",
    "        temp.append(1)\n",
    "    if val < spart_fitness(g,temp):\n",
    "        val = spart_fitness(g,temp)\n",
    "        partition = copy.deepcopy(temp)\n",
    "        \n",
    "    temp = []\n",
    "    for i in range(clq1):\n",
    "        temp.append(0)\n",
    "    for i in range(clq2+1):\n",
    "        temp.append(0)\n",
    "    if val < spart_fitness(g,temp):\n",
    "        val = spart_fitness(g,temp)\n",
    "        partition = copy.deepcopy(temp)\n",
    "    print(val)\n",
    "    return partition\n",
    "#     print(\"initial\", spart_fitness(g,partition))\n",
    "#     return spart_optimized(g, num_nodes, spart_fitness(g,partition), partition)"
   ]
  },
  {
   "cell_type": "code",
   "execution_count": 14,
   "metadata": {},
   "outputs": [
    {
     "data": {
      "text/plain": [
       "'0 0 0 0 0 0 0 0 0 0 0 0 0\\n'"
      ]
     },
     "execution_count": 14,
     "metadata": {},
     "output_type": "execute_result"
    }
   ],
   "source": []
  },
  {
   "cell_type": "code",
   "execution_count": null,
   "metadata": {
    "scrolled": true
   },
   "outputs": [
    {
     "data": {
      "application/vnd.jupyter.widget-view+json": {
       "model_id": "91f376eaaf1749fda18e95305accba40",
       "version_major": 2,
       "version_minor": 0
      },
      "text/plain": [
       "HBox(children=(HTML(value=''), FloatProgress(value=0.0, max=676.0), HTML(value='')))"
      ]
     },
     "metadata": {},
     "output_type": "display_data"
    }
   ],
   "source": [
    "x_start = 5\n",
    "y_start = 5\n",
    "x_end = 31\n",
    "y_end = 31\n",
    "x_val = [i for i in range(x_start, x_end)]\n",
    "y_val = [i for i in range(y_start, y_end)]\n",
    "x_y = [(x,y) for x in range(x_start, x_end) for y in range(y_start, y_end)]\n",
    "matrix_ans = []\n",
    "for x in range(x_start, x_end):\n",
    "    matrix_ans.append([0 for y in range(y_start, y_end)])\n",
    "for z in tqdm(range(len(x_y))):\n",
    "    temp = 0\n",
    "    part = hub_node(10 + x_y[z][0], 10 + x_y[z][1], x_y[z][0], x_y[z][1])\n",
    "    ch = {}\n",
    "    for x in part:\n",
    "        ch[x] = 1\n",
    "    if part[0] in part[1:10 + x_y[z][0]+1]:\n",
    "        temp = 1\n",
    "    elif part[0] in part[1+10 + x_y[z][0]+1:]:\n",
    "        temp = 2\n",
    "    elif len(ch) == 3:\n",
    "        temp = 3\n",
    "    else:\n",
    "        temp = 0\n",
    "    matrix_ans[z//(y_end - y_start)][z%(y_end - y_start)] = temp\n",
    "plt.figure(figsize = (16,14))\n",
    "sns.heatmap(matrix_ans,xticklabels=x_val, yticklabels=y_val)\n",
    "plt.title(\"Hub node: alpha:5-30, beta:5-30, x:10, y:10\")\n",
    "plt.xlabel(\"alpha\")\n",
    "plt.ylabel(\"beta\")\n",
    "plt.savefig('Spart:HubNodeConstXY.png')\n",
    "plt.show()\n",
    "part1 = copy.deepcopy(matrix_ans)"
   ]
  },
  {
   "cell_type": "code",
   "execution_count": null,
   "metadata": {},
   "outputs": [],
   "source": [
    "x_start = 1\n",
    "y_start = 1\n",
    "x_end = 21\n",
    "y_end = 21\n",
    "x_val = [i for i in range(x_start, x_end)]\n",
    "y_val = [i for i in range(y_start, y_end)]\n",
    "x_y = [(x,y) for x in range(x_start, x_end) for y in range(y_start, y_end)]\n",
    "matrix_ans = []\n",
    "for x in range(x_start, x_end):\n",
    "    matrix_ans.append([0 for y in range(y_start, y_end)])\n",
    "for z in tqdm(range(len(x_y))):\n",
    "    temp = 0\n",
    "    part = hub_node(10 + x_y[z][0], 10 + x_y[z][1], 10, 10)\n",
    "    ch = {}\n",
    "    for x in part:\n",
    "        ch[x] = 1\n",
    "    if len(ch) == 1:\n",
    "        temp = 0\n",
    "    elif part[0] in part[1:10 + x_y[z][0]+1]:\n",
    "        temp = 1\n",
    "    elif part[0] in part[1+10 + x_y[z][0]+1:]:\n",
    "        temp = 2\n",
    "    elif len(ch) == 3:\n",
    "        temp = 3\n",
    "    else:\n",
    "        temp = 0\n",
    "    matrix_ans[z//(y_end - y_start)][z%(y_end - y_start)] = temp\n",
    "                                       "
   ]
  },
  {
   "cell_type": "markdown",
   "metadata": {},
   "source": [
    "## Ring of cliques"
   ]
  },
  {
   "cell_type": "code",
   "execution_count": 18,
   "metadata": {},
   "outputs": [],
   "source": [
    "def ring_cliques(size, num):\n",
    "    num_nodes = num*size\n",
    "    g = Graph.Full(num_nodes)\n",
    "    for i in range(num):\n",
    "        for j in range(size*i, size*(i+1)):\n",
    "            for k in range(size*i): \n",
    "                g[j, k] = 0\n",
    "            for k in range(size*(i+1), num_nodes):\n",
    "                g[j,k] = 0\n",
    "    for i in range(num-1):\n",
    "        g[size*i, size*(i+1)+1] = 1\n",
    "    g[1, num_nodes-1] = 1\n",
    "#     Print(g, num_nodes)\n",
    "    partition = []\n",
    "    for i in range(num):\n",
    "        for j in range(size):\n",
    "            partition.append(i)\n",
    "#     print(\"initial\", spart_fitness(g,partition))\n",
    "    return spart_optimized(g, num_nodes, spart_fitness(g,partition), partition)"
   ]
  },
  {
   "cell_type": "code",
   "execution_count": null,
   "metadata": {},
   "outputs": [
    {
     "data": {
      "application/vnd.jupyter.widget-view+json": {
       "model_id": "c3aa170345b042f5b9af6895044df421",
       "version_major": 2,
       "version_minor": 0
      },
      "text/plain": [
       "HBox(children=(HTML(value=''), FloatProgress(value=0.0, max=234.0), HTML(value='')))"
      ]
     },
     "metadata": {},
     "output_type": "display_data"
    }
   ],
   "source": [
    "x_start = 3\n",
    "y_start = 3\n",
    "x_end = 16\n",
    "y_end = 21\n",
    "x_val = [i for i in range(x_start, x_end)]\n",
    "y_val = [i for i in range(y_start, y_end)]\n",
    "x_y = [(x,y) for x in range(x_start, x_end) for y in range(y_start, y_end)]\n",
    "matrix_ans = []\n",
    "check = []\n",
    "for x in range(x_start, x_end):\n",
    "    matrix_ans.append([0 for y in range(y_start, y_end)])\n",
    "for z in tqdm(range(len(x_y))):\n",
    "    temp = 0\n",
    "    part = ring_cliques(x_y[z][0], x_y[z][1])\n",
    "    if len(part) == x_y[z][1]:\n",
    "        temp = 1\n",
    "    else:\n",
    "        temp = len(part)\n",
    "        check.append([x_y[z], part])\n",
    "    matrix_ans[z//(y_end - y_start)][z%(y_end - y_start)] = temp\n",
    "plt.figure(figsize = (16,14))\n",
    "sns.heatmap(matrix_ans,xticklabels=y_val, yticklabels=x_val)\n",
    "plt.xlabel(\"number of cliques\")\n",
    "plt.title(\"Ring of cliques: number of cliques:3-15, size of cliques:3-20\") \n",
    "plt.ylabel(\"clique size\")\n",
    "plt.savefig('Spart:RingOfCliques.png')\n",
    "plt.show()"
   ]
  },
  {
   "cell_type": "code",
   "execution_count": null,
   "metadata": {},
   "outputs": [],
   "source": []
  }
 ],
 "metadata": {
  "kernelspec": {
   "display_name": "Python 3",
   "language": "python",
   "name": "python3"
  },
  "language_info": {
   "codemirror_mode": {
    "name": "ipython",
    "version": 3
   },
   "file_extension": ".py",
   "mimetype": "text/x-python",
   "name": "python",
   "nbconvert_exporter": "python",
   "pygments_lexer": "ipython3",
   "version": "3.6.12"
  }
 },
 "nbformat": 4,
 "nbformat_minor": 2
}
