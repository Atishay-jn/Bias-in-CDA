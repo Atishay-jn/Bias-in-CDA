{
 "cells": [
  {
   "cell_type": "code",
   "execution_count": null,
   "metadata": {},
   "outputs": [
    {
     "name": "stdout",
     "output_type": "stream",
     "text": [
      "Collecting karateclub\n",
      "  Using cached https://files.pythonhosted.org/packages/5d/ba/d4dd40bc3cf8084d463ebb7c368c1efcb465b8b6d7586e7988482915189b/karateclub-1.0.14.tar.gz\n",
      "Collecting numpy (from karateclub)\n",
      "  Using cached https://files.pythonhosted.org/packages/22/e7/4b2bdddb99f5f631d8c1de259897c2b7d65dcfcc1e0a6fd17a7f62923500/numpy-1.19.1-cp36-cp36m-manylinux1_x86_64.whl\n",
      "Collecting networkx (from karateclub)\n",
      "  Using cached https://files.pythonhosted.org/packages/9b/cd/dc52755d30ba41c60243235460961fc28022e5b6731f16c268667625baea/networkx-2.5-py3-none-any.whl\n",
      "Collecting tqdm (from karateclub)\n",
      "  Using cached https://files.pythonhosted.org/packages/28/7e/281edb5bc3274dfb894d90f4dbacfceaca381c2435ec6187a2c6f329aed7/tqdm-4.48.2-py2.py3-none-any.whl\n",
      "Collecting python-louvain (from karateclub)\n",
      "  Using cached https://files.pythonhosted.org/packages/31/d4/d244fa4ca96af747b9204ce500e8919ce72eab60de2129b22a45434f1598/python-louvain-0.14.tar.gz\n",
      "Collecting scikit-learn (from karateclub)\n",
      "  Downloading https://files.pythonhosted.org/packages/5c/a1/273def87037a7fb010512bbc5901c31cfddfca8080bc63b42b26e3cc55b3/scikit_learn-0.23.2-cp36-cp36m-manylinux1_x86_64.whl (6.8MB)\n",
      "\u001b[K    40% |█████████████                   | 2.8MB 81kB/s eta 0:00:509"
     ]
    }
   ],
   "source": [
    "!pip3 install karateclub\n",
    "import networkx as nx\n",
    "from karateclub import BigClam\n",
    "from random import randint"
   ]
  },
  {
   "cell_type": "code",
   "execution_count": 3,
   "metadata": {},
   "outputs": [],
   "source": [
    "def clique_hub(g, size, idx):\n",
    "  for i in range(idx, idx+size):\n",
    "    for j in range(i+1, idx+size):\n",
    "      g.add_edge(i,j)\n",
    "    g.add_edge(i,0)"
   ]
  },
  {
   "cell_type": "code",
   "execution_count": null,
   "metadata": {},
   "outputs": [],
   "source": [
    "def clique(g,size,idx):\n",
    "    for i in range(idx, idx+size):\n",
    "        for j in range(i+1, idx+size):\n",
    "            g.add_edge(i,j)"
   ]
  },
  {
   "cell_type": "code",
   "execution_count": null,
   "metadata": {},
   "outputs": [],
   "source": [
    "def organize(member):\n",
    "    # print(member)\n",
    "    final = {}\n",
    "    for x in member.keys():\n",
    "        final[member[x]] = []\n",
    "    for x in member.keys():\n",
    "        final[member[x]].append(x)\n",
    "    cnt = 1\n",
    "    for x in final.keys():\n",
    "        print(\"Community\",str(cnt)+\":\",final[x])\n",
    "        cnt = cnt + 1"
   ]
  },
  {
   "cell_type": "code",
   "execution_count": null,
   "metadata": {},
   "outputs": [],
   "source": [
    "def hub_node(clq):\n",
    "    #Cliques of size 1 to clq with each connected to a common node\n",
    "    g = nx.Graph()\n",
    "    num_nodes = int((clq*(clq+1))/2) + 1\n",
    "    for i in range(num_nodes):\n",
    "        g.add_node(i) \n",
    "    size = 1\n",
    "    for i in range(1,clq+1):\n",
    "        clique_hub(g,i,size)\n",
    "        size = size + i\n",
    "    model = BigClam()\n",
    "    model.fit(g)\n",
    "    cluster_membership = model.get_memberships()\n",
    "    organize(cluster_membership)\n",
    "    nx.draw(g, with_labels=True)"
   ]
  },
  {
   "cell_type": "code",
   "execution_count": null,
   "metadata": {},
   "outputs": [],
   "source": [
    "def alt_hub_node(clq):\n",
    "    #Cliques of size 1 to clq (no even number cliques) with each connected to a common node\n",
    "    if(clq%2 == 0):\n",
    "        clq = clq + 1\n",
    "    g = nx.Graph()\n",
    "    num_nodes = (clq+1)*(clq+1)//4 + 1\n",
    "    for i in range(num_nodes):\n",
    "        g.add_node(i)\n",
    "    size = 1\n",
    "    for i in range(1,clq+1, 2):\n",
    "        clique_hub(g,i,size)\n",
    "        size = size + i\n",
    "    model = BigClam()\n",
    "    model.fit(g)\n",
    "    cluster_membership = model.get_memberships()\n",
    "    organize(cluster_membership)\n",
    "    nx.draw(g, with_labels=True)"
   ]
  },
  {
   "cell_type": "code",
   "execution_count": null,
   "metadata": {},
   "outputs": [],
   "source": [
    "def hub_clq_clq(clq1, clq2):\n",
    "    # 2 cliques connected by a hub node which is connected to all nodes of the graph\n",
    "    g = nx.Graph()\n",
    "    num_nodes = 1 + clq1 + clq2\n",
    "    for i in range(num_nodes):\n",
    "        g.add_node(i)\n",
    "    clique_hub(g,clq1,1)\n",
    "    clique_hub(g,clq2,1+clq1)\n",
    "    model = BigClam()\n",
    "    model.fit(g)\n",
    "    cluster_membership = model.get_memberships()\n",
    "    organize(cluster_membership)\n",
    "    nx.draw(g, with_labels=True)"
   ]
  },
  {
   "cell_type": "code",
   "execution_count": null,
   "metadata": {},
   "outputs": [],
   "source": [
    "def node_clq_clq(clq1, clq2):\n",
    "    # 2 cliques connected by a hub node which is connected to all nodes of the graph\n",
    "    g = nx.Graph()\n",
    "    num_nodes = 1 + clq1 + clq2\n",
    "    for i in range(num_nodes):\n",
    "        g.add_node(i)\n",
    "    clique_hub(g,clq1,1)\n",
    "    clique_hub(g,clq2,1+clq1)\n",
    "    for i in range(2, num_nodes):\n",
    "        if(i == 1 + clq1):\n",
    "            continue\n",
    "        g.remove_edge(0,i)\n",
    "    model = BigClam()\n",
    "    model.fit(g)\n",
    "    cluster_membership = model.get_memberships()\n",
    "    organize(cluster_membership)\n",
    "    nx.draw(g, with_labels=True)"
   ]
  },
  {
   "cell_type": "code",
   "execution_count": null,
   "metadata": {},
   "outputs": [],
   "source": [
    "def big_small(big_num, small_num, num):\n",
    "    # A big community of size big_num surrounded by num small communities of size small_num\n",
    "    g = nx.Graph()\n",
    "    num_nodes = big_num + small_num*num\n",
    "    for i in range(num_nodes):\n",
    "        g.add_node(i)\n",
    "    clique_hub(g,big_num,0)\n",
    "    for i in range(num):\n",
    "        clique(g,small_num,big_num + i*small_num)\n",
    "        g.add_edge(randint(0,big_num-1),big_num + i*small_num)\n",
    "    model = BigClam()\n",
    "    model.fit(g)\n",
    "    cluster_membership = model.get_memberships()\n",
    "    organize(cluster_membership)\n",
    "    nx.draw(g, with_labels=True)"
   ]
  },
  {
   "cell_type": "code",
   "execution_count": null,
   "metadata": {},
   "outputs": [],
   "source": [
    "def ring_cliques(arr):\n",
    "    # A ring of cliques with len(arr) clqieus and each clique i being is size arr[i]\n",
    "    g = nx.Graph()\n",
    "    if(len(arr) == 0):\n",
    "        return\n",
    "    num_nodes = 0\n",
    "    for x in arr:\n",
    "        num_nodes = num_nodes + x\n",
    "    size = arr[0]\n",
    "    clique(g,arr[0],0)\n",
    "    for i in range(1,len(arr)):\n",
    "        clique(g, arr[i], size)\n",
    "        g.add_edge(size,size - 1)\n",
    "        size = size + arr[i]\n",
    "    g.add_edge(0,num_nodes-1)\n",
    "    model = BigClam()\n",
    "    model.fit(g)\n",
    "    cluster_membership = model.get_memberships()\n",
    "    organize(cluster_membership)\n",
    "    nx.draw(g, with_labels=True)   "
   ]
  },
  {
   "cell_type": "code",
   "execution_count": null,
   "metadata": {},
   "outputs": [],
   "source": [
    "hub_node(10)"
   ]
  },
  {
   "cell_type": "code",
   "execution_count": null,
   "metadata": {},
   "outputs": [],
   "source": [
    "alt_hub_node(11)"
   ]
  },
  {
   "cell_type": "code",
   "execution_count": null,
   "metadata": {},
   "outputs": [],
   "source": [
    "hub_clq_clq(7,10)"
   ]
  },
  {
   "cell_type": "code",
   "execution_count": null,
   "metadata": {},
   "outputs": [],
   "source": [
    "node_clq_clq(7,10)"
   ]
  },
  {
   "cell_type": "code",
   "execution_count": null,
   "metadata": {},
   "outputs": [],
   "source": [
    "big_small(100,5,5)"
   ]
  },
  {
   "cell_type": "code",
   "execution_count": null,
   "metadata": {},
   "outputs": [],
   "source": [
    "big_small(10, 30, 5)"
   ]
  },
  {
   "cell_type": "code",
   "execution_count": null,
   "metadata": {},
   "outputs": [],
   "source": [
    "ring_cliques([15,8,10,7,5,10])"
   ]
  },
  {
   "cell_type": "code",
   "execution_count": null,
   "metadata": {},
   "outputs": [],
   "source": []
  }
 ],
 "metadata": {
  "kernelspec": {
   "display_name": "Python 3",
   "language": "python",
   "name": "python3"
  },
  "language_info": {
   "codemirror_mode": {
    "name": "ipython",
    "version": 2
   },
   "file_extension": ".py",
   "mimetype": "text/x-python",
   "name": "python",
   "nbconvert_exporter": "python",
   "pygments_lexer": "ipython2",
   "version": "2.7.17"
  }
 },
 "nbformat": 4,
 "nbformat_minor": 4
}
