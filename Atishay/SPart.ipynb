{
 "cells": [
  {
   "cell_type": "code",
   "execution_count": 1,
   "metadata": {},
   "outputs": [],
   "source": [
    "from igraph import *\n",
    "from random import randint"
   ]
  },
  {
   "cell_type": "code",
   "execution_count": 2,
   "metadata": {},
   "outputs": [],
   "source": [
    "def next(arr):\n",
    "  i = len(arr) - 1\n",
    "  while (arr[i] == len(arr)-1 and i>=0):\n",
    "    arr[i] = 0\n",
    "    i -= 1\n",
    "  if i>=0 :\n",
    "    arr[i] += 1\n",
    "  else:\n",
    "    return None\n",
    "  return arr"
   ]
  },
  {
   "cell_type": "code",
   "execution_count": 69,
   "metadata": {},
   "outputs": [],
   "source": [
    "def metric(adj, arr, num_com):\n",
    "  snode = [0]*len(arr)\n",
    "  w = [0]*len(arr)\n",
    "  scom = [0]*len(arr)\n",
    "  com_edge_cnt = [0]*len(arr)\n",
    "  com_int_cnt = [0]*len(arr)\n",
    "  for i in range(len(arr)):\n",
    "    w[arr[i]] += 1\n",
    "  for i in range(len(arr)):\n",
    "    din = 0\n",
    "    for j in range(len(adj[i])):\n",
    "      if arr[adj[i][j]] == arr[i]:\n",
    "        din += 1\n",
    "      else:\n",
    "        snode[i] -= 1\n",
    "    com_int_cnt[arr[i]] += din/2\n",
    "    com_edge_cnt[arr[i]] += len(adj[i]) - (din/2)\n",
    "    snode[i] += din\n",
    "    snode[i] /= w[arr[i]]\n",
    "    scom[arr[i]] += (din+2)*0.5*snode[i]\n",
    "  s_part = 0\n",
    "  cnt = 0\n",
    "  for i in range(len(arr)):\n",
    "    if w[i]:\n",
    "        cnt += 1\n",
    "        s_part += float(scom[i]*com_int_cnt[i])/float(com_edge_cnt[i] * w[i])\n",
    "  s_part /= cnt\n",
    "  #print('s:',s_part, snode, scom, com_int_cnt, com_edge_cnt)\n",
    "  return s_part"
   ]
  },
  {
   "cell_type": "code",
   "execution_count": 76,
   "metadata": {},
   "outputs": [],
   "source": [
    "def Spart(graph, num_vertices):\n",
    "  l = [0]*num_vertices\n",
    "  S_part = 0\n",
    "  adj = []\n",
    "  for i in range(num_vertices):\n",
    "    adj.append([])\n",
    "    for j in range(num_vertices):\n",
    "      if g[i,j] == 1:\n",
    "        adj[i].append(j)\n",
    "  cluster = []\n",
    "  while(l != None):\n",
    "    temp = metric(adj, l, num_vertices-1)\n",
    "    if(temp > S_part):\n",
    "      cluster = l\n",
    "      S_part = temp\n",
    "    l = next(l)\n",
    "  return (S_part, cluster)"
   ]
  },
  {
   "cell_type": "code",
   "execution_count": 77,
   "metadata": {},
   "outputs": [],
   "source": [
    "g = Graph([(0,1), (2,1), (0,2)])"
   ]
  },
  {
   "cell_type": "code",
   "execution_count": 78,
   "metadata": {},
   "outputs": [
    {
     "data": {
      "text/plain": [
       "(1.3333333333333333, [0, 0, 0])"
      ]
     },
     "execution_count": 78,
     "metadata": {},
     "output_type": "execute_result"
    }
   ],
   "source": [
    "Spart(g, 3)"
   ]
  },
  {
   "cell_type": "code",
   "execution_count": null,
   "metadata": {},
   "outputs": [],
   "source": [
    "g[0,1]"
   ]
  },
  {
   "cell_type": "code",
   "execution_count": null,
   "metadata": {},
   "outputs": [],
   "source": [
    "g[0,2]"
   ]
  },
  {
   "cell_type": "code",
   "execution_count": null,
   "metadata": {},
   "outputs": [],
   "source": []
  }
 ],
 "metadata": {
  "kernelspec": {
   "display_name": "Python 3",
   "language": "python",
   "name": "python3"
  },
  "language_info": {
   "codemirror_mode": {
    "name": "ipython",
    "version": 3
   },
   "file_extension": ".py",
   "mimetype": "text/x-python",
   "name": "python",
   "nbconvert_exporter": "python",
   "pygments_lexer": "ipython3",
   "version": "3.6.12"
  }
 },
 "nbformat": 4,
 "nbformat_minor": 2
}
