{
 "cells": [
  {
   "cell_type": "code",
   "execution_count": 1,
   "metadata": {},
   "outputs": [],
   "source": [
    "from igraph import *\n",
    "from tqdm.notebook import tqdm\n",
    "from math import sqrt\n",
    "import networkx as nx\n",
    "from copy import deepcopy\n",
    "import matplotlib.pyplot as plt\n",
    "import seaborn as sns"
   ]
  },
  {
   "cell_type": "code",
   "execution_count": 20,
   "metadata": {},
   "outputs": [],
   "source": [
    "def metric(g, part, n, m):\n",
    "    if len(part) == 0 or len(part) == n:\n",
    "        return 0\n",
    "    E_in = 0\n",
    "    E_out = 0\n",
    "    for i in range(n):\n",
    "        if i not in part:\n",
    "            for j not in range(n):\n",
    "                if g[i,j]:\n",
    "                    if j in part:\n",
    "                        E_in += 1\n",
    "                    else:\n",
    "                        E_out += 1\n",
    "    x = E_in/(2*m) # 2* number of internal edges / 2 * total edges\n",
    "    y = (E_in + E_out)/(2*m) # 2* internal + external / 2*total edges\n",
    "#     print(x, y, part, n)\n",
    "    if y == 1:\n",
    "        print(part, n, m, x)\n",
    "        Print(g)\n",
    "    if (x - y**2)/sqrt((1 - y**2)*y**2) < 0:\n",
    "        return 0\n",
    "    return (x - y**2)/sqrt((1 - y**2)*y**2)"
   ]
  },
  {
   "cell_type": "code",
   "execution_count": 3,
   "metadata": {},
   "outputs": [],
   "source": [
    "def graph_metric(g, part, n, m):\n",
    "    total = 0\n",
    "    for partt in part:\n",
    "        total += metric(g, partt, n, m)\n",
    "    return total"
   ]
  },
  {
   "cell_type": "code",
   "execution_count": 4,
   "metadata": {},
   "outputs": [],
   "source": [
    "def next_small(g, taken, n):\n",
    "    cnt = n\n",
    "    idx = 0\n",
    "    for i in range(n):\n",
    "        if i not in taken:\n",
    "            temp = 0\n",
    "            for j in range(n):\n",
    "                if j not in taken and g[i,j]:\n",
    "                    temp += 1\n",
    "            if temp < cnt:\n",
    "                cnt = temp\n",
    "                idx = i\n",
    "    return idx"
   ]
  },
  {
   "cell_type": "code",
   "execution_count": 5,
   "metadata": {},
   "outputs": [],
   "source": [
    "def communitude(graph, n):\n",
    "    m = 0\n",
    "    total = 0\n",
    "    for i in range(n):\n",
    "        for j in range(i+1, n):\n",
    "            if graph[i, j]:\n",
    "                m += 1\n",
    "    nodes_taken = []\n",
    "    community = []\n",
    "    while len(nodes_taken) < n:\n",
    "        ans = []\n",
    "        com = metric(graph, nodes_taken, n, m)\n",
    "        part = []\n",
    "        temp = deepcopy(nodes_taken)\n",
    "        while len(temp) < n:\n",
    "            node = next_small(graph, temp, n)\n",
    "            temp.append(node)\n",
    "            part.append(node)\n",
    "            check = metric(graph, temp, n, m)\n",
    "            if check > com:\n",
    "                com = check\n",
    "                ans = deepcopy(part)\n",
    "        total += com\n",
    "        com = [x for x in range(n) if x not in ans and x not in nodes_taken]\n",
    "        community.append(com)\n",
    "        for node in com:\n",
    "            nodes_taken.append(node)\n",
    "    return community"
   ]
  },
  {
   "cell_type": "code",
   "execution_count": 6,
   "metadata": {},
   "outputs": [],
   "source": [
    "def Print(g,num_nodes):\n",
    "  G = nx.Graph()\n",
    "  for i in range(num_nodes):\n",
    "    G.add_node(i)\n",
    "  for i in range(num_nodes):\n",
    "    for j in range(i+1, num_nodes):\n",
    "      if g[i,j] == 1:\n",
    "        G.add_edge(i,j)\n",
    "  nx.draw_networkx(G, with_labels=True, pos=nx.spring_layout(G))"
   ]
  },
  {
   "cell_type": "code",
   "execution_count": 7,
   "metadata": {},
   "outputs": [],
   "source": [
    "def hub_node(clq1, clq2, alpha, beta):\n",
    "    num_nodes = 1 + clq1 + clq2\n",
    "    g = Graph.Full(num_nodes)\n",
    "    for i in range(1,clq1+1):\n",
    "        for j in range(clq1+1, num_nodes):\n",
    "            g[i,j] = 0\n",
    "    for i in range(1, clq1-alpha+1):\n",
    "        g[0,i] = 0\n",
    "    for i in range(1, clq2-beta+1):\n",
    "        g[0, clq1+i] = 0\n",
    "#     Print(g, num_nodes)\n",
    "    return communitude(g, num_nodes)"
   ]
  },
  {
   "cell_type": "code",
   "execution_count": 8,
   "metadata": {},
   "outputs": [],
   "source": [
    "def ring_cliques(size, num):\n",
    "    num_nodes = num*size\n",
    "    g = Graph.Full(num_nodes)\n",
    "    for i in range(num):\n",
    "        for j in range(size*i, size*(i+1)):\n",
    "            for k in range(size*i): \n",
    "                g[j, k] = 0\n",
    "            for k in range(size*(i+1), num_nodes):\n",
    "                g[j,k] = 0\n",
    "    for i in range(num-1):\n",
    "        g[size*i, size*(i+1)+1] = 1\n",
    "    g[1, num_nodes-1] = 1\n",
    "#     Print(g, num_nodes)\n",
    "    return communitude(g, num_nodes)"
   ]
  },
  {
   "cell_type": "code",
   "execution_count": 21,
   "metadata": {},
   "outputs": [],
   "source": [
    "def clique_clique(x, y, w, z):\n",
    "    num_nodes = w+x + w*(y+z)\n",
    "    g = Graph.Full(num_nodes)\n",
    "    for i in range(w):\n",
    "        for j in range((w+x) + (y+z)*i, (w+x) + (y+z)*(i+1)):\n",
    "            for k in range((w+x) + (y+z)*i):\n",
    "                g[j,k] = 0\n",
    "            for k in range((w+x) + (y+z)*(i+1), num_nodes):\n",
    "                g[j,k] = 0\n",
    "    for i in range(w):\n",
    "        for j in range(z):\n",
    "            g[i, (w+x)+(y+z)*i +j] = 1\n",
    "    temp = communitude(g, num_nodes)\n",
    "    val = graph_metric(g, temp, num_nodes, ((w+x)*(w+x-1)/2) + w*z + (w*(y+z)*(y+z-1)/2))\n",
    "    \n",
    "    part = []\n",
    "    t = []\n",
    "    for i in range(x+w):\n",
    "        t.append(i)\n",
    "    part.append(t)\n",
    "    for i in range(w):\n",
    "        t = []\n",
    "        for j in range(y+z):\n",
    "            t.append(j+(i*(y+z)) + (x+w))\n",
    "        part.append(t)\n",
    "    valc = graph_metric(g, part, num_nodes, ((w+x)*(w+x-1)/2) + w*z + (w*(y+z)*(y+z-1)/2))\n",
    "    if val < valc:\n",
    "        val = valc\n",
    "        temp = part\n",
    "    print(\"one\", valc, part)\n",
    "    \n",
    "    part = []\n",
    "    t = []\n",
    "    for i in range(x):\n",
    "        t.append(w+i)\n",
    "    part.append(t)\n",
    "    for i in range(w):\n",
    "        t = [i]\n",
    "        for j in range(y+z):\n",
    "            t.append(j+(i*(y+z)) + (x+w))\n",
    "        part.append(t)\n",
    "    valc = graph_metric(g, part, num_nodes, ((w+x)*(w+x-1)/2) + w*z + (w*(y+z)*(y+z-1)/2))\n",
    "    if val < valc:\n",
    "        val = valc\n",
    "        temp = part\n",
    "    print(\"two\", valc, part)\n",
    "#     Print(g, num_nodes)\n",
    "    return temp"
   ]
  },
  {
   "cell_type": "markdown",
   "metadata": {},
   "source": [
    "## Ring of cliques"
   ]
  },
  {
   "cell_type": "code",
   "execution_count": 9,
   "metadata": {},
   "outputs": [
    {
     "data": {
      "application/vnd.jupyter.widget-view+json": {
       "model_id": "77d3a4bd235a4bf5b4cae8f8245bff62",
       "version_major": 2,
       "version_minor": 0
      },
      "text/plain": [
       "HBox(children=(HTML(value=''), FloatProgress(value=0.0, max=234.0), HTML(value='')))"
      ]
     },
     "metadata": {},
     "output_type": "display_data"
    },
    {
     "name": "stdout",
     "output_type": "stream",
     "text": [
      "\n"
     ]
    },
    {
     "data": {
      "image/png": "[encoded data removed]",
      "text/plain": [
       "<Figure size 1152x1008 with 2 Axes>"
      ]
     },
     "metadata": {},
     "output_type": "display_data"
    }
   ],
   "source": [
    "x_start = 3\n",
    "y_start = 3\n",
    "x_end = 16\n",
    "y_end = 21\n",
    "x_val = [i for i in range(x_start, x_end)]\n",
    "y_val = [i for i in range(y_start, y_end)]\n",
    "x_y = [(x,y) for x in range(x_start, x_end) for y in range(y_start, y_end)]\n",
    "matrix_ans = []\n",
    "check = []\n",
    "for x in range(x_start, x_end):\n",
    "    matrix_ans.append([0 for y in range(y_start, y_end)])\n",
    "for z in tqdm(range(len(x_y))):\n",
    "    temp = 0\n",
    "    part = ring_cliques(x_y[z][0], x_y[z][1])\n",
    "    if len(part) == x_y[z][1]:\n",
    "        temp = 1\n",
    "    else:\n",
    "        temp = len(part)\n",
    "        check.append([x_y[z], part])\n",
    "    matrix_ans[z//(y_end - y_start)][z%(y_end - y_start)] = temp\n",
    "plt.figure(figsize = (16,14))\n",
    "sns.heatmap(matrix_ans,xticklabels=y_val, yticklabels=x_val)\n",
    "plt.xlabel(\"number of cliques\")\n",
    "plt.title(\"Ring of cliques: number of cliques:3-15, size of cliques:3-20\") \n",
    "plt.ylabel(\"clique size\")\n",
    "plt.savefig('Communitude:RingOfCliques.png')\n",
    "plt.show()"
   ]
  },
  {
   "cell_type": "markdown",
   "metadata": {},
   "source": [
    "## Hub Node"
   ]
  },
  {
   "cell_type": "code",
   "execution_count": 10,
   "metadata": {},
   "outputs": [
    {
     "data": {
      "application/vnd.jupyter.widget-view+json": {
       "model_id": "5517568ca9e34b498603765835661a81",
       "version_major": 2,
       "version_minor": 0
      },
      "text/plain": [
       "HBox(children=(HTML(value=''), FloatProgress(value=0.0, max=676.0), HTML(value='')))"
      ]
     },
     "metadata": {},
     "output_type": "display_data"
    },
    {
     "name": "stdout",
     "output_type": "stream",
     "text": [
      "\n"
     ]
    },
    {
     "data": {
      "image/png": "[encoded data removed]",
      "text/plain": [
       "<Figure size 1152x1008 with 2 Axes>"
      ]
     },
     "metadata": {},
     "output_type": "display_data"
    }
   ],
   "source": [
    "x_start = 5\n",
    "y_start = 5\n",
    "x_end = 31\n",
    "y_end = 31\n",
    "x_val = [i for i in range(x_start, x_end)]\n",
    "y_val = [i for i in range(y_start, y_end)]\n",
    "x_y = [(x,y) for x in range(x_start, x_end) for y in range(y_start, y_end)]\n",
    "matrix_ans = []\n",
    "for x in range(x_start, x_end):\n",
    "    matrix_ans.append([0 for y in range(y_start, y_end)])\n",
    "for z in tqdm(range(len(x_y))):\n",
    "    temp = 0\n",
    "    part = hub_node(x_y[z][0] + 10, x_y[z][1] + 10, x_y[z][0], x_y[z][1])\n",
    "    if len(part) == 3:\n",
    "        temp = 0\n",
    "    elif len(part) == 2:\n",
    "        if (0 in part[0] and 1 in part[0]) or (0 in part[1] and 1 in part[1]):\n",
    "            temp = 1\n",
    "        else:\n",
    "            temp = 2\n",
    "    else:\n",
    "        temp = 3\n",
    "#     print(z, x_y)\n",
    "    matrix_ans[z//(y_end - y_start)][z%(y_end - y_start)] = temp\n",
    "# print(matrix_ans)\n",
    "plt.figure(figsize = (16,14))\n",
    "sns.heatmap(matrix_ans,xticklabels=x_val, yticklabels=y_val)\n",
    "plt.title(\"Hub node: alpha:5-30, beta:5-30, x:10, y:10\")\n",
    "plt.xlabel(\"alpha\")\n",
    "plt.ylabel(\"beta\")\n",
    "plt.savefig('Communitude:HubNodeConstXY.png')\n",
    "plt.show()\n",
    "plt.savefig(f'1.png', bbox_inches='tight')"
   ]
  },
  {
   "cell_type": "code",
   "execution_count": 11,
   "metadata": {},
   "outputs": [
    {
     "data": {
      "application/vnd.jupyter.widget-view+json": {
       "model_id": "2df1d3d4cd75444c95b9d8fd1ff8dcf5",
       "version_major": 2,
       "version_minor": 0
      },
      "text/plain": [
       "HBox(children=(HTML(value=''), FloatProgress(value=0.0, max=400.0), HTML(value='')))"
      ]
     },
     "metadata": {},
     "output_type": "display_data"
    },
    {
     "name": "stdout",
     "output_type": "stream",
     "text": [
      "\n"
     ]
    },
    {
     "data": {
      "image/png": "[encoded data removed]",
      "text/plain": [
       "<Figure size 1152x1008 with 2 Axes>"
      ]
     },
     "metadata": {},
     "output_type": "display_data"
    }
   ],
   "source": [
    "x_start = 1\n",
    "y_start = 1\n",
    "x_end = 21\n",
    "y_end = 21\n",
    "x_val = [i for i in range(x_start, x_end)]\n",
    "y_val = [i for i in range(y_start, y_end)]\n",
    "x_y = [(x,y) for x in range(x_start, x_end) for y in range(y_start, y_end)]\n",
    "matrix_ans = []\n",
    "for x in range(x_start, x_end):\n",
    "    matrix_ans.append([0 for y in range(y_start, y_end)])\n",
    "for z in tqdm(range(len(x_y))):\n",
    "    temp = 0\n",
    "    part = hub_node(x_y[z][0] + 10, x_y[z][1] + 10, 10, 10)\n",
    "    if len(part) == 3:\n",
    "        temp = 0\n",
    "    elif len(part) == 2:\n",
    "        if (0 in part[0] and 1 in part[0]) or (0 in part[1] and 1 in part[1]):\n",
    "            temp = 1\n",
    "        else:\n",
    "            temp = 2\n",
    "    else:\n",
    "        temp = 3\n",
    "#     print(z, x_y)\n",
    "    matrix_ans[z//(y_end - y_start)][z%(y_end - y_start)] = temp\n",
    "# print(matrix_ans)\n",
    "plt.figure(figsize = (16,14))\n",
    "sns.heatmap(matrix_ans,xticklabels=x_val, yticklabels=y_val)\n",
    "plt.title(\"Hub node: x:1-20, y:1-20, alpha:10, beta:10\")\n",
    "plt.xlabel(\"x\")\n",
    "plt.ylabel(\"y\")\n",
    "plt.savefig('Communitude:HubNodeConstAlphaBeta.png')\n",
    "plt.show()"
   ]
  },
  {
   "cell_type": "markdown",
   "metadata": {},
   "source": [
    "## Community(clique) surrounded by communites(cliques)"
   ]
  },
  {
   "cell_type": "code",
   "execution_count": null,
   "metadata": {},
   "outputs": [
    {
     "data": {
      "application/vnd.jupyter.widget-view+json": {
       "model_id": "1912e643c7fb40728f6a44b8e4c61d94",
       "version_major": 2,
       "version_minor": 0
      },
      "text/plain": [
       "HBox(children=(HTML(value=''), FloatProgress(value=0.0, max=676.0), HTML(value='')))"
      ]
     },
     "metadata": {},
     "output_type": "display_data"
    }
   ],
   "source": [
    "x_start = 5\n",
    "y_start = 5\n",
    "x_end = 31\n",
    "y_end = 31\n",
    "# y is the right clique\n",
    "x_val = [i for i in range(x_start, x_end)]\n",
    "y_val = [i for i in range(y_start, y_end)]\n",
    "x_y = [(x,y) for x in range(x_start, x_end) for y in range(y_start, y_end)]\n",
    "matrix_ans = []\n",
    "for x in range(x_start, x_end):\n",
    "    matrix_ans.append([0 for y in range(y_start, y_end)])\n",
    "for z in tqdm(range(len(x_y))):\n",
    "    temp = 0\n",
    "    part = clique_clique(10, 10, x_y[z][0], x_y[z][1])\n",
    "    if len(part) == x_y[z][0] + 1:\n",
    "        check = [i for i in range(10+x_y[z][0])]\n",
    "        if check in part:\n",
    "            temp = 0\n",
    "        else:\n",
    "            temp = 1\n",
    "#             print(10, 10, x_y[z][0], x_y[z][1])\n",
    "    else:\n",
    "        temp = len(part)\n",
    "#         print(10, 10, x_y[z][0], x_y[z][1])\n",
    "#     print(z, x_y)\n",
    "    matrix_ans[z//(y_end - y_start)][z%(y_end - y_start)] = temp\n",
    "# print(matrix_ans)\n",
    "plt.figure(figsize = (16,14))\n",
    "sns.heatmap(matrix_ans,xticklabels=y_val, yticklabels=x_val)\n",
    "plt.xlabel(\"right clique size\")\n",
    "plt.ylabel(\"left clique size\")\n",
    "plt.title(\"Community  surrounded by community: x:10, y:10, alpha:5-30, beta:5-30\")\n",
    "plt.savefig('Communitude:CliqueCliqueConstXY.png')\n",
    "plt.show()"
   ]
  },
  {
   "cell_type": "code",
   "execution_count": 16,
   "metadata": {},
   "outputs": [
    {
     "data": {
      "application/vnd.jupyter.widget-view+json": {
       "model_id": "52915c47fb20487b86023db2452f2097",
       "version_major": 2,
       "version_minor": 0
      },
      "text/plain": [
       "HBox(children=(HTML(value=''), FloatProgress(value=0.0, max=400.0), HTML(value='')))"
      ]
     },
     "metadata": {},
     "output_type": "display_data"
    },
    {
     "name": "stdout",
     "output_type": "stream",
     "text": [
      "\n"
     ]
    },
    {
     "data": {
      "image/png": "[encoded data removed]",
      "text/plain": [
       "<Figure size 1152x1008 with 2 Axes>"
      ]
     },
     "metadata": {},
     "output_type": "display_data"
    }
   ],
   "source": [
    "x_start = 1\n",
    "y_start = 1\n",
    "x_end = 21\n",
    "y_end = 21\n",
    "x_val = [i for i in range(x_start, x_end)]\n",
    "y_val = [i for i in range(y_start, y_end)]\n",
    "x_y = [(x,y) for x in range(x_start, x_end) for y in range(y_start, y_end)]\n",
    "matrix_ans = []\n",
    "for x in range(x_start, x_end):\n",
    "    matrix_ans.append([0 for y in range(y_start, y_end)])\n",
    "for z in tqdm(range(len(x_y))):\n",
    "    temp = 0\n",
    "    part = clique_clique(x_y[z][0], x_y[z][1], 5 , 27)\n",
    "    if len(part) == x_y[z][0] + 1:\n",
    "        check = [i for i in range(10+x_y[z][0])]\n",
    "        if check in part:\n",
    "            temp = 0\n",
    "        else:\n",
    "            temp = 1\n",
    "    else:\n",
    "        temp = len(part)\n",
    "    matrix_ans[z//(y_end - y_start)][z%(y_end - y_start)] = temp\n",
    "# print(matrix_ans)\n",
    "plt.figure(figsize = (16,14))\n",
    "sns.heatmap(matrix_ans,xticklabels=x_val, yticklabels=y_val)\n",
    "plt.xlabel(\"right clique size\")\n",
    "plt.ylabel(\"left clique size\")\n",
    "plt.title(\"Community surrounded by community: x:1-20, y:1-20, alpha:10, beta:70\")\n",
    "plt.savefig('Communitude:CliqueCliqueConstAlphaBeta.png')\n",
    "plt.show()"
   ]
  },
  {
   "cell_type": "code",
   "execution_count": null,
   "metadata": {},
   "outputs": [],
   "source": [
    "# x_val = [i for i in range(2,30)]\n",
    "# y_val = [i for i in range(2,30)]\n",
    "# matrix_ans = []\n",
    "# for i in tqdm(x_val):\n",
    "#     temp = []\n",
    "#     for j in y_val:\n",
    "#         part = ring_cliques(i, j)\n",
    "# #         print(i, part)\n",
    "#         if(len(part) == i):\n",
    "#             temp.append(2)\n",
    "#         elif(len(part) == 1):\n",
    "#             temp.append(0)\n",
    "#         else:\n",
    "#             temp.append(1)\n",
    "#     matrix_ans.append(temp)\n",
    "    \n",
    "# plt.figure(figsize = (16,14))\n",
    "# sns.heatmap(matrix_ans,xticklabels=x_val, yticklabels=y_val)\n",
    "# plt.xlabel(\"clique size\")\n",
    "# plt.ylabel(\"number of cliques\")\n",
    "# plt.show()"
   ]
  },
  {
   "cell_type": "code",
   "execution_count": 18,
   "metadata": {},
   "outputs": [
    {
     "name": "stdout",
     "output_type": "stream",
     "text": [
      "one 1.6354133983018988 [[0, 1, 2, 3, 4, 5, 6, 7, 8, 9, 10], [11, 12, 13, 14, 15, 16, 17, 18, 19, 20, 21, 22, 23, 24, 25, 26, 27, 28, 29, 30, 31, 32, 33, 34, 35, 36, 37, 38, 39, 40, 41, 42], [43, 44, 45, 46, 47, 48, 49, 50, 51, 52, 53, 54, 55, 56, 57, 58, 59, 60, 61, 62, 63, 64, 65, 66, 67, 68, 69, 70, 71, 72, 73, 74], [75, 76, 77, 78, 79, 80, 81, 82, 83, 84, 85, 86, 87, 88, 89, 90, 91, 92, 93, 94, 95, 96, 97, 98, 99, 100, 101, 102, 103, 104, 105, 106], [107, 108, 109, 110, 111, 112, 113, 114, 115, 116, 117, 118, 119, 120, 121, 122, 123, 124, 125, 126, 127, 128, 129, 130, 131, 132, 133, 134, 135, 136, 137, 138], [139, 140, 141, 142, 143, 144, 145, 146, 147, 148, 149, 150, 151, 152, 153, 154, 155, 156, 157, 158, 159, 160, 161, 162, 163, 164, 165, 166, 167, 168, 169, 170]]\n",
      "two 1.6738483757794598 [[5, 6, 7, 8, 9, 10], [0, 11, 12, 13, 14, 15, 16, 17, 18, 19, 20, 21, 22, 23, 24, 25, 26, 27, 28, 29, 30, 31, 32, 33, 34, 35, 36, 37, 38, 39, 40, 41, 42], [1, 43, 44, 45, 46, 47, 48, 49, 50, 51, 52, 53, 54, 55, 56, 57, 58, 59, 60, 61, 62, 63, 64, 65, 66, 67, 68, 69, 70, 71, 72, 73, 74], [2, 75, 76, 77, 78, 79, 80, 81, 82, 83, 84, 85, 86, 87, 88, 89, 90, 91, 92, 93, 94, 95, 96, 97, 98, 99, 100, 101, 102, 103, 104, 105, 106], [3, 107, 108, 109, 110, 111, 112, 113, 114, 115, 116, 117, 118, 119, 120, 121, 122, 123, 124, 125, 126, 127, 128, 129, 130, 131, 132, 133, 134, 135, 136, 137, 138], [4, 139, 140, 141, 142, 143, 144, 145, 146, 147, 148, 149, 150, 151, 152, 153, 154, 155, 156, 157, 158, 159, 160, 161, 162, 163, 164, 165, 166, 167, 168, 169, 170]]\n",
      "[[5, 6, 7, 8, 9, 10], [0, 11, 12, 13, 14, 15, 16, 17, 18, 19, 20, 21, 22, 23, 24, 25, 26, 27, 28, 29, 30, 31, 32, 33, 34, 35, 36, 37, 38, 39, 40, 41, 42], [1, 43, 44, 45, 46, 47, 48, 49, 50, 51, 52, 53, 54, 55, 56, 57, 58, 59, 60, 61, 62, 63, 64, 65, 66, 67, 68, 69, 70, 71, 72, 73, 74], [2, 75, 76, 77, 78, 79, 80, 81, 82, 83, 84, 85, 86, 87, 88, 89, 90, 91, 92, 93, 94, 95, 96, 97, 98, 99, 100, 101, 102, 103, 104, 105, 106], [3, 107, 108, 109, 110, 111, 112, 113, 114, 115, 116, 117, 118, 119, 120, 121, 122, 123, 124, 125, 126, 127, 128, 129, 130, 131, 132, 133, 134, 135, 136, 137, 138], [4, 139, 140, 141, 142, 143, 144, 145, 146, 147, 148, 149, 150, 151, 152, 153, 154, 155, 156, 157, 158, 159, 160, 161, 162, 163, 164, 165, 166, 167, 168, 169, 170]]\n"
     ]
    }
   ],
   "source": [
    "print(clique_clique(6, 5, 5, 27))"
   ]
  },
  {
   "cell_type": "code",
   "execution_count": 19,
   "metadata": {},
   "outputs": [
    {
     "name": "stdout",
     "output_type": "stream",
     "text": [
      "one 1.6327061491537407 [[0, 1, 2, 3, 4, 5, 6, 7, 8, 9], [10, 11, 12, 13, 14, 15, 16, 17, 18, 19, 20, 21, 22, 23, 24, 25, 26, 27, 28, 29, 30, 31, 32, 33, 34, 35, 36, 37, 38, 39, 40, 41, 42], [43, 44, 45, 46, 47, 48, 49, 50, 51, 52, 53, 54, 55, 56, 57, 58, 59, 60, 61, 62, 63, 64, 65, 66, 67, 68, 69, 70, 71, 72, 73, 74, 75], [76, 77, 78, 79, 80, 81, 82, 83, 84, 85, 86, 87, 88, 89, 90, 91, 92, 93, 94, 95, 96, 97, 98, 99, 100, 101, 102, 103, 104, 105, 106, 107, 108], [109, 110, 111, 112, 113, 114, 115, 116, 117, 118, 119, 120, 121, 122, 123, 124, 125, 126, 127, 128, 129, 130, 131, 132, 133, 134, 135, 136, 137, 138, 139, 140, 141], [142, 143, 144, 145, 146, 147, 148, 149, 150, 151, 152, 153, 154, 155, 156, 157, 158, 159, 160, 161, 162, 163, 164, 165, 166, 167, 168, 169, 170, 171, 172, 173, 174]]\n",
      "two 1.6704657405830734 [[5, 6, 7, 8, 9], [0, 10, 11, 12, 13, 14, 15, 16, 17, 18, 19, 20, 21, 22, 23, 24, 25, 26, 27, 28, 29, 30, 31, 32, 33, 34, 35, 36, 37, 38, 39, 40, 41, 42], [1, 43, 44, 45, 46, 47, 48, 49, 50, 51, 52, 53, 54, 55, 56, 57, 58, 59, 60, 61, 62, 63, 64, 65, 66, 67, 68, 69, 70, 71, 72, 73, 74, 75], [2, 76, 77, 78, 79, 80, 81, 82, 83, 84, 85, 86, 87, 88, 89, 90, 91, 92, 93, 94, 95, 96, 97, 98, 99, 100, 101, 102, 103, 104, 105, 106, 107, 108], [3, 109, 110, 111, 112, 113, 114, 115, 116, 117, 118, 119, 120, 121, 122, 123, 124, 125, 126, 127, 128, 129, 130, 131, 132, 133, 134, 135, 136, 137, 138, 139, 140, 141], [4, 142, 143, 144, 145, 146, 147, 148, 149, 150, 151, 152, 153, 154, 155, 156, 157, 158, 159, 160, 161, 162, 163, 164, 165, 166, 167, 168, 169, 170, 171, 172, 173, 174]]\n",
      "[[5, 6, 7, 8, 9], [0, 10, 11, 12, 13, 14, 15, 16, 17, 18, 19, 20, 21, 22, 23, 24, 25, 26, 27, 28, 29, 30, 31, 32, 33, 34, 35, 36, 37, 38, 39, 40, 41, 42], [1, 43, 44, 45, 46, 47, 48, 49, 50, 51, 52, 53, 54, 55, 56, 57, 58, 59, 60, 61, 62, 63, 64, 65, 66, 67, 68, 69, 70, 71, 72, 73, 74, 75], [2, 76, 77, 78, 79, 80, 81, 82, 83, 84, 85, 86, 87, 88, 89, 90, 91, 92, 93, 94, 95, 96, 97, 98, 99, 100, 101, 102, 103, 104, 105, 106, 107, 108], [3, 109, 110, 111, 112, 113, 114, 115, 116, 117, 118, 119, 120, 121, 122, 123, 124, 125, 126, 127, 128, 129, 130, 131, 132, 133, 134, 135, 136, 137, 138, 139, 140, 141], [4, 142, 143, 144, 145, 146, 147, 148, 149, 150, 151, 152, 153, 154, 155, 156, 157, 158, 159, 160, 161, 162, 163, 164, 165, 166, 167, 168, 169, 170, 171, 172, 173, 174]]\n"
     ]
    }
   ],
   "source": [
    "print(clique_clique(5, 6, 5, 27))"
   ]
  },
  {
   "cell_type": "code",
   "execution_count": 22,
   "metadata": {},
   "outputs": [
    {
     "name": "stdout",
     "output_type": "stream",
     "text": [
      "one 4.548145304785289 [[0, 1, 2, 3, 4, 5, 6, 7, 8, 9, 10, 11, 12, 13, 14], [15, 16, 17, 18, 19, 20, 21, 22, 23, 24, 25, 26, 27, 28, 29, 30, 31, 32, 33, 34, 35, 36, 37, 38, 39, 40, 41, 42, 43, 44, 45, 46], [47, 48, 49, 50, 51, 52, 53, 54, 55, 56, 57, 58, 59, 60, 61, 62, 63, 64, 65, 66, 67, 68, 69, 70, 71, 72, 73, 74, 75, 76, 77, 78], [79, 80, 81, 82, 83, 84, 85, 86, 87, 88, 89, 90, 91, 92, 93, 94, 95, 96, 97, 98, 99, 100, 101, 102, 103, 104, 105, 106, 107, 108, 109, 110], [111, 112, 113, 114, 115, 116, 117, 118, 119, 120, 121, 122, 123, 124, 125, 126, 127, 128, 129, 130, 131, 132, 133, 134, 135, 136, 137, 138, 139, 140, 141, 142], [143, 144, 145, 146, 147, 148, 149, 150, 151, 152, 153, 154, 155, 156, 157, 158, 159, 160, 161, 162, 163, 164, 165, 166, 167, 168, 169, 170, 171, 172, 173, 174]]\n",
      "two 4.65440469714432 [[5, 6, 7, 8, 9, 10, 11, 12, 13, 14], [0, 15, 16, 17, 18, 19, 20, 21, 22, 23, 24, 25, 26, 27, 28, 29, 30, 31, 32, 33, 34, 35, 36, 37, 38, 39, 40, 41, 42, 43, 44, 45, 46], [1, 47, 48, 49, 50, 51, 52, 53, 54, 55, 56, 57, 58, 59, 60, 61, 62, 63, 64, 65, 66, 67, 68, 69, 70, 71, 72, 73, 74, 75, 76, 77, 78], [2, 79, 80, 81, 82, 83, 84, 85, 86, 87, 88, 89, 90, 91, 92, 93, 94, 95, 96, 97, 98, 99, 100, 101, 102, 103, 104, 105, 106, 107, 108, 109, 110], [3, 111, 112, 113, 114, 115, 116, 117, 118, 119, 120, 121, 122, 123, 124, 125, 126, 127, 128, 129, 130, 131, 132, 133, 134, 135, 136, 137, 138, 139, 140, 141, 142], [4, 143, 144, 145, 146, 147, 148, 149, 150, 151, 152, 153, 154, 155, 156, 157, 158, 159, 160, 161, 162, 163, 164, 165, 166, 167, 168, 169, 170, 171, 172, 173, 174]]\n",
      "[[5, 6, 7, 8, 9, 10, 11, 12, 13, 14], [0, 15, 16, 17, 18, 19, 20, 21, 22, 23, 24, 25, 26, 27, 28, 29, 30, 31, 32, 33, 34, 35, 36, 37, 38, 39, 40, 41, 42, 43, 44, 45, 46], [1, 47, 48, 49, 50, 51, 52, 53, 54, 55, 56, 57, 58, 59, 60, 61, 62, 63, 64, 65, 66, 67, 68, 69, 70, 71, 72, 73, 74, 75, 76, 77, 78], [2, 79, 80, 81, 82, 83, 84, 85, 86, 87, 88, 89, 90, 91, 92, 93, 94, 95, 96, 97, 98, 99, 100, 101, 102, 103, 104, 105, 106, 107, 108, 109, 110], [3, 111, 112, 113, 114, 115, 116, 117, 118, 119, 120, 121, 122, 123, 124, 125, 126, 127, 128, 129, 130, 131, 132, 133, 134, 135, 136, 137, 138, 139, 140, 141, 142], [4, 143, 144, 145, 146, 147, 148, 149, 150, 151, 152, 153, 154, 155, 156, 157, 158, 159, 160, 161, 162, 163, 164, 165, 166, 167, 168, 169, 170, 171, 172, 173, 174]]\n"
     ]
    }
   ],
   "source": [
    "print(clique_clique(10, 5, 5, 27))"
   ]
  },
  {
   "cell_type": "code",
   "execution_count": 23,
   "metadata": {},
   "outputs": [
    {
     "name": "stdout",
     "output_type": "stream",
     "text": [
      "one 4.376682754801604 [[0, 1, 2, 3, 4, 5, 6, 7, 8, 9], [10, 11, 12, 13, 14, 15, 16, 17, 18, 19, 20, 21, 22, 23, 24, 25, 26, 27, 28, 29, 30, 31, 32, 33, 34, 35, 36, 37, 38, 39, 40, 41, 42, 43, 44, 45, 46], [47, 48, 49, 50, 51, 52, 53, 54, 55, 56, 57, 58, 59, 60, 61, 62, 63, 64, 65, 66, 67, 68, 69, 70, 71, 72, 73, 74, 75, 76, 77, 78, 79, 80, 81, 82, 83], [84, 85, 86, 87, 88, 89, 90, 91, 92, 93, 94, 95, 96, 97, 98, 99, 100, 101, 102, 103, 104, 105, 106, 107, 108, 109, 110, 111, 112, 113, 114, 115, 116, 117, 118, 119, 120], [121, 122, 123, 124, 125, 126, 127, 128, 129, 130, 131, 132, 133, 134, 135, 136, 137, 138, 139, 140, 141, 142, 143, 144, 145, 146, 147, 148, 149, 150, 151, 152, 153, 154, 155, 156, 157], [158, 159, 160, 161, 162, 163, 164, 165, 166, 167, 168, 169, 170, 171, 172, 173, 174, 175, 176, 177, 178, 179, 180, 181, 182, 183, 184, 185, 186, 187, 188, 189, 190, 191, 192, 193, 194]]\n",
      "two 4.493065826764416 [[5, 6, 7, 8, 9], [0, 10, 11, 12, 13, 14, 15, 16, 17, 18, 19, 20, 21, 22, 23, 24, 25, 26, 27, 28, 29, 30, 31, 32, 33, 34, 35, 36, 37, 38, 39, 40, 41, 42, 43, 44, 45, 46], [1, 47, 48, 49, 50, 51, 52, 53, 54, 55, 56, 57, 58, 59, 60, 61, 62, 63, 64, 65, 66, 67, 68, 69, 70, 71, 72, 73, 74, 75, 76, 77, 78, 79, 80, 81, 82, 83], [2, 84, 85, 86, 87, 88, 89, 90, 91, 92, 93, 94, 95, 96, 97, 98, 99, 100, 101, 102, 103, 104, 105, 106, 107, 108, 109, 110, 111, 112, 113, 114, 115, 116, 117, 118, 119, 120], [3, 121, 122, 123, 124, 125, 126, 127, 128, 129, 130, 131, 132, 133, 134, 135, 136, 137, 138, 139, 140, 141, 142, 143, 144, 145, 146, 147, 148, 149, 150, 151, 152, 153, 154, 155, 156, 157], [4, 158, 159, 160, 161, 162, 163, 164, 165, 166, 167, 168, 169, 170, 171, 172, 173, 174, 175, 176, 177, 178, 179, 180, 181, 182, 183, 184, 185, 186, 187, 188, 189, 190, 191, 192, 193, 194]]\n",
      "[[5, 6, 7, 8, 9], [0, 10, 11, 12, 13, 14, 15, 16, 17, 18, 19, 20, 21, 22, 23, 24, 25, 26, 27, 28, 29, 30, 31, 32, 33, 34, 35, 36, 37, 38, 39, 40, 41, 42, 43, 44, 45, 46], [1, 47, 48, 49, 50, 51, 52, 53, 54, 55, 56, 57, 58, 59, 60, 61, 62, 63, 64, 65, 66, 67, 68, 69, 70, 71, 72, 73, 74, 75, 76, 77, 78, 79, 80, 81, 82, 83], [2, 84, 85, 86, 87, 88, 89, 90, 91, 92, 93, 94, 95, 96, 97, 98, 99, 100, 101, 102, 103, 104, 105, 106, 107, 108, 109, 110, 111, 112, 113, 114, 115, 116, 117, 118, 119, 120], [3, 121, 122, 123, 124, 125, 126, 127, 128, 129, 130, 131, 132, 133, 134, 135, 136, 137, 138, 139, 140, 141, 142, 143, 144, 145, 146, 147, 148, 149, 150, 151, 152, 153, 154, 155, 156, 157], [4, 158, 159, 160, 161, 162, 163, 164, 165, 166, 167, 168, 169, 170, 171, 172, 173, 174, 175, 176, 177, 178, 179, 180, 181, 182, 183, 184, 185, 186, 187, 188, 189, 190, 191, 192, 193, 194]]\n"
     ]
    }
   ],
   "source": [
    "print(clique_clique(5, 10, 5, 27))"
   ]
  },
  {
   "cell_type": "code",
   "execution_count": null,
   "metadata": {},
   "outputs": [],
   "source": []
  }
 ],
 "metadata": {
  "kernelspec": {
   "display_name": "Python 3",
   "language": "python",
   "name": "python3"
  },
  "language_info": {
   "codemirror_mode": {
    "name": "ipython",
    "version": 3
   },
   "file_extension": ".py",
   "mimetype": "text/x-python",
   "name": "python",
   "nbconvert_exporter": "python",
   "pygments_lexer": "ipython3",
   "version": "3.6.12"
  }
 },
 "nbformat": 4,
 "nbformat_minor": 2
}
