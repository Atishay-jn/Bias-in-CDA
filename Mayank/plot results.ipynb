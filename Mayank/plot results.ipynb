{
 "cells": [
  {
   "cell_type": "code",
   "execution_count": 1,
   "metadata": {},
   "outputs": [],
   "source": [
    "import networkx as nx\n",
    "from igraph import *\n",
    "import numpy as np"
   ]
  },
  {
   "cell_type": "code",
   "execution_count": 2,
   "metadata": {},
   "outputs": [],
   "source": [
    "def Print(g,num_nodes):\n",
    "  G = nx.Graph()\n",
    "  for i in range(num_nodes):\n",
    "    G.add_node(i)\n",
    "  for i in range(num_nodes):\n",
    "    for j in range(i+1, num_nodes):\n",
    "      if g[i,j] == 1:\n",
    "        G.add_edge(i,j)\n",
    "  nx.draw(G, with_labels=True)"
   ]
  },
  {
   "cell_type": "code",
   "execution_count": 7,
   "metadata": {},
   "outputs": [],
   "source": [
    "def hub(x,alpha,y,beta):\n",
    "    n=alpha+beta+x+y+1\n",
    "    g1 = Graph.Full(x+alpha)\n",
    "    h=Graph.Full(1)\n",
    "    g2 = Graph.Full(y+beta)\n",
    "    g=Graph.disjoint_union(g1,g2)\n",
    "    \n",
    "    g.add_vertex(1)\n",
    "    for i in range(alpha):\n",
    "        g.add_edges([(i,n-1)])\n",
    "    for i in range(beta):\n",
    "        g.add_edges([(x+alpha+i,n-1)])\n",
    "    g.vs[\"name\"] = range(n)\n",
    "    return g.community_multilevel()\n",
    "    "
   ]
  },
  {
   "cell_type": "code",
   "execution_count": 19,
   "metadata": {
    "scrolled": false
   },
   "outputs": [],
   "source": [
    "results=[]\n",
    "x=10\n",
    "y=20\n",
    "a=20\n",
    "b=20\n",
    "temp_n=x+y+a+b+1\n",
    "\n",
    "for i in range(20):\n",
    "    \n",
    "    community=hub(x+i,a,y,b)\n",
    "    n=temp_n+i\n",
    "    \n",
    "    if (len(community) != 2):\n",
    "        error = i\n",
    "    else:\n",
    "        if(community[0][0]==0 and community[0][-1]==n-1) or (community[1][0]==0 and community[1][-1]==n-1):\n",
    "            results.append(1)\n",
    "        else:\n",
    "            results.append(0)"
   ]
  },
  {
   "cell_type": "code",
   "execution_count": 20,
   "metadata": {},
   "outputs": [
    {
     "data": {
      "text/plain": [
       "[1, 1, 1, 1, 1, 1, 1, 1, 1, 1, 1, 0, 0, 0, 0, 0, 0, 0, 0, 0]"
      ]
     },
     "execution_count": 20,
     "metadata": {},
     "output_type": "execute_result"
    }
   ],
   "source": [
    "results"
   ]
  },
  {
   "cell_type": "code",
   "execution_count": null,
   "metadata": {},
   "outputs": [],
   "source": []
  }
 ],
 "metadata": {
  "kernelspec": {
   "display_name": "Python 3",
   "language": "python",
   "name": "python3"
  },
  "language_info": {
   "codemirror_mode": {
    "name": "ipython",
    "version": 3
   },
   "file_extension": ".py",
   "mimetype": "text/x-python",
   "name": "python",
   "nbconvert_exporter": "python",
   "pygments_lexer": "ipython3",
   "version": "3.6.10"
  }
 },
 "nbformat": 4,
 "nbformat_minor": 4
}
