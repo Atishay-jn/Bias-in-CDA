{
 "cells": [
  {
   "cell_type": "code",
   "execution_count": 4,
   "metadata": {
    "colab": {
     "base_uri": "https://localhost:8080/",
     "height": 136
    },
    "colab_type": "code",
    "id": "BWY-hPOBI2V-",
    "outputId": "0ffe12b4-3152-48cc-affb-6f49c7af402c"
   },
   "outputs": [
    {
     "name": "stderr",
     "output_type": "stream",
     "text": [
      "/home/alphaq2/.local/lib/python2.7/site-packages/ipykernel_launcher.py:4: DeprecationWarning: This package has been superseded by the `leidenalg` package and will no longer be maintained. Please upgrade to the `leidenalg` package.\n",
      "  after removing the cwd from sys.path.\n"
     ]
    }
   ],
   "source": [
    "from igraph import *\n",
    "import networkx as nx\n",
    "import random\n",
    "import louvain"
   ]
  },
  {
   "cell_type": "code",
   "execution_count": 5,
   "metadata": {
    "colab": {},
    "colab_type": "code",
    "id": "F3N-TqilJQnJ"
   },
   "outputs": [],
   "source": [
    "\n",
    "def clique(g, size, idx, num_nodes):\n",
    "  for i in range(idx,num_nodes-1):\n",
    "    for j in range(idx - size,idx):\n",
    "      g[i,j] = 0"
   ]
  },
  {
   "cell_type": "code",
   "execution_count": 6,
   "metadata": {
    "colab": {},
    "colab_type": "code",
    "id": "DFLZtYcz9uGx"
   },
   "outputs": [],
   "source": [
    "def Print(g,num_nodes):\n",
    "  G = nx.Graph()\n",
    "  for i in range(num_nodes):\n",
    "    G.add_node(i)\n",
    "  for i in range(num_nodes):\n",
    "    for j in range(i+1, num_nodes):\n",
    "      if g[i,j] == 1:\n",
    "        G.add_edge(i,j)\n",
    "  nx.draw(G, with_labels=True)"
   ]
  },
  {
   "cell_type": "code",
   "execution_count": 7,
   "metadata": {
    "colab": {},
    "colab_type": "code",
    "id": "GDk4omKK9xU2"
   },
   "outputs": [],
   "source": [
    "def walktrap(g):\n",
    "  k = g.community_walktrap()\n",
    "  k = k.as_clustering()\n",
    "  print(k)"
   ]
  },
  {
   "cell_type": "code",
   "execution_count": 8,
   "metadata": {},
   "outputs": [],
   "source": [
    "def infomap(g):\n",
    "  k = g.community_infomap()\n",
    "  print(k)"
   ]
  },
  {
   "cell_type": "code",
   "execution_count": 9,
   "metadata": {},
   "outputs": [],
   "source": [
    "def hub_node(clq):\n",
    "    num_nodes = int((clq*(clq+1))/2) + 1\n",
    "    g = Graph.Full(num_nodes)\n",
    "    size = 0\n",
    "    for i in range(clq,1,-1):\n",
    "        size = size + i\n",
    "        clique(g,i,size,num_nodes)\n",
    "    walktrap(g)\n",
    "    Print(g, num_nodes)\n",
    "    infomap(g)"
   ]
  },
  {
   "cell_type": "code",
   "execution_count": 10,
   "metadata": {},
   "outputs": [],
   "source": [
    "def hub_node2(clq):\n",
    "    num_nodes = int(clq*(clq+1)) + 1\n",
    "    g = Graph.Full(num_nodes)\n",
    "    size = 0\n",
    "    for i in range(clq,1,-1):\n",
    "        size = size + i\n",
    "        clique(g,i,size,num_nodes)\n",
    "        size = size + i\n",
    "        clique(g,i,size,num_nodes)\n",
    "    g[num_nodes-2, num_nodes-3] = 0\n",
    "    walktrap(g)\n",
    "    Print(g, num_nodes)\n",
    "    infomap(g)"
   ]
  },
  {
   "cell_type": "code",
   "execution_count": 11,
   "metadata": {},
   "outputs": [],
   "source": [
    "def alt_hub_node(clq):\n",
    "    num_nodes = int((clq+1)*(clq+1)/4) + 1\n",
    "    g = Graph.Full(num_nodes)\n",
    "    size = 0\n",
    "    for i in range(clq,1,-2):\n",
    "        size = size + i\n",
    "        clique(g,i,size,num_nodes)\n",
    "    walktrap(g)\n",
    "    Print(g, num_nodes)\n",
    "    infomap(g)"
   ]
  },
  {
   "cell_type": "code",
   "execution_count": 12,
   "metadata": {},
   "outputs": [],
   "source": [
    "def creat_random_connected(offset,size,number_of_edges = 100000000):\n",
    "\n",
    "    edges = []\n",
    "    for i in range(size-1):\n",
    "        edges.append((offset + i,offset + i + 1))\n",
    "    edges.append((offset,offset + size - 1))\n",
    "    ret_edges = edges;\n",
    "    \n",
    "    edges = []\n",
    "    for i in range(size):\n",
    "        for j in range(i + 1,size):\n",
    "            if((offset + i,offset + j) not in ret_edges):\n",
    "                edges.append((offset + i,offset + j))\n",
    "\n",
    "    last = len(edges)-1\n",
    "    for i in range(min(number_of_edges,len(edges))):\n",
    "        ind = random.randint(0,last)\n",
    "        ret_edges.append(edges[ind])\n",
    "        last -= 1\n",
    "\n",
    "    return ret_edges"
   ]
  },
  {
   "cell_type": "code",
   "execution_count": 13,
   "metadata": {},
   "outputs": [],
   "source": [
    "def ring_of_clique(ring_size , clique_size):\n",
    "\n",
    "    total_vert = ring_size*clique_size;\n",
    "\n",
    "    g = Graph();\n",
    "    g.add_vertices(total_vert);\n",
    "\n",
    "    edges = creat_random_connected(0,clique_size);import random\n",
    "\n",
    "    offset = clique_size\n",
    "    prev_connector = offset - 1\n",
    "\n",
    "    for i in range(ring_size - 1):\n",
    "        new_clique = creat_random_connected(offset,clique_size);\n",
    "        new_clique.append((prev_connector,offset))\n",
    "        edges.extend(new_clique)\n",
    "        offset += clique_size\n",
    "        prev_connector += clique_size\n",
    "\n",
    "    edges.append((0,prev_connector))\n",
    "    g.add_edges(edges);\n",
    "\n",
    "    return g\n"
   ]
  },
  {
   "cell_type": "code",
   "execution_count": 14,
   "metadata": {},
   "outputs": [],
   "source": [
    "def line_star_graph(total_vert, line_length):\n",
    "    edges = []\n",
    "\n",
    "    g = Graph()\n",
    "    g.add_vertices(total_vert)\n",
    "\n",
    "    for i in range(1,line_length):\n",
    "        edges.append((i-1,i))\n",
    "\n",
    "    middle_node = line_length//2\n",
    "    rem_vert = total_vert - line_length\n",
    "    offset = line_length\n",
    "\n",
    "    for i in range(rem_vert):\n",
    "        edges.append((middle_node,offset + i))\n",
    "\n",
    "    g.add_edges(edges)\n",
    "    Print(g,total_vert)\n",
    "    part = louvain.find_partition(g, louvain.ModularityVertexPartition);\n",
    "    print(part)\n",
    "    return g"
   ]
  },
  {
   "cell_type": "code",
   "execution_count": 17,
   "metadata": {},
   "outputs": [],
   "source": [
    "def run_maxperm(total_vert, edges):\n",
    "    \n",
    "    input_file = open(\"input.dat\", \"w\")\n",
    "    input_file.write(str(total_vert) + \" \" + str(len(edges)) + \"\\n\")\n",
    "    for i in edges:\n",
    "        m1 = i[0]\n",
    "        m2 = i[1]\n",
    "        input_file.write(str(m1) + \" \" + str(m2) + \"\\n\")\n",
    "    input_file.close()\n",
    "    \n",
    "    returned_value = subprocess.check_output(\"bash compile.sh\", shell = True)\n",
    "    returned_value = returned_value.decode(\"utf-8\")\n",
    "    \n",
    "    print(returned_value)\n",
    "    \n",
    "    output_file = open(\"output.txt\",\"r\")\n",
    "    partitions = output_file.readlines() \n",
    "    partitions = partitions[2:]\n",
    "    \n",
    "    sets = {}\n",
    "    for i in partitions:\n",
    "        str1 = i[:-1].split(\" \")\n",
    "        node = int(str1[0])\n",
    "        community = int(str1[1])\n",
    "        if(community in sets):\n",
    "            sets[community].append(node)\n",
    "        else:\n",
    "            sets[community] = [node]\n",
    "    return sets\n",
    "        \n",
    "    \n",
    "    "
   ]
  },
  {
   "cell_type": "code",
   "execution_count": null,
   "metadata": {},
   "outputs": [],
   "source": [
    "print(run_maxperm(4,[(0,1),(1,2),(2,3),(2,0)]))"
   ]
  }
 ],
 "metadata": {
  "accelerator": "TPU",
  "colab": {
   "collapsed_sections": [],
   "name": "Untitled12.ipynb",
   "provenance": []
  },
  "kernelspec": {
   "display_name": "Python 2",
   "language": "python",
   "name": "python2"
  },
  "language_info": {
   "codemirror_mode": {
    "name": "ipython",
    "version": 2
   },
   "file_extension": ".py",
   "mimetype": "text/x-python",
   "name": "python",
   "nbconvert_exporter": "python",
   "pygments_lexer": "ipython2",
   "version": "2.7.17"
  }
 },
 "nbformat": 4,
 "nbformat_minor": 1
}
