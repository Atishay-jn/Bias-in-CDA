{
 "cells": [
  {
   "cell_type": "code",
   "execution_count": 2,
   "metadata": {
    "colab": {
     "base_uri": "https://localhost:8080/",
     "height": 136
    },
    "colab_type": "code",
    "id": "BWY-hPOBI2V-",
    "outputId": "0ffe12b4-3152-48cc-affb-6f49c7af402c"
   },
   "outputs": [],
   "source": [
    "from igraph import *\n",
    "import networkx as nx\n",
    "import random\n",
    "import community as community_louvain\n",
    "# import louvain\n",
    "import os,sys\n",
    "import time\n",
    "import subprocess\n",
    "from infomap import Infomap\n",
    "import matplotlib.pyplot as plt\n",
    "import seaborn as sns\n",
    "import numpy as np\n",
    "from cdlib import algorithms\n",
    "import networkx as nx\n",
    "from louvain_mod import *"
   ]
  },
  {
   "cell_type": "code",
   "execution_count": 3,
   "metadata": {
    "colab": {},
    "colab_type": "code",
    "id": "F3N-TqilJQnJ"
   },
   "outputs": [],
   "source": [
    "def clique(g, size, idx, num_nodes):\n",
    "  for i in range(idx,num_nodes-1):\n",
    "    for j in range(idx - size,idx):\n",
    "      g[i,j] = 0"
   ]
  },
  {
   "cell_type": "code",
   "execution_count": 4,
   "metadata": {
    "colab": {},
    "colab_type": "code",
    "id": "DFLZtYcz9uGx"
   },
   "outputs": [],
   "source": [
    "def Print(g,num_nodes):\n",
    "  G = nx.Graph()\n",
    "  for i in range(num_nodes):\n",
    "    G.add_node(i)\n",
    "  for i in range(num_nodes):\n",
    "    for j in range(i+1, num_nodes):\n",
    "      if g[i,j] == 1:\n",
    "        G.add_edge(i,j)\n",
    "  nx.draw(G, with_labels=True)\n",
    "def Print(total,edges):\n",
    "  G = nx.Graph()\n",
    "  for i in range(total):\n",
    "    G.add_node(i)\n",
    "  for i1 in edges:\n",
    "    i = i1[0]\n",
    "    j = i1[1]\n",
    "    G.add_edge(i,j)\n",
    "  nx.draw(G, with_labels=True)"
   ]
  },
  {
   "cell_type": "code",
   "execution_count": 5,
   "metadata": {
    "colab": {},
    "colab_type": "code",
    "id": "GDk4omKK9xU2"
   },
   "outputs": [],
   "source": [
    "def walktrap(g):\n",
    "  k = g.community_walktrap()\n",
    "  k = k.as_clustering()\n",
    "  print(k)"
   ]
  },
  {
   "cell_type": "code",
   "execution_count": 6,
   "metadata": {},
   "outputs": [],
   "source": [
    "def infomap(g):\n",
    "  k = g.community_infomap()\n",
    "  print(k)"
   ]
  },
  {
   "cell_type": "code",
   "execution_count": 7,
   "metadata": {},
   "outputs": [],
   "source": [
    "def hub_node(clq):\n",
    "    num_nodes = int((clq*(clq+1))/2) + 1\n",
    "    g = Graph.Full(num_nodes)\n",
    "    size = 0\n",
    "    for i in range(clq,1,-1):\n",
    "        size = size + i\n",
    "        clique(g,i,size,num_nodes)\n",
    "    walktrap(g)\n",
    "    Print(g, num_nodes)\n",
    "    infomap(g)"
   ]
  },
  {
   "cell_type": "code",
   "execution_count": 8,
   "metadata": {},
   "outputs": [],
   "source": [
    "def hub_node2(clq):\n",
    "    num_nodes = int(clq*(clq+1)) + 1\n",
    "    g = Graph.Full(num_nodes)\n",
    "    size = 0\n",
    "    for i in range(clq,1,-1):\n",
    "        size = size + i\n",
    "        clique(g,i,size,num_nodes)\n",
    "        size = size + i\n",
    "        clique(g,i,size,num_nodes)\n",
    "    g[num_nodes-2, num_nodes-3] = 0\n",
    "    walktrap(g)\n",
    "    Print(g, num_nodes)\n",
    "    infomap(g)"
   ]
  },
  {
   "cell_type": "code",
   "execution_count": 9,
   "metadata": {},
   "outputs": [],
   "source": [
    "def alt_hub_node(clq):\n",
    "    num_nodes = int((clq+1)*(clq+1)/4) + 1\n",
    "    g = Graph.Full(num_nodes)\n",
    "    size = 0\n",
    "    for i in range(clq,1,-2):\n",
    "        size = size + i\n",
    "        clique(g,i,size,num_nodes)\n",
    "    walktrap(g)\n",
    "    Print(g, num_nodes)\n",
    "    infomap(g)"
   ]
  },
  {
   "cell_type": "code",
   "execution_count": 10,
   "metadata": {},
   "outputs": [],
   "source": [
    "def creat_random_connected(offset,size,number_of_edges = 100000000):\n",
    "\n",
    "    edges = []\n",
    "    for i in range(size-1):\n",
    "        edges.append((offset + i,offset + i + 1))\n",
    "    edges.append((offset,offset + size - 1))\n",
    "    ret_edges = edges[:];\n",
    "    \n",
    "    edges = []\n",
    "    for i in range(size):\n",
    "        for j in range(i + 1,size):\n",
    "            if((offset + i,offset + j) not in ret_edges):\n",
    "                edges.append((offset + i,offset + j))\n",
    "\n",
    "    last = len(edges)-1\n",
    "    for i in range(min(number_of_edges,len(edges))):\n",
    "        ind = random.randint(0,last)\n",
    "        ret_edges.append(edges[ind])\n",
    "        tmp = edges[ind]\n",
    "        edges[ind] = edges[last]\n",
    "        edges[last] = tmp\n",
    "        last -= 1\n",
    "    return ret_edges"
   ]
  },
  {
   "cell_type": "code",
   "execution_count": 11,
   "metadata": {},
   "outputs": [],
   "source": [
    "def ring_of_clique(ring_size , clique_size):\n",
    "\n",
    "    total_vert = ring_size*clique_size;\n",
    "\n",
    "    edges = creat_random_connected(0,clique_size);import random\n",
    "\n",
    "    offset = clique_size\n",
    "    prev_connector = offset - 1\n",
    "\n",
    "    for i in range(ring_size - 1):\n",
    "        new_clique = creat_random_connected(offset,clique_size);\n",
    "        new_clique.append((prev_connector,offset))\n",
    "        edges.extend(new_clique)\n",
    "        offset += clique_size\n",
    "        prev_connector += clique_size\n",
    "\n",
    "    edges.append((0,prev_connector))\n",
    "\n",
    "    return [total_vert, edges]\n"
   ]
  },
  {
   "cell_type": "code",
   "execution_count": 12,
   "metadata": {},
   "outputs": [],
   "source": [
    "def line_star_graph(total_vert, line_length):\n",
    "    edges = []\n",
    "\n",
    "    for i in range(1,line_length):\n",
    "        edges.append((i-1,i))\n",
    "\n",
    "    middle_node = line_length//2\n",
    "    rem_vert = total_vert - line_length\n",
    "    offset = line_length\n",
    "\n",
    "    for i in range(rem_vert):\n",
    "        edges.append((middle_node,offset + i))\n",
    "\n",
    "    return [total_vert, edges]"
   ]
  },
  {
   "cell_type": "code",
   "execution_count": 13,
   "metadata": {},
   "outputs": [],
   "source": [
    "def run_louvain(total_vert,edges):\n",
    "                \n",
    "    g = Graph()\n",
    "    g.add_vertices(total_vert)\n",
    "    g.add_edges(edges)\n",
    "    \n",
    "\n",
    "    part = g.community_multilevel();\n",
    "#     print(part)\n",
    "    return part"
   ]
  },
  {
   "cell_type": "code",
   "execution_count": 14,
   "metadata": {},
   "outputs": [],
   "source": [
    "def run_maxperm(total_vert, edges):\n",
    "    try:\n",
    "        returned_value = subprocess.check_output(\"rm input.dat\", shell = True)\n",
    "        returned_value = subprocess.check_output(\"rm output.txt\", shell = True)\n",
    "    except:\n",
    "        it = 0\n",
    "    input_file = open(\"input.dat\", \"w\")\n",
    "    input_file.write(str(total_vert) + \" \" + str(len(edges)) + \"\\n\")\n",
    "    for i in edges:\n",
    "        m1 = i[0]\n",
    "        m2 = i[1]\n",
    "        input_file.write(str(m1) + \" \" + str(m2) + \"\\n\")\n",
    "#         input_file.write(str(m2) + \" \" + str(m1) + \"\\n\")\n",
    "    input_file.close()\n",
    "    \n",
    "    returned_value = subprocess.check_output(\"bash compile.sh\", shell = True)\n",
    "    returned_value = returned_value.decode(\"utf-8\")\n",
    "    \n",
    "    #print(returned_value)\n",
    "    \n",
    "    output_file = open(\"output.txt\",\"r\")\n",
    "    partitions = output_file.readlines() \n",
    "\n",
    "    dicti={}\n",
    "#     print(partitions[:2])\n",
    "    for line in partitions[2:]:\n",
    "        #print(line.strip())\n",
    "        pair = line.split('\\t')\n",
    "        pair = list(map(int,pair))\n",
    "        if pair[1] in dicti:\n",
    "            dicti[pair[1]].append(pair[0])\n",
    "        else:\n",
    "            dicti[pair[1]] = [pair[0]]\n",
    "    try:\n",
    "        returned_value = subprocess.check_output(\"rm input.dat\", shell = True)\n",
    "        returned_value = subprocess.check_output(\"rm output.txt\", shell = True)\n",
    "    except:\n",
    "        it = 0\n",
    "#     print(\"total partitions : \" + str(len(dicti.keys())) )\n",
    "#     for i in dicti.keys():\n",
    "#         print (\"[\" + str(i) + \"] : \"),\n",
    "#         print(list(dicti[i]))\n",
    "    return dicti\n",
    "    "
   ]
  },
  {
   "cell_type": "code",
   "execution_count": 15,
   "metadata": {},
   "outputs": [],
   "source": [
    "def hub_surr_cliq(total_number_of_cliq,list_of_sizes):\n",
    "    \n",
    "    total_vert = sum(list_of_sizes) + 1\n",
    "    offset = 1\n",
    "    edges = []\n",
    "    \n",
    "    for i in range(total_number_of_cliq):\n",
    "        edges.append((0,offset))\n",
    "        edges.extend(creat_random_connected(offset,list_of_sizes[i]))\n",
    "        offset += list_of_sizes[i]\n",
    "        \n",
    "    return [total_vert,edges]\n",
    "def hub_surr_cliq2(total_number_of_cliq,list_of_sizes):\n",
    "    \n",
    "    total_vert = sum(list_of_sizes) + 1\n",
    "    offset = 1\n",
    "    edges = []\n",
    "    for i in range(1,total_vert):\n",
    "        edges.append((0,i))\n",
    "    for i in range(total_number_of_cliq):\n",
    "        edges.append((0,offset))\n",
    "        edges.extend(creat_random_connected(offset,list_of_sizes[i]))\n",
    "        offset += list_of_sizes[i]\n",
    "        \n",
    "    return [total_vert,edges]\n"
   ]
  },
  {
   "cell_type": "code",
   "execution_count": 16,
   "metadata": {},
   "outputs": [],
   "source": [
    "def comm_surr_comm(middle_size,outer_size,count_outer,beta):\n",
    "    edges = []\n",
    "\n",
    "    if(middle_size < count_outer):\n",
    "        print(\"add more vertices to middle comm\")\n",
    "        return None\n",
    "\n",
    "#     g = Graph()\n",
    "    total_vert = count_outer*outer_size + middle_size\n",
    "#     g.add_vertices(total_vert)\n",
    "\n",
    "    edges.extend(creat_random_connected(0,middle_size))\n",
    "    \n",
    "    offset = middle_size\n",
    "    for i in range(count_outer):\n",
    "        edges.extend(creat_random_connected(offset,outer_size))\n",
    "        beta1 = beta\n",
    "        for j in range(offset,offset + outer_size):\n",
    "            if(beta1 == 0):\n",
    "                break\n",
    "            beta1 -= 1\n",
    "            edges.append((i,j))\n",
    "        offset += outer_size\n",
    "\n",
    "    return [total_vert,edges]\n"
   ]
  },
  {
   "cell_type": "code",
   "execution_count": 17,
   "metadata": {},
   "outputs": [],
   "source": [
    "def hub_node_graph(left_size,right_size):\n",
    "    edges = []\n",
    "\n",
    "#     g = Graph()\n",
    "    total_vert = left_size + right_size + 1\n",
    "#     g.add_vertices(total_vert)\n",
    "    \n",
    "    hub_node = 0\n",
    "    offset_right = left_size + 1\n",
    "    \n",
    "    edges.extend(creat_random_connected(0,left_size + 1))\n",
    "    edges.extend(creat_random_connected(offset_right,right_size))\n",
    "\n",
    "    for i in range(right_size):\n",
    "        edges.append((0,offset_right + i));\n",
    "#     print(edges)\n",
    "#     g.add_edges(edges)\n",
    "    return [total_vert, edges]\n"
   ]
  },
  {
   "cell_type": "code",
   "execution_count": 18,
   "metadata": {},
   "outputs": [],
   "source": [
    "def ring_of_clique_temp(ring_size , clique_list):\n",
    "\n",
    "    total_vert = sum(clique_list);\n",
    "\n",
    "    edges = creat_random_connected(0,clique_list[0]);\n",
    "\n",
    "    offset = clique_list[0]\n",
    "    prev_connector = offset - 1\n",
    "\n",
    "    for i in range(1,ring_size):\n",
    "        new_clique = creat_random_connected(offset,clique_list[i]);\n",
    "        new_clique.append((prev_connector,offset))\n",
    "        edges.extend(new_clique)\n",
    "        offset += clique_list[i]\n",
    "        prev_connector += clique_list[i]\n",
    "\n",
    "    edges.append((0,prev_connector))\n",
    "\n",
    "    return [total_vert, edges]"
   ]
  },
  {
   "cell_type": "code",
   "execution_count": 19,
   "metadata": {},
   "outputs": [],
   "source": [
    "def run_infomap(total_vert,edges):\n",
    "    im = Infomap(\"--two-level --directed\")\n",
    "#     im.add_link(0, 1)\n",
    "    for i in edges:\n",
    "        im.addLink(i[0],i[1])\n",
    "        im.addLink(i[1],i[0])\n",
    "    im.run()\n",
    "    sets = {}\n",
    "\n",
    "#     print(\"Found \" + str(im.num_top_modules)+ \" modules with codelength: \" + str(im.codelength))\n",
    "    print(\"Result\")\n",
    "    print(\"\\n#node module\")\n",
    "    for node in im.tree:\n",
    "        if node.is_leaf:\n",
    "            if(node.module_id in sets):\n",
    "                sets[node.module_id].append(node.node_id)\n",
    "            else:\n",
    "                sets[node.module_id] = [node.node_id]\n",
    "            print(node.node_id, node.module_id)\n",
    "    print(\"total partitions : \" + str(len(sets.keys())) )\n",
    "    for i in sets.keys():\n",
    "        print (\"[\" + str(i) + \"] : \"),\n",
    "        print(sets[i])\n",
    "        \n",
    "    g = Graph()\n",
    "    g.add_vertices(total_vert)\n",
    "    g.add_edges(edges)\n",
    "    Print(g,total_vert)"
   ]
  },
  {
   "cell_type": "code",
   "execution_count": 20,
   "metadata": {},
   "outputs": [],
   "source": [
    "def hub_node_generic(x,y,alpha,beta):\n",
    "    total_vert = x + y + 1 + alpha + beta;\n",
    "    x,y = y,x\n",
    "    alpha,beta = beta,alpha\n",
    "    x = x + alpha\n",
    "    y = y + beta\n",
    "    edges = creat_random_connected(1,y);\n",
    "    offset = y + 1;\n",
    "    edges.extend(creat_random_connected(offset,x));\n",
    "\n",
    "    for i in range(1,y + 1):\n",
    "        if(beta == 0):\n",
    "            break\n",
    "        edges.append((0,i))\n",
    "        beta -= 1\n",
    "    for i in range(y + 1,y + x + 1):\n",
    "        if(alpha == 0):\n",
    "            break\n",
    "        edges.append((0,i))\n",
    "        alpha -= 1\n",
    "\n",
    "    return [total_vert, edges]"
   ]
  },
  {
   "cell_type": "code",
   "execution_count": 21,
   "metadata": {},
   "outputs": [
    {
     "name": "stdout",
     "output_type": "stream",
     "text": [
      "{0: {0, 1, 2, 3}}\n"
     ]
    }
   ],
   "source": [
    "def run_label_prop(total_vert,edges):\n",
    "    G = nx.Graph()\n",
    "    G.add_nodes_from(range(total_vert))\n",
    "    G.add_edges_from(edges)\n",
    "#     nx.draw_networkx(G)\n",
    "    cnt = 0;\n",
    "    dict1 = {}\n",
    "    for i in nx.algorithms.community.label_propagation.asyn_lpa_communities(G):\n",
    "        dict1[cnt] = i\n",
    "        cnt += 1\n",
    "    return dict1\n",
    "        \n",
    "print(run_label_prop(4,[(0,1),(2,1),(0,2),(3,1)]))"
   ]
  },
  {
   "cell_type": "code",
   "execution_count": 22,
   "metadata": {},
   "outputs": [],
   "source": [
    "def run_spinglass(total_vert,edges,gam):\n",
    "    G = Graph()\n",
    "    G.add_vertices(total_vert)\n",
    "    G.add_edges(edges)\n",
    "    \n",
    "    G_NX = nx.Graph()\n",
    "    G_NX.add_nodes_from(range(total_vert))\n",
    "    G_NX.add_edges_from(edges)\n",
    "    e =  naive_greedy_modularity_communities(G_NX,gamma = gam);\n",
    "    dict1 = {}\n",
    "    cnt = 0\n",
    "    for i in e:\n",
    "        dict1[cnt] = list(i)\n",
    "        cnt += 1\n",
    "        \n",
    "    return dict1"
   ]
  },
  {
   "cell_type": "code",
   "execution_count": 23,
   "metadata": {},
   "outputs": [],
   "source": [
    "def run_louvain(total_vert,edges):\n",
    "                \n",
    "    g = Graph()\n",
    "    g.add_vertices(total_vert)\n",
    "    g.add_edges(edges)\n",
    "    e = g.community_multilevel()\n",
    "#     print(e)\n",
    "    dict1 = {}\n",
    "    cnt = 0\n",
    "    for i in e:\n",
    "        dict1[cnt] = list(i)\n",
    "        cnt += 1\n",
    "    return dict1"
   ]
  },
  {
   "cell_type": "code",
   "execution_count": 24,
   "metadata": {},
   "outputs": [],
   "source": [
    "def run_spinglass_c(total_vert, edges,gamma):\n",
    "    try:\n",
    "        returned_value = subprocess.check_output(\"rm input.txt\", shell = True)\n",
    "        returned_value = subprocess.check_output(\"rm output.txt\", shell = True)\n",
    "    except:\n",
    "        it = 0\n",
    "    input_file = open(\"input.txt\", \"w\")\n",
    "    input_file.write(str(total_vert) + \" \" + str(len(edges)) + \" \" +  str(gamma) + \"\\n\")\n",
    "#     print(str(total_vert) + \" \" + str(len(edges)) +  str(gamma) + \"\\n\")\n",
    "    for i in edges:\n",
    "        m1 = i[0]\n",
    "        m2 = i[1]\n",
    "        input_file.write(str(m1) + \" \" + str(m2) + \"\\n\")\n",
    "#         input_file.write(str(m2) + \" \" + str(m1) + \"\\n\")\n",
    "    input_file.close()\n",
    "    \n",
    "    returned_value = subprocess.check_output(\"./a.out < input.txt > output.txt\", shell = True)\n",
    "    returned_value = returned_value.decode(\"utf-8\")\n",
    "    \n",
    "    #print(returned_value)\n",
    "    \n",
    "    output_file = open(\"output.txt\",\"r\")\n",
    "    partitions = output_file.readlines() \n",
    "    \n",
    "    l = partitions[0].split(\" \")\n",
    "    print(l)\n",
    "    dicti = {}\n",
    "    for i in range(total_vert):\n",
    "        try:\n",
    "            if(int(l[i]) in dicti):\n",
    "                dicti[int(l[i])].append(i)\n",
    "            else:\n",
    "                dicti[int(l[i])] = [i]\n",
    "        except:\n",
    "            m = 0\n",
    "    try:\n",
    "        returned_value = subprocess.check_output(\"rm input.dat\", shell = True)\n",
    "        returned_value = subprocess.check_output(\"rm output.txt\", shell = True)\n",
    "    except:\n",
    "        it = 0\n",
    "#     print(\"total partitions : \" + str(len(dicti.keys())) )\n",
    "#     for i in dicti.keys():\n",
    "#         print (\"[\" + str(i) + \"] : \"),\n",
    "#         print(list(dicti[i]))\n",
    "    return dicti\n",
    "    "
   ]
  },
  {
   "cell_type": "code",
   "execution_count": 24,
   "metadata": {},
   "outputs": [
    {
     "name": "stdout",
     "output_type": "stream",
     "text": [
      "{0: [0, 1], 1: [2], 2: [3], 3: [4], 4: [5], 5: [6], 6: [7], 7: [8], 8: [9], 9: [10], 10: [11], 11: [12], 12: [13], 13: [14], 14: [15], 15: [16], 16: [17], 17: [18], 18: [19], 19: [20], 20: [21], 21: [22], 22: [23], 23: [24], 24: [25], 25: [26], 26: [27], 27: [28], 28: [29], 29: [30], 30: [31], 31: [32], 32: [33], 33: [34], 34: [35], 35: [36], 36: [37], 37: [38], 38: [39], 39: [40], 40: [41], 41: [42], 42: [43], 43: [44]}\n"
     ]
    }
   ],
   "source": [
    "graph = hub_node_generic(19,19,3,3)\n",
    "part = run_spinglass(graph[0],graph[1],7)\n",
    "print(part)"
   ]
  },
  {
   "cell_type": "markdown",
   "metadata": {},
   "source": [
    "# Modularity\n",
    "# Hub\n",
    "\n",
    "1 => hub node was merged with left community\n",
    "\n",
    "0 => hub node was merged with right community\n",
    "\n",
    "2 => whole graph was considered as one community\n"
   ]
  },
  {
   "cell_type": "code",
   "execution_count": 33,
   "metadata": {},
   "outputs": [
    {
     "name": "stdout",
     "output_type": "stream",
     "text": [
      "20\n",
      "1 2 3 4 5 6 7 8 9 10 11 12 13 14 15 16 17 18 19 20 20 len\n",
      "19\n",
      "1 2 3 4 5 6 7 8 9 10 11 12 13 14 15 16 17 18 19 20 20 len\n",
      "18\n",
      "1 2 3 4 5 6 7 8 9 10 11 12 13 14 15 16 17 18 19 20 20 len\n",
      "17\n",
      "1 2 3 4 5 6 7 8 9 10 11 12 13 14 15 16 17 18 19 20 20 len\n",
      "16\n",
      "1 2 3 4 5 6 7 8 9 10 11 12 13 14 15 16 17 18 19 20 20 len\n",
      "15\n",
      "1 2 3 4 5 6 7 8 9 10 11 12 13 14 15 16 17 18 19 20 20 len\n",
      "14\n",
      "1 2 3 4 5 6 7 8 9 10 11 12 13 14 15 16 17 18 19 20 20 len\n",
      "13\n",
      "1 2 3 4 5 6 7 8 9 10 11 12 13 14 15 16 17 18 19 20 20 len\n",
      "12\n",
      "1 2 3 4 5 6 7 8 9 10 11 12 13 14 15 16 17 18 19 20 20 len\n",
      "11\n",
      "1 2 3 4 5 6 7 8 9 10 11 12 13 14 15 16 17 18 19 20 20 len\n",
      "10\n",
      "1 2 3 4 5 6 7 8 9 10 11 12 13 14 15 16 17 18 19 20 20 len\n",
      "9\n",
      "1 2 3 4 5 6 7 8 9 10 11 12 13 14 15 16 17 18 19 20 20 len\n",
      "8\n",
      "1 2 3 4 5 6 7 8 9 10 11 12 13 14 15 16 17 18 19 20 20 len\n",
      "7\n",
      "1 2 3 4 5 6 7 8 9 10 11 12 13 14 15 16 17 18 19 20 20 len\n",
      "6\n",
      "1 2 3 4 5 6 7 8 9 10 11 12 13 14 15 16 17 18 19 20 20 len\n",
      "5\n",
      "1 2 3 4 5 6 7 8 9 10 11 12 13 14 15 16 17 18 19 20 20 len\n",
      "4\n",
      "1 2 3 4 5 6 7 8 9 10 11 12 13 14 15 16 17 18 19 20 20 len\n",
      "3\n",
      "1 2 3 4 5 6 7 8 9 10 11 12 13 14 15 16 17 18 19 20 20 len\n",
      "2\n",
      "1 2 3 4 5 6 7 8 9 10 11 12 13 14 15 16 17 18 19 20 20 len\n",
      "1\n",
      "1 2 3 4 5 6 7 8 9 10 11 12 13 14 15 16 17 18 19 20 20 len\n"
     ]
    },
    {
     "data": {
      "image/png": "[encoded data removed]",
      "text/plain": [
       "<Figure size 432x288 with 2 Axes>"
      ]
     },
     "metadata": {
      "needs_background": "light"
     },
     "output_type": "display_data"
    }
   ],
   "source": [
    "x_val = [i for i in range(1,21)]\n",
    "y_val = [i for i in range(1,21)]\n",
    "y_val.reverse()\n",
    "alpha = 10\n",
    "beta = 10\n",
    "matrix_ans = []\n",
    "for j in y_val:\n",
    "    temp = []\n",
    "    print(j)\n",
    "    for i in x_val:\n",
    "        print(i,end = \" \")\n",
    "        graph = hub_node_generic(i,j,alpha,beta)\n",
    "        part = run_louvain(graph[0],graph[1])\n",
    "        if(len(part) == 1):\n",
    "            temp.append(2)\n",
    "            continue;\n",
    "        for i1 in part:\n",
    "            if(0 in part[i1]):\n",
    "                if(len(part[i1]) < 3):\n",
    "                    temp.append(3)\n",
    "                elif(max(part[i1]) <= (i + alpha) and max(part[i1]) != 0):\n",
    "                    temp.append(1)\n",
    "                    break\n",
    "                elif(max(part[i1]) <= (i + alpha + j + beta) and max(part[i1]) != 0):\n",
    "                    temp.append(0)\n",
    "                elif(max(part[i1]) == 0):\n",
    "                    temp.append(3)\n",
    "    print(len(temp),\"len\")\n",
    "    matrix_ans.append(temp)\n",
    "\n",
    "sns.heatmap(matrix_ans,xticklabels=x_val, yticklabels=y_val)\n",
    "plt.xlabel(\"left clique size\")\n",
    "plt.ylabel(\"right clique size\")\n",
    "plt.show()"
   ]
  },
  {
   "cell_type": "markdown",
   "metadata": {},
   "source": [
    "### CASE 2: Varying alpha and beta \n",
    "\n",
    "1 => hub node was merged with left community\n",
    "\n",
    "0 => hub node was merged with right community\n",
    "\n",
    "2 => whole graph was considered as one community\n"
   ]
  },
  {
   "cell_type": "code",
   "execution_count": 34,
   "metadata": {
    "scrolled": true
   },
   "outputs": [
    {
     "data": {
      "image/png": "[encoded data removed]",
      "text/plain": [
       "<Figure size 432x288 with 2 Axes>"
      ]
     },
     "metadata": {
      "needs_background": "light"
     },
     "output_type": "display_data"
    }
   ],
   "source": [
    "alpha_val = [i for i in range(5,31)]\n",
    "beta_val = [i for i in range(5,31)]\n",
    "beta_val.reverse()\n",
    "x = 10\n",
    "y = 10\n",
    "matrix_ans = []\n",
    "for beta in beta_val:\n",
    "    temp = []\n",
    "    for alpha in alpha_val:\n",
    "        graph = hub_node_generic(x,y,alpha,beta)\n",
    "        part = run_louvain(graph[0],graph[1])\n",
    "        if(len(part) == 1):\n",
    "            temp.append(2)\n",
    "            continue;\n",
    "        for i1 in part:\n",
    "            if(0 in part[i1]):\n",
    "                if(len(part[i1]) < 3):\n",
    "                    temp.append(3)\n",
    "                elif(max(part[i1]) <= (i + alpha) and max(part[i1]) != 0):\n",
    "                    temp.append(1)\n",
    "                    break\n",
    "                elif(max(part[i1]) <= (i + alpha + j + beta) and max(part[i1]) != 0):\n",
    "                    temp.append(0)\n",
    "                elif(max(part[i1]) == 0):\n",
    "                    temp.append(3)\n",
    "    matrix_ans.append(temp)\n",
    "\n",
    "sns.heatmap(matrix_ans,xticklabels=alpha_val, yticklabels=beta_val)\n",
    "plt.xlabel(\"alpha \")\n",
    "plt.ylabel(\"beta \")\n",
    "plt.show()"
   ]
  },
  {
   "cell_type": "markdown",
   "metadata": {},
   "source": [
    "# ring of cliques\n",
    "\n",
    "### CASE 1: Varying x and y \n",
    "\n",
    "1 => Some of the cliques were merged together\n",
    "\n",
    "0 => None of the cliques were merged together\n",
    "\n",
    "2 => not even those small cliques were identified correctly\n"
   ]
  },
  {
   "cell_type": "code",
   "execution_count": 35,
   "metadata": {},
   "outputs": [
    {
     "name": "stdout",
     "output_type": "stream",
     "text": [
      "15 14 13 12 11 10 9 8 7 6 5 4 3 "
     ]
    },
    {
     "data": {
      "image/png": "[encoded data removed]",
      "text/plain": [
       "<Figure size 432x288 with 2 Axes>"
      ]
     },
     "metadata": {
      "needs_background": "light"
     },
     "output_type": "display_data"
    }
   ],
   "source": [
    "x_val = [i for i in range(3,21)]\n",
    "y_val = [i for i in range(3,16)]\n",
    "y_val.reverse()\n",
    "matrix_ans = []\n",
    "for y in y_val:\n",
    "    print(y,end = \" \")\n",
    "    temp = []\n",
    "    for x in x_val:\n",
    "        graph = ring_of_clique(x,y)\n",
    "#         part = run_spinglass(graph[0],graph[1],1)\n",
    "        part = run_louvain(graph[0],graph[1])\n",
    "        if(len(part) == x):\n",
    "            temp.append(1)\n",
    "        elif(len(part) < x):\n",
    "            temp.append(0)\n",
    "        else:\n",
    "            temp.append(2)\n",
    "    matrix_ans.append(temp)\n",
    "\n",
    "sns.heatmap(matrix_ans,xticklabels=x_val, yticklabels=y_val)\n",
    "plt.xlabel(\"total ring size \")\n",
    "plt.ylabel(\"each clique size \")\n",
    "plt.show()"
   ]
  },
  {
   "cell_type": "markdown",
   "metadata": {},
   "source": [
    "# comm surrounded by community\n",
    "\n",
    "### CASE 1: Varying x and y \n",
    "\n",
    "1 => each and every clique were correctly identified\n",
    "\n",
    "0 => each node from main clique merged into its respective clique\n",
    "\n",
    "2 => exception cases\n",
    "\n"
   ]
  },
  {
   "cell_type": "code",
   "execution_count": 28,
   "metadata": {},
   "outputs": [
    {
     "data": {
      "image/png": "[encoded data removed]",
      "text/plain": [
       "<Figure size 432x288 with 2 Axes>"
      ]
     },
     "metadata": {
      "needs_background": "light"
     },
     "output_type": "display_data"
    }
   ],
   "source": [
    "x_val = [i for i in range(40,55)]\n",
    "y_val = [i for i in range(5,14)]\n",
    "alpha = 5\n",
    "beta = 5\n",
    "y_val.reverse()\n",
    "matrix_ans = []\n",
    "for y in y_val:\n",
    "    temp = []\n",
    "    for x in x_val:\n",
    "        graph = comm_surr_comm(x,y,alpha,beta)\n",
    "        part = run_louvain(graph[0],graph[1])\n",
    "        if(len(part) == (alpha + 1) or alpha == len(part)):\n",
    "            flag = 1\n",
    "            for i in range(x):\n",
    "                for j in part:\n",
    "                    if(i in part[j]):\n",
    "                        if(max(part[j]) in range(x)):\n",
    "                            continue\n",
    "                        else:\n",
    "                            flag = 0\n",
    "                            break\n",
    "                if(flag == 0):\n",
    "                    break\n",
    "            temp.append(flag)\n",
    "    \n",
    "        else:\n",
    "            temp.append(2)\n",
    "            \n",
    "    matrix_ans.append(temp)\n",
    "\n",
    "sns.heatmap(matrix_ans,xticklabels=x_val, yticklabels=y_val)\n",
    "plt.xlabel(\"main clique size \")\n",
    "plt.ylabel(\"each outer clique size \")\n",
    "plt.show()"
   ]
  },
  {
   "cell_type": "markdown",
   "metadata": {},
   "source": [
    "### CASE 2: Varying alpha and beta \n",
    "\n",
    "1 => each and every clique were correctly identified\n",
    "\n",
    "0 => each node from main clique merged into its respective clique\n",
    "\n",
    "2 => exception cases\n",
    "\n"
   ]
  },
  {
   "cell_type": "code",
   "execution_count": 34,
   "metadata": {},
   "outputs": [
    {
     "name": "stdout",
     "output_type": "stream",
     "text": [
      "34 33 32 31 30 29 28 27 26 25 "
     ]
    },
    {
     "data": {
      "image/png": "[encoded data removed]",
      "text/plain": [
       "<Figure size 432x288 with 2 Axes>"
      ]
     },
     "metadata": {
      "needs_background": "light"
     },
     "output_type": "display_data"
    }
   ],
   "source": [
    "alpha_val = [i for i in range(5,30)]\n",
    "beta_val = [i for i in range(25,35)]\n",
    "beta_val.reverse()\n",
    "x = 30\n",
    "y = 35\n",
    "matrix_ans = []\n",
    "for beta in beta_val:\n",
    "    print(beta,end = \" \")\n",
    "    temp = []\n",
    "    for alpha in alpha_val:\n",
    "        graph = comm_surr_comm(x,y ,alpha,beta)\n",
    "        part = run_louvain(graph[0],graph[1])\n",
    "        if(len(part) == (alpha + 1) or alpha == len(part)):\n",
    "            flag = 1\n",
    "            for i in range(x):\n",
    "                for j in part:\n",
    "                    if(i in part[j]):\n",
    "                        if(max(part[j]) < x):\n",
    "                            continue\n",
    "                        else:\n",
    "                            flag = 0\n",
    "                            break\n",
    "                if(flag == 0):\n",
    "                    break\n",
    "            temp.append(flag)\n",
    "    \n",
    "        else:\n",
    "            print(len(part),alpha,beta)\n",
    "            print(part)\n",
    "            temp.append(2)\n",
    "#         print(part,flag)\n",
    "            \n",
    "    matrix_ans.append(temp)\n",
    "\n",
    "sns.heatmap(matrix_ans,xticklabels=alpha_val, yticklabels=beta_val)\n",
    "plt.xlabel(\"alpha \")\n",
    "plt.ylabel(\"beta \")\n",
    "plt.show()"
   ]
  },
  {
   "cell_type": "markdown",
   "metadata": {},
   "source": [
    "# maxperm \n",
    "## Hub\n",
    "###   Case 1 varying x and y\n",
    "\n",
    "1 => hub node was merged with left community\n",
    "\n",
    "0 => hub node was merged with right community\n",
    "\n",
    "2 => whole graph was considered as one community"
   ]
  },
  {
   "cell_type": "code",
   "execution_count": 30,
   "metadata": {},
   "outputs": [
    {
     "name": "stdout",
     "output_type": "stream",
     "text": [
      "20\n",
      "1 2 3 4 5 6 7 8 9 10 11 12 13 14 15 16 17 18 19 20 20 len\n",
      "19\n",
      "1 2 3 4 5 6 7 8 9 10 11 12 13 14 15 16 17 18 19 20 20 len\n",
      "18\n",
      "1 2 3 4 5 6 7 8 9 10 11 12 13 14 15 16 17 18 19 20 20 len\n",
      "17\n",
      "1 2 3 4 5 6 7 8 9 10 11 12 13 14 15 16 17 18 19 20 20 len\n",
      "16\n",
      "1 2 3 4 5 6 7 8 9 10 11 12 13 14 15 16 17 18 19 20 20 len\n",
      "15\n",
      "1 2 3 4 5 6 7 8 9 10 11 12 13 14 15 16 17 18 19 20 20 len\n",
      "14\n",
      "1 2 3 4 5 6 7 8 9 10 11 12 13 14 15 16 17 18 19 20 20 len\n",
      "13\n",
      "1 2 3 4 5 6 7 8 9 10 11 12 13 14 15 16 17 18 19 20 20 len\n",
      "12\n",
      "1 2 3 4 5 6 7 8 9 10 11 12 13 14 15 16 17 18 19 20 20 len\n",
      "11\n",
      "1 2 3 4 5 6 7 8 9 10 11 12 13 14 15 16 17 18 19 20 20 len\n",
      "10\n",
      "1 2 3 4 5 6 7 8 9 10 11 12 13 14 15 16 17 18 19 20 20 len\n",
      "9\n",
      "1 2 3 4 5 6 7 8 9 10 11 12 13 14 15 16 17 18 19 20 20 len\n",
      "8\n",
      "1 2 3 4 5 6 7 8 9 10 11 12 13 14 15 16 17 18 19 20 20 len\n",
      "7\n",
      "1 2 3 4 5 6 7 8 9 10 11 12 13 14 15 16 17 18 19 20 20 len\n",
      "6\n",
      "1 2 3 4 5 6 7 8 9 10 11 12 13 14 15 16 17 18 19 20 20 len\n",
      "5\n",
      "1 2 3 4 5 6 7 8 9 10 11 12 13 14 15 16 17 18 19 20 20 len\n",
      "4\n",
      "1 2 3 4 5 6 7 8 9 10 11 12 13 14 15 16 17 18 19 20 20 len\n",
      "3\n",
      "1 2 3 4 5 6 7 8 9 10 11 12 13 14 15 16 17 18 19 20 20 len\n",
      "2\n",
      "1 2 3 4 5 6 7 8 9 10 11 12 13 14 15 16 17 18 19 20 20 len\n",
      "1\n",
      "1 2 3 4 5 6 7 8 9 10 11 12 13 14 15 16 17 18 19 20 20 len\n"
     ]
    },
    {
     "data": {
      "image/png": "[encoded data removed]",
      "text/plain": [
       "<Figure size 432x288 with 2 Axes>"
      ]
     },
     "metadata": {
      "needs_background": "light"
     },
     "output_type": "display_data"
    }
   ],
   "source": [
    "x_val = [i for i in range(1,21)]\n",
    "y_val = [i for i in range(1,21)]\n",
    "y_val.reverse()\n",
    "alpha = 10\n",
    "beta = 10\n",
    "matrix_ans = []\n",
    "for j in y_val:\n",
    "    temp = []\n",
    "    print(j)\n",
    "    for i in x_val:\n",
    "        print(i,end = \" \")\n",
    "        graph = hub_node_generic(i,j,alpha,beta)\n",
    "        part = run_maxperm(graph[0],graph[1])\n",
    "        if(len(part) == 1):\n",
    "            temp.append(0)\n",
    "            continue;\n",
    "        for i1 in part:\n",
    "            if(0 in part[i1]):\n",
    "                if(len(part[i1]) < 3):\n",
    "                    temp.append(3)\n",
    "                elif(max(part[i1]) <= (i + alpha) and max(part[i1]) != 0):\n",
    "                    temp.append(1)\n",
    "                    break\n",
    "                elif(max(part[i1]) <= (i + alpha + j + beta) and max(part[i1]) != 0):\n",
    "                    temp.append(0)\n",
    "                elif(max(part[i1]) == 0):\n",
    "                    temp.append(3)\n",
    "    print(len(temp),\"len\")\n",
    "    matrix_ans.append(temp)\n",
    "\n",
    "sns.heatmap(matrix_ans,xticklabels=x_val, yticklabels=y_val)\n",
    "plt.xlabel(\"left clique size\")\n",
    "plt.ylabel(\"right clique size\")\n",
    "plt.show()"
   ]
  },
  {
   "cell_type": "markdown",
   "metadata": {},
   "source": [
    "### CASE 2: Varying alpha and beta \n",
    "\n",
    "1 => hub node was merged with left community\n",
    "\n",
    "0 => hub node was merged with right community\n",
    "\n",
    "2 => whole graph was considered as one community\n",
    "\n",
    "https://www.desmos.com/calculator/gjm394ys6u"
   ]
  },
  {
   "cell_type": "code",
   "execution_count": 32,
   "metadata": {},
   "outputs": [
    {
     "data": {
      "image/png": "[encoded data removed]",
      "text/plain": [
       "<Figure size 432x288 with 2 Axes>"
      ]
     },
     "metadata": {
      "needs_background": "light"
     },
     "output_type": "display_data"
    }
   ],
   "source": [
    "alpha_val = [i for i in range(5,31)]\n",
    "beta_val = [i for i in range(5,31)]\n",
    "beta_val.reverse()\n",
    "x = 10\n",
    "y = 10\n",
    "matrix_ans = []\n",
    "for beta in beta_val:\n",
    "    temp = []\n",
    "    for alpha in alpha_val:\n",
    "        graph = hub_node_generic(x,y,alpha,beta)\n",
    "        part = run_maxperm(graph[0],graph[1])\n",
    "        if(len(part) == 1):\n",
    "            temp.append(2)\n",
    "            continue;\n",
    "        for i1 in part:\n",
    "            if(0 in part[i1]):\n",
    "                if(len(part[i1]) < 3):\n",
    "                    temp.append(3)\n",
    "                elif(max(part[i1]) <= (i + alpha) and max(part[i1]) != 0):\n",
    "                    temp.append(1)\n",
    "                    break\n",
    "                elif(max(part[i1]) <= (i + alpha + j + beta) and max(part[i1]) != 0):\n",
    "                    temp.append(0)\n",
    "                elif(max(part[i1]) == 0):\n",
    "                    temp.append(3)\n",
    "    matrix_ans.append(temp)\n",
    "\n",
    "sns.heatmap(matrix_ans,xticklabels=alpha_val, yticklabels=beta_val)\n",
    "plt.xlabel(\"alpha \")\n",
    "plt.ylabel(\"beta \")\n",
    "plt.show()"
   ]
  },
  {
   "cell_type": "markdown",
   "metadata": {},
   "source": [
    "# ring of cliques\n",
    "\n",
    "### CASE 1: Varying x and y \n",
    "\n",
    "1 => Some of the cliques were merged together\n",
    "\n",
    "0 => None of the cliques were merged together\n",
    "\n",
    "2 => not even those small cliques were identified correctly\n"
   ]
  },
  {
   "cell_type": "code",
   "execution_count": 33,
   "metadata": {},
   "outputs": [
    {
     "name": "stdout",
     "output_type": "stream",
     "text": [
      "15 14 13 12 11 10 9 8 7 6 5 4 3 "
     ]
    },
    {
     "data": {
      "image/png": "[encoded data removed]",
      "text/plain": [
       "<Figure size 432x288 with 2 Axes>"
      ]
     },
     "metadata": {
      "needs_background": "light"
     },
     "output_type": "display_data"
    }
   ],
   "source": [
    "x_val = [i for i in range(3,21)]\n",
    "y_val = [i for i in range(3,16)]\n",
    "y_val.reverse()\n",
    "matrix_ans = []\n",
    "for y in y_val:\n",
    "    print(y,end = \" \")\n",
    "    temp = []\n",
    "    for x in x_val:\n",
    "        graph = ring_of_clique(x,y)\n",
    "#         part = run_spinglass(graph[0],graph[1],1)\n",
    "        part = run_maxperm(graph[0],graph[1])\n",
    "        if(len(part) == x):\n",
    "            temp.append(1)\n",
    "        elif(len(part) < x):\n",
    "            temp.append(0)\n",
    "        else:\n",
    "            temp.append(2)\n",
    "    matrix_ans.append(temp)\n",
    "\n",
    "sns.heatmap(matrix_ans,xticklabels=x_val, yticklabels=y_val)\n",
    "plt.xlabel(\"total ring size \")\n",
    "plt.ylabel(\"each clique size \")\n",
    "plt.show()"
   ]
  },
  {
   "cell_type": "markdown",
   "metadata": {},
   "source": [
    "# comm surrounded by community\n",
    "\n",
    "### CASE 1: Varying x and y \n",
    "\n",
    "1 => each and every clique were correctly identified\n",
    "\n",
    "0 => each node from main clique merged into its respective clique\n",
    "\n",
    "2 => exception cases\n",
    "\n"
   ]
  },
  {
   "cell_type": "code",
   "execution_count": 52,
   "metadata": {},
   "outputs": [
    {
     "name": "stdout",
     "output_type": "stream",
     "text": [
      "30 29 28 27 26 25 24 23 22 21 20 19 18 17 16 15 14 13 12 11 "
     ]
    },
    {
     "data": {
      "image/png": "[encoded data removed]",
      "text/plain": [
       "<Figure size 432x288 with 2 Axes>"
      ]
     },
     "metadata": {
      "needs_background": "light"
     },
     "output_type": "display_data"
    }
   ],
   "source": [
    "x_val = [i for i in range(11,31)]\n",
    "y_val = [i for i in range(11,31)]\n",
    "alpha = 10\n",
    "beta = 10\n",
    "y_val.reverse()\n",
    "matrix_ans = []\n",
    "for y in y_val:\n",
    "    print(y,end = \" \")\n",
    "    temp = []\n",
    "    for x in x_val:\n",
    "        graph = comm_surr_comm(x,y,alpha,beta)\n",
    "        part = run_maxperm(graph[0],graph[1])\n",
    "        if(len(part) == (alpha + 1) or len(part) == (alpha)):\n",
    "            flag = 1\n",
    "            for i in range(x):\n",
    "                for j in part:\n",
    "                    if(i in part[j]):\n",
    "                        if(max(part[j]) in range(x)):\n",
    "                            continue\n",
    "                        else:\n",
    "                            flag = 0\n",
    "                            break\n",
    "                if(flag == 0):\n",
    "                    break\n",
    "            temp.append(flag)\n",
    "    \n",
    "        else:\n",
    "            temp.append(2)\n",
    "            \n",
    "    matrix_ans.append(temp)\n",
    "\n",
    "sns.heatmap(matrix_ans,xticklabels=x_val, yticklabels=y_val)\n",
    "plt.xlabel(\"main clique size \")\n",
    "plt.ylabel(\"each outer clique size \")\n",
    "plt.show()"
   ]
  },
  {
   "cell_type": "markdown",
   "metadata": {},
   "source": [
    "### CASE 2: Varying alpha and beta \n",
    "\n",
    "1 => each and every clique were correctly identified\n",
    "\n",
    "0 => each node from main clique merged into its respective clique\n",
    "\n",
    "2 => exception cases\n",
    "\n"
   ]
  },
  {
   "cell_type": "code",
   "execution_count": 30,
   "metadata": {},
   "outputs": [
    {
     "name": "stdout",
     "output_type": "stream",
     "text": [
      "20 19 18 17 16 15 14 13 12 11 10 9 8 7 6 5 "
     ]
    },
    {
     "data": {
      "image/png": "[encoded data removed]",
      "text/plain": [
       "<Figure size 432x288 with 2 Axes>"
      ]
     },
     "metadata": {
      "needs_background": "light"
     },
     "output_type": "display_data"
    }
   ],
   "source": [
    "alpha_val = [i for i in range(5,21)]\n",
    "beta_val = [i for i in range(5,21)]\n",
    "beta_val.reverse()\n",
    "x = 10\n",
    "y = 10\n",
    "matrix_ans = []\n",
    "for beta in beta_val:\n",
    "    print(beta, end = \" \")\n",
    "    temp = []\n",
    "    for alpha in alpha_val:\n",
    "        graph = comm_surr_comm(x + alpha,y + beta,alpha,beta)\n",
    "        part = run_maxperm(graph[0],graph[1])\n",
    "        if(len(part) == (alpha + 1) or alpha == len(part)):\n",
    "            flag = 1\n",
    "            for i in range(x):\n",
    "                for j in part:\n",
    "                    if(i in part[j]):\n",
    "                        if(max(part[j]) < x):\n",
    "                            continue\n",
    "                        else:\n",
    "                            flag = 0\n",
    "                            break\n",
    "                if(flag == 0):\n",
    "                    break\n",
    "            temp.append(flag)\n",
    "    \n",
    "        else:\n",
    "            temp.append(2)\n",
    "#         print(part,flag)\n",
    "            \n",
    "    matrix_ans.append(temp)\n",
    "\n",
    "sns.heatmap(matrix_ans,xticklabels=alpha_val, yticklabels=beta_val)\n",
    "plt.xlabel(\"alpha \")\n",
    "plt.ylabel(\"beta \")\n",
    "plt.show()"
   ]
  },
  {
   "cell_type": "markdown",
   "metadata": {},
   "source": [
    "# Label Propagation\n",
    "\n",
    "## Hub\n",
    "###   Case 1 varying x and y\n",
    "\n",
    "1 => hub node was merged with left community\n",
    "\n",
    "0 => hub node was merged with right community\n",
    "\n",
    "2 => whole graph was considered as one community"
   ]
  },
  {
   "cell_type": "code",
   "execution_count": 39,
   "metadata": {},
   "outputs": [
    {
     "name": "stdout",
     "output_type": "stream",
     "text": [
      "20\n",
      "1 2 3 4 5 6 7 8 9 10 11 12 13 14 15 16 17 18 19 20 20 len\n",
      "19\n",
      "1 2 3 4 5 6 7 8 9 10 11 12 13 14 15 16 17 18 19 20 20 len\n",
      "18\n",
      "1 2 3 4 5 6 7 8 9 10 11 12 13 14 15 16 17 18 19 20 20 len\n",
      "17\n",
      "1 2 3 4 5 6 7 8 9 10 11 12 13 14 15 16 17 18 19 20 20 len\n",
      "16\n",
      "1 2 3 4 5 6 7 8 9 10 11 12 13 14 15 16 17 18 19 20 20 len\n",
      "15\n",
      "1 2 3 4 5 6 7 8 9 10 11 12 13 14 15 16 17 18 19 20 20 len\n",
      "14\n",
      "1 2 3 4 5 6 7 8 9 10 11 12 13 14 15 16 17 18 19 20 20 len\n",
      "13\n",
      "1 2 3 4 5 6 7 8 9 10 11 12 13 14 15 16 17 18 19 20 20 len\n",
      "12\n",
      "1 2 3 4 5 6 7 8 9 10 11 12 13 14 15 16 17 18 19 20 20 len\n",
      "11\n",
      "1 2 3 4 5 6 7 8 9 10 11 12 13 14 15 16 17 18 19 20 20 len\n",
      "10\n",
      "1 2 3 4 5 6 7 8 9 10 11 12 13 14 15 16 17 18 19 20 20 len\n",
      "9\n",
      "1 2 3 4 5 6 7 8 9 10 11 12 13 14 15 16 17 18 19 20 20 len\n",
      "8\n",
      "1 2 3 4 5 6 7 8 9 10 11 12 13 14 15 16 17 18 19 20 20 len\n",
      "7\n",
      "1 2 3 4 5 6 7 8 9 10 11 12 13 14 15 16 17 18 19 20 20 len\n",
      "6\n",
      "1 2 3 4 5 6 7 8 9 10 11 12 13 14 15 16 17 18 19 20 20 len\n",
      "5\n",
      "1 2 3 4 5 6 7 8 9 10 11 12 13 14 15 16 17 18 19 20 20 len\n",
      "4\n",
      "1 2 3 4 5 6 7 8 9 10 11 12 13 14 15 16 17 18 19 20 20 len\n",
      "3\n",
      "1 2 3 4 5 6 7 8 9 10 11 12 13 14 15 16 17 18 19 20 20 len\n",
      "2\n",
      "1 2 3 4 5 6 7 8 9 10 11 12 13 14 15 16 17 18 19 20 20 len\n",
      "1\n",
      "1 2 3 4 5 6 7 8 9 10 11 12 13 14 15 16 17 18 19 20 20 len\n"
     ]
    },
    {
     "data": {
      "image/png": "[encoded data removed]",
      "text/plain": [
       "<Figure size 432x288 with 2 Axes>"
      ]
     },
     "metadata": {
      "needs_background": "light"
     },
     "output_type": "display_data"
    }
   ],
   "source": [
    "x_val = [i for i in range(1,21)]\n",
    "y_val = [i for i in range(1,21)]\n",
    "y_val.reverse()\n",
    "alpha = 10\n",
    "beta = 10\n",
    "matrix_ans = []\n",
    "for j in y_val:\n",
    "    temp = []\n",
    "    print(j)\n",
    "    for i in x_val:\n",
    "        print(i,end = \" \")\n",
    "        graph = hub_node_generic(i,j,alpha,beta)\n",
    "        part = run_label_prop(graph[0],graph[1])\n",
    "        if(len(part) == 1):\n",
    "            temp.append(0)\n",
    "            continue;\n",
    "        for i1 in part:\n",
    "            if(0 in part[i1]):\n",
    "                if(len(part[i1]) < 3):\n",
    "                    temp.append(3)\n",
    "                elif(max(part[i1]) <= (i + alpha) and max(part[i1]) != 0):\n",
    "                    temp.append(1)\n",
    "                    break\n",
    "                elif(max(part[i1]) <= (i + alpha + j + beta) and max(part[i1]) != 0):\n",
    "                    temp.append(0)\n",
    "                elif(max(part[i1]) == 0):\n",
    "                    temp.append(3)\n",
    "    print(len(temp),\"len\")\n",
    "    matrix_ans.append(temp)\n",
    "\n",
    "sns.heatmap(matrix_ans,xticklabels=x_val, yticklabels=y_val)\n",
    "plt.xlabel(\"left clique size\")\n",
    "plt.ylabel(\"right clique size\")\n",
    "plt.show()"
   ]
  },
  {
   "cell_type": "markdown",
   "metadata": {},
   "source": [
    "### CASE 2: Varying alpha and beta \n",
    "\n",
    "1 => hub node was merged with left community\n",
    "\n",
    "0 => hub node was merged with right community\n",
    "\n",
    "2 => whole graph was considered as one community\n",
    "\n",
    "https://www.desmos.com/calculator/gjm394ys6u"
   ]
  },
  {
   "cell_type": "code",
   "execution_count": 40,
   "metadata": {},
   "outputs": [
    {
     "data": {
      "image/png": "[encoded data removed]",
      "text/plain": [
       "<Figure size 432x288 with 2 Axes>"
      ]
     },
     "metadata": {
      "needs_background": "light"
     },
     "output_type": "display_data"
    }
   ],
   "source": [
    "alpha_val = [i for i in range(5,31)]\n",
    "beta_val = [i for i in range(5,31)]\n",
    "beta_val.reverse()\n",
    "x = 10\n",
    "y = 10\n",
    "matrix_ans = []\n",
    "for beta in beta_val:\n",
    "    temp = []\n",
    "    for alpha in alpha_val:\n",
    "        graph = hub_node_generic(x,y,alpha,beta)\n",
    "        part = run_label_prop(graph[0],graph[1])\n",
    "        if(len(part) == 1):\n",
    "            temp.append(2)\n",
    "            continue;\n",
    "        for i1 in part:\n",
    "            if(0 in part[i1]):\n",
    "                if(len(part[i1]) < 3):\n",
    "                    temp.append(3)\n",
    "                elif(max(part[i1]) <= (i + alpha) and max(part[i1]) != 0):\n",
    "                    temp.append(1)\n",
    "                    break\n",
    "                elif(max(part[i1]) <= (i + alpha + j + beta) and max(part[i1]) != 0):\n",
    "                    temp.append(0)\n",
    "                elif(max(part[i1]) == 0):\n",
    "                    temp.append(3)\n",
    "    matrix_ans.append(temp)\n",
    "\n",
    "sns.heatmap(matrix_ans,xticklabels=alpha_val, yticklabels=beta_val)\n",
    "plt.xlabel(\"alpha \")\n",
    "plt.ylabel(\"beta \")\n",
    "plt.show()"
   ]
  },
  {
   "cell_type": "markdown",
   "metadata": {},
   "source": [
    "# ring of cliques\n",
    "\n",
    "### CASE 1: Varying x and y \n",
    "\n",
    "1 => Some of the cliques were merged together\n",
    "\n",
    "0 => None of the cliques were merged together\n",
    "\n",
    "2 => not even those small cliques were identified correctly\n"
   ]
  },
  {
   "cell_type": "code",
   "execution_count": 41,
   "metadata": {},
   "outputs": [
    {
     "name": "stdout",
     "output_type": "stream",
     "text": [
      "15 14 13 12 11 10 9 8 7 6 5 4 3 "
     ]
    },
    {
     "data": {
      "image/png": "[encoded data removed]",
      "text/plain": [
       "<Figure size 432x288 with 2 Axes>"
      ]
     },
     "metadata": {
      "needs_background": "light"
     },
     "output_type": "display_data"
    }
   ],
   "source": [
    "x_val = [i for i in range(3,21)]\n",
    "y_val = [i for i in range(3,16)]\n",
    "y_val.reverse()\n",
    "matrix_ans = []\n",
    "for y in y_val:\n",
    "    print(y,end = \" \")\n",
    "    temp = []\n",
    "    for x in x_val:\n",
    "        graph = ring_of_clique(x,y)\n",
    "#         part = run_spinglass(graph[0],graph[1],1)\n",
    "        part = run_label_prop(graph[0],graph[1])\n",
    "        if(len(part) == x):\n",
    "            temp.append(1)\n",
    "        elif(len(part) < x):\n",
    "            temp.append(0)\n",
    "        else:\n",
    "            temp.append(2)\n",
    "    matrix_ans.append(temp)\n",
    "\n",
    "sns.heatmap(matrix_ans,xticklabels=x_val, yticklabels=y_val)\n",
    "plt.xlabel(\"total ring size \")\n",
    "plt.ylabel(\"each clique size \")\n",
    "plt.show()"
   ]
  },
  {
   "cell_type": "markdown",
   "metadata": {},
   "source": [
    "# comm surrounded by community\n",
    "\n",
    "### CASE 1: Varying x and y \n",
    "\n",
    "1 => each and every clique were correctly identified\n",
    "\n",
    "0 => each node from main clique merged into its respective clique\n",
    "\n",
    "2 => exception cases\n",
    "\n"
   ]
  },
  {
   "cell_type": "code",
   "execution_count": 31,
   "metadata": {},
   "outputs": [
    {
     "name": "stdout",
     "output_type": "stream",
     "text": [
      "30 29 28 27 26 25 24 23 22 21 20 19 18 17 16 15 14 13 12 11 "
     ]
    },
    {
     "data": {
      "image/png": "[encoded data removed]",
      "text/plain": [
       "<Figure size 432x288 with 2 Axes>"
      ]
     },
     "metadata": {
      "needs_background": "light"
     },
     "output_type": "display_data"
    }
   ],
   "source": [
    "x_val = [i for i in range(11,31)]\n",
    "y_val = [i for i in range(11,31)]\n",
    "alpha = 10\n",
    "beta = 10\n",
    "y_val.reverse()\n",
    "matrix_ans = []\n",
    "for y in y_val:\n",
    "    temp = []\n",
    "    print(y,end = \" \")\n",
    "    for x in x_val:\n",
    "        graph = comm_surr_comm(x,y,alpha,beta)\n",
    "        part = run_label_prop(graph[0],graph[1])\n",
    "        if(len(part) == (alpha + 1) or alpha == len(part)):\n",
    "            flag = 1\n",
    "            for i in range(x):\n",
    "                for j in part:\n",
    "                    if(i in part[j]):\n",
    "                        if(max(part[j]) in range(x)):\n",
    "                            continue\n",
    "                        else:\n",
    "                            flag = 0\n",
    "                            break\n",
    "                if(flag == 0):\n",
    "                    break\n",
    "            temp.append(flag)\n",
    "    \n",
    "        else:\n",
    "            temp.append(2)\n",
    "            \n",
    "    matrix_ans.append(temp)\n",
    "\n",
    "sns.heatmap(matrix_ans,xticklabels=x_val, yticklabels=y_val)\n",
    "plt.xlabel(\"main clique size \")\n",
    "plt.ylabel(\"each outer clique size \")\n",
    "plt.show()"
   ]
  },
  {
   "cell_type": "markdown",
   "metadata": {},
   "source": [
    "### CASE 2: Varying alpha and beta \n",
    "\n",
    "1 => each and every clique were correctly identified\n",
    "\n",
    "0 => each node from main clique merged into its respective clique\n",
    "\n",
    "2 => exception cases\n",
    "\n"
   ]
  },
  {
   "cell_type": "code",
   "execution_count": 32,
   "metadata": {},
   "outputs": [
    {
     "name": "stdout",
     "output_type": "stream",
     "text": [
      "20 19 18 17 16 15 14 13 12 11 10 9 8 7 6 5 "
     ]
    },
    {
     "data": {
      "image/png": "[encoded data removed]",
      "text/plain": [
       "<Figure size 432x288 with 2 Axes>"
      ]
     },
     "metadata": {
      "needs_background": "light"
     },
     "output_type": "display_data"
    }
   ],
   "source": [
    "alpha_val = [i for i in range(5,21)]\n",
    "beta_val = [i for i in range(5,21)]\n",
    "beta_val.reverse()\n",
    "x = 10\n",
    "y = 10\n",
    "matrix_ans = []\n",
    "for beta in beta_val:\n",
    "    print(beta, end = \" \")\n",
    "    temp = []\n",
    "    for alpha in alpha_val:\n",
    "        graph = comm_surr_comm(x + alpha,y + beta,alpha,beta)\n",
    "        part = run_label_prop(graph[0],graph[1])\n",
    "        if(len(part) == (alpha + 1) or alpha == len(part)):\n",
    "            flag = 1\n",
    "            for i in range(x):\n",
    "                for j in part:\n",
    "                    if(i in part[j]):\n",
    "                        if(max(part[j]) < x):\n",
    "                            continue\n",
    "                        else:\n",
    "                            flag = 0\n",
    "                            break\n",
    "                if(flag == 0):\n",
    "                    break\n",
    "            temp.append(flag)\n",
    "    \n",
    "        else:\n",
    "            temp.append(2)\n",
    "#         print(part,flag)\n",
    "            \n",
    "    matrix_ans.append(temp)\n",
    "\n",
    "sns.heatmap(matrix_ans,xticklabels=alpha_val, yticklabels=beta_val)\n",
    "plt.xlabel(\"alpha \")\n",
    "plt.ylabel(\"beta \")\n",
    "plt.show()"
   ]
  },
  {
   "cell_type": "markdown",
   "metadata": {},
   "source": [
    "# Spinglass\n",
    "\n",
    "## Hub\n",
    "###   Case 1 varying x and y\n",
    "\n",
    "1 => hub node was merged with left community\n",
    "\n",
    "0 => hub node was merged with right community\n",
    "\n",
    "2 => whole graph was considered as one community"
   ]
  },
  {
   "cell_type": "code",
   "execution_count": 56,
   "metadata": {},
   "outputs": [
    {
     "name": "stdout",
     "output_type": "stream",
     "text": [
      "20\n",
      "1 2 3 4 5 6 7 8 9 10 11 12 13 14 15 16 17 18 19 20 20 len\n",
      "19\n",
      "1 2 3 4 5 6 7 8 9 10 11 12 13 14 15 16 17 18 19 20 20 len\n",
      "18\n",
      "1 2 3 4 5 6 7 8 9 10 11 12 13 14 15 16 17 18 19 20 20 len\n",
      "17\n",
      "1 2 3 4 5 6 7 8 9 10 11 12 13 14 15 16 17 18 19 20 20 len\n",
      "16\n",
      "1 2 3 4 5 6 7 8 9 10 11 12 13 14 15 16 17 18 19 20 20 len\n",
      "15\n",
      "1 2 3 4 5 6 7 8 9 10 11 12 13 14 15 16 17 18 19 20 20 len\n",
      "14\n",
      "1 2 3 4 5 6 7 8 9 10 11 12 13 14 15 16 17 18 19 20 20 len\n",
      "13\n",
      "1 2 3 4 5 6 7 8 9 10 11 12 13 14 15 16 17 18 19 20 20 len\n",
      "12\n",
      "1 2 3 4 5 6 7 8 9 10 11 12 13 14 15 16 17 18 19 20 20 len\n",
      "11\n",
      "1 2 3 4 5 6 7 8 9 10 11 12 13 14 15 16 17 18 19 20 20 len\n",
      "10\n",
      "1 2 3 4 5 6 7 8 9 10 11 12 13 14 15 16 17 18 19 20 20 len\n",
      "9\n",
      "1 2 3 4 5 6 7 8 9 10 11 12 13 14 15 16 17 18 19 20 20 len\n",
      "8\n",
      "1 2 3 4 5 6 7 8 9 10 11 12 13 14 15 16 17 18 19 20 20 len\n",
      "7\n",
      "1 2 3 4 5 6 7 8 9 10 11 12 13 14 15 16 17 18 19 20 20 len\n",
      "6\n",
      "1 2 3 4 5 6 7 8 9 10 11 12 13 14 15 16 17 18 19 20 20 len\n",
      "5\n",
      "1 2 3 4 5 6 7 8 9 10 11 12 13 14 15 16 17 18 19 20 20 len\n",
      "4\n",
      "1 2 3 4 5 6 7 8 9 10 11 12 13 14 15 16 17 18 19 20 20 len\n",
      "3\n",
      "1 2 3 4 5 6 7 8 9 10 11 12 13 14 15 16 17 18 19 20 20 len\n",
      "2\n",
      "1 2 3 4 5 6 7 8 9 10 11 12 13 14 15 16 17 18 19 20 20 len\n",
      "1\n",
      "1 2 3 4 5 6 7 8 9 10 11 12 13 14 15 16 17 18 19 20 20 len\n"
     ]
    },
    {
     "data": {
      "image/png": "[encoded data removed]",
      "text/plain": [
       "<Figure size 432x288 with 2 Axes>"
      ]
     },
     "metadata": {
      "needs_background": "light"
     },
     "output_type": "display_data"
    }
   ],
   "source": [
    "x_val = [i for i in range(1,21)]\n",
    "y_val = [i for i in range(1,21)]\n",
    "y_val.reverse()\n",
    "alpha = 10\n",
    "beta = 10\n",
    "matrix_ans = []\n",
    "for j in y_val:\n",
    "    temp = []\n",
    "    print(j)\n",
    "    for i in x_val:\n",
    "        print(i,end = \" \")\n",
    "        graph = hub_node_generic(i,j,alpha,beta)\n",
    "        part = run_spinglass(graph[0],graph[1],0.4)\n",
    "        if(len(part) == 1):\n",
    "            temp.append(2)\n",
    "            continue;\n",
    "        for i1 in part:\n",
    "            if(0 in part[i1]):\n",
    "                if(len(part[i1]) < 3):\n",
    "                    temp.append(3)\n",
    "                elif(max(part[i1]) <= (i + alpha) and max(part[i1]) != 0):\n",
    "                    temp.append(1)\n",
    "                    break\n",
    "                elif(max(part[i1]) <= (i + alpha + j + beta) and max(part[i1]) != 0):\n",
    "                    temp.append(0)\n",
    "                elif(max(part[i1]) == 0):\n",
    "                    temp.append(3)\n",
    "    print(len(temp),\"len\")\n",
    "    matrix_ans.append(temp)\n",
    "\n",
    "sns.heatmap(matrix_ans,xticklabels=x_val, yticklabels=y_val)\n",
    "plt.xlabel(\"left clique size\")\n",
    "plt.ylabel(\"right clique size\")\n",
    "plt.show()"
   ]
  },
  {
   "cell_type": "markdown",
   "metadata": {},
   "source": [
    "###   Case 2 varying alpha and gamma\n",
    "\n",
    "1 => hub node was merged with left community\n",
    "\n",
    "0 => hub node was merged with right community\n",
    "\n",
    "2 => whole graph was considered as one community"
   ]
  },
  {
   "cell_type": "code",
   "execution_count": 26,
   "metadata": {},
   "outputs": [
    {
     "name": "stdout",
     "output_type": "stream",
     "text": [
      "0.2\n",
      "5 6 7 8 9 10 11 12 13 14 15 16 17 18 19 20 21 22 23 24 25 26 27 28 29 30 26 len\n",
      "0.19\n",
      "5 6 7 8 9 10 11 12 13 14 15 16 17 18 19 20 21 22 23 24 25 26 27 28 29 30 26 len\n",
      "0.18\n",
      "5 6 7 8 9 10 11 12 13 14 15 16 17 18 19 20 21 22 23 24 25 26 27 28 29 30 26 len\n",
      "0.17\n",
      "5 6 7 8 9 10 11 12 13 14 15 16 17 18 19 20 21 22 23 24 25 26 27 28 29 30 26 len\n",
      "0.16\n",
      "5 6 7 8 9 10 11 12 13 14 15 16 17 18 19 20 21 22 23 24 25 26 27 28 29 30 26 len\n",
      "0.15\n",
      "5 6 7 8 9 10 11 12 13 14 15 16 17 18 19 20 21 22 23 24 25 26 27 28 29 30 26 len\n",
      "0.14\n",
      "5 6 7 8 9 10 11 12 13 14 15 16 17 18 19 20 21 22 23 24 25 26 27 28 29 30 26 len\n",
      "0.13\n",
      "5 6 7 8 9 10 11 12 13 14 15 16 17 18 19 20 21 22 23 24 25 26 27 28 29 30 26 len\n",
      "0.12\n",
      "5 6 7 8 9 10 11 12 13 14 15 16 17 18 19 20 21 22 23 24 25 26 27 28 29 30 26 len\n",
      "0.11\n",
      "5 6 7 8 9 10 11 12 13 14 15 16 17 18 19 20 21 22 23 24 25 26 27 28 29 30 26 len\n",
      "0.1\n",
      "5 6 7 8 9 10 11 12 13 14 15 16 17 18 19 20 21 22 23 24 25 26 27 28 29 30 26 len\n",
      "0.09\n",
      "5 6 7 8 9 10 11 12 13 14 15 16 17 18 19 20 21 22 23 24 25 26 27 28 29 30 26 len\n",
      "0.08\n",
      "5 6 7 8 9 10 11 12 13 14 15 16 17 18 19 20 21 22 23 24 25 26 27 28 29 30 26 len\n",
      "0.07\n",
      "5 6 7 8 9 10 11 12 13 14 15 16 17 18 19 20 21 22 23 24 25 26 27 28 29 30 26 len\n",
      "0.06\n",
      "5 6 7 8 9 10 11 12 13 14 15 16 17 18 19 20 21 22 23 24 25 26 27 28 29 30 26 len\n",
      "0.05\n",
      "5 6 7 8 9 10 11 12 13 14 15 16 17 18 19 20 21 22 23 24 25 26 27 28 29 30 26 len\n",
      "0.04\n",
      "5 6 7 8 9 10 11 12 13 14 15 16 17 18 19 20 21 22 23 24 25 26 27 28 29 30 26 len\n",
      "0.03\n",
      "5 6 7 8 9 10 11 12 13 14 15 16 17 18 19 20 21 22 23 24 25 26 27 28 29 30 26 len\n",
      "0.02\n",
      "5 6 7 8 9 10 11 12 13 14 15 16 17 18 19 20 21 22 23 24 25 26 27 28 29 30 26 len\n",
      "0.01\n",
      "5 6 7 8 9 10 11 12 13 14 15 16 17 18 19 20 21 22 23 24 25 26 27 28 29 30 26 len\n"
     ]
    },
    {
     "data": {
      "image/png": "[encoded data removed]",
      "text/plain": [
       "<Figure size 432x288 with 2 Axes>"
      ]
     },
     "metadata": {
      "needs_background": "light"
     },
     "output_type": "display_data"
    }
   ],
   "source": [
    "alpha_val = [i for i in range(5,31)]\n",
    "g_val = [i/100 for i in range(1,21)]\n",
    "g_val.reverse()\n",
    "alpha = 10\n",
    "beta = 10\n",
    "y = 10\n",
    "x = 10\n",
    "matrix_ans = []\n",
    "for j in g_val:\n",
    "    temp = []\n",
    "    print(j)\n",
    "    for i in alpha_val:\n",
    "        print(i,end = \" \")\n",
    "        graph = hub_node_generic(x,y,i,beta)\n",
    "        part = run_spinglass(graph[0],graph[1],j)\n",
    "        if(len(part) == 1):\n",
    "            temp.append(2)\n",
    "            continue;\n",
    "        flag = 0;\n",
    "        for i1 in part:\n",
    "            if(0 in part[i1]):\n",
    "                if(len(part[i1]) < 3):\n",
    "                    temp.append(3)\n",
    "                    flag = 1\n",
    "                    break\n",
    "                elif(max(part[i1]) <= (i + alpha) and max(part[i1]) != 0):\n",
    "                    temp.append(1)\n",
    "                    flag = 1\n",
    "                    break\n",
    "                elif(max(part[i1]) <= (i + alpha + j + beta) and max(part[i1]) != 0):\n",
    "                    temp.append(0)\n",
    "                    flag = 1\n",
    "                    break\n",
    "                elif(max(part[i1]) == 0):\n",
    "                    temp.append(3)\n",
    "                    flag = 1\n",
    "                    break\n",
    "        if(flag != 1):\n",
    "            temp.append(3)\n",
    "    print(len(temp),\"len\")\n",
    "    \n",
    "    matrix_ans.append(temp)\n",
    "\n",
    "sns.heatmap(matrix_ans,xticklabels=alpha_val, yticklabels=g_val)\n",
    "plt.xlabel(\"alpha size\")\n",
    "plt.ylabel(\"gamma  size\")\n",
    "plt.show()"
   ]
  },
  {
   "cell_type": "markdown",
   "metadata": {},
   "source": [
    "###   Case 3 varying alpha and beta\n",
    "\n",
    "1 => hub node was merged with left community\n",
    "\n",
    "0 => hub node was merged with right community\n",
    "\n",
    "2 => whole graph was considered as one community"
   ]
  },
  {
   "cell_type": "code",
   "execution_count": null,
   "metadata": {},
   "outputs": [
    {
     "name": "stdout",
     "output_type": "stream",
     "text": [
      "30 29 28 27 26 "
     ]
    }
   ],
   "source": [
    "alpha_val = [i for i in range(5,31)]\n",
    "beta_val = [i for i in range(5,31)]\n",
    "beta_val.reverse()\n",
    "x = 10\n",
    "y = 10\n",
    "matrix_ans = []\n",
    "for beta in beta_val:\n",
    "    temp = []\n",
    "    print(beta,end = \" \")\n",
    "    for alpha in alpha_val:\n",
    "        graph = hub_node_generic(x,y,alpha,beta)\n",
    "        part = run_spinglass(graph[0],graph[1],0.4)\n",
    "        if(len(part) == 1):\n",
    "            temp.append(2)\n",
    "            continue;\n",
    "        flag = 0;\n",
    "        for i1 in part:\n",
    "            if(0 in part[i1]):\n",
    "                if(len(part[i1]) < 3):\n",
    "                    temp.append(3)\n",
    "                    flag = 1\n",
    "                    break\n",
    "                elif(max(part[i1]) <= (x + alpha) and max(part[i1]) != 0):\n",
    "                    temp.append(1)\n",
    "                    flag = 1\n",
    "                    break\n",
    "                elif(max(part[i1]) <= (x + alpha + y + beta) and max(part[i1]) != 0):\n",
    "                    temp.append(0)\n",
    "                    flag = 1\n",
    "                    break\n",
    "                elif(max(part[i1]) == 0):\n",
    "                    temp.append(3)\n",
    "                    flag = 1\n",
    "                    break\n",
    "        if(flag != 1):\n",
    "            temp.append(3)\n",
    "    matrix_ans.append(temp)\n",
    "\n",
    "sns.heatmap(matrix_ans,xticklabels=alpha_val, yticklabels=beta_val)\n",
    "plt.xlabel(\"alpha \")\n",
    "plt.ylabel(\"beta \")\n",
    "plt.show()"
   ]
  },
  {
   "cell_type": "markdown",
   "metadata": {},
   "source": [
    "# ring of cliques\n",
    "\n",
    "### CASE 1: Varying x and y \n",
    "\n",
    "1 => Some of the cliques were merged together\n",
    "\n",
    "0 => None of the cliques were merged together\n",
    "\n",
    "2 => not even those small cliques were identified correctly\n"
   ]
  },
  {
   "cell_type": "code",
   "execution_count": null,
   "metadata": {},
   "outputs": [],
   "source": [
    "x_val = [i for i in range(3,21)]\n",
    "y_val = [i for i in range(3,16)]\n",
    "y_val.reverse()\n",
    "matrix_ans = []\n",
    "for y in y_val:\n",
    "    print(y,end = \" \")\n",
    "    temp = []\n",
    "    for x in x_val:\n",
    "        graph = ring_of_clique(x,y)\n",
    "        part = run_spinglass(graph[0],graph[1],0.4)\n",
    "#         part = run_label_prop(graph[0],graph[1])\n",
    "        if(len(part) == x):\n",
    "            temp.append(1)\n",
    "        elif(len(part) < x):\n",
    "            temp.append(0)\n",
    "        else:\n",
    "            temp.append(2)\n",
    "    matrix_ans.append(temp)\n",
    "\n",
    "sns.heatmap(matrix_ans,xticklabels=x_val, yticklabels=y_val)\n",
    "plt.xlabel(\"total ring size \")\n",
    "plt.ylabel(\"each clique size \")\n",
    "plt.show()"
   ]
  },
  {
   "cell_type": "markdown",
   "metadata": {},
   "source": [
    "\n",
    "### CASE 2: Varying g and y \n",
    "\n",
    "1 => Some of the cliques were merged together\n",
    "\n",
    "0 => None of the cliques were merged together\n",
    "\n",
    "2 => not even those small cliques were identified correctly\n"
   ]
  },
  {
   "cell_type": "code",
   "execution_count": null,
   "metadata": {},
   "outputs": [],
   "source": [
    "g_val = [i/10 for i in range(1,11)]\n",
    "y_val = [i for i in range(3,16)]\n",
    "y_val.reverse()\n",
    "x = 10\n",
    "matrix_ans = []\n",
    "for y in y_val:\n",
    "    print(y,end = \" \")\n",
    "    temp = []\n",
    "    for g in g_val:\n",
    "        graph = ring_of_clique(x,y)\n",
    "        part = run_spinglass(graph[0],graph[1],g)\n",
    "#         part = run_label_prop(graph[0],graph[1])\n",
    "        if(len(part) == x):\n",
    "            temp.append(1)\n",
    "        elif(len(part) < x):\n",
    "            temp.append(0)\n",
    "        else:\n",
    "            temp.append(2)\n",
    "    matrix_ans.append(temp)\n",
    "\n",
    "sns.heatmap(matrix_ans,xticklabels=g_val, yticklabels=y_val)\n",
    "plt.xlabel(\"gamma size \")\n",
    "plt.ylabel(\"each clique size \")\n",
    "plt.show()"
   ]
  },
  {
   "cell_type": "markdown",
   "metadata": {},
   "source": [
    "# comm surrounded by community\n",
    "\n",
    "### CASE 1: Varying x and y \n",
    "\n",
    "1 => each and every clique were correctly identified\n",
    "\n",
    "0 => each node from main clique merged into its respective clique\n",
    "\n",
    "2 => exception cases\n",
    "\n"
   ]
  },
  {
   "cell_type": "code",
   "execution_count": null,
   "metadata": {},
   "outputs": [],
   "source": [
    "x_val = [i for i in range(11,31)]\n",
    "y_val = [i for i in range(11,31)]\n",
    "alpha = 10\n",
    "beta = 10\n",
    "y_val.reverse()\n",
    "matrix_ans = []\n",
    "for y in y_val:\n",
    "    temp = []\n",
    "    print(y,end = \" \")\n",
    "    for x in x_val:\n",
    "        graph = comm_surr_comm(x,y,alpha,beta)\n",
    "        part = run_spinglass(graph[0],graph[1],0.95)\n",
    "        if(len(part) == (alpha + 1) or alpha == len(part)):\n",
    "            flag = 1\n",
    "            for i in range(x):\n",
    "                for j in part:\n",
    "                    if(i in part[j]):\n",
    "                        if(max(part[j]) in range(x)):\n",
    "                            continue\n",
    "                        else:\n",
    "                            flag = 0\n",
    "                            break\n",
    "                if(flag == 0):\n",
    "                    break\n",
    "            temp.append(flag)\n",
    "    \n",
    "        else:\n",
    "            temp.append(2)\n",
    "            \n",
    "    matrix_ans.append(temp)\n",
    "\n",
    "sns.heatmap(matrix_ans,xticklabels=x_val, yticklabels=y_val)\n",
    "plt.xlabel(\"main clique size \")\n",
    "plt.ylabel(\"each outer clique size \")\n",
    "plt.show()"
   ]
  },
  {
   "cell_type": "markdown",
   "metadata": {},
   "source": [
    "### CASE 2: Varying alpha and beta \n",
    "\n",
    "1 => each and every clique were correctly identified\n",
    "\n",
    "0 => each node from main clique merged into its respective clique\n",
    "\n",
    "2 => exception cases\n",
    "\n"
   ]
  },
  {
   "cell_type": "code",
   "execution_count": null,
   "metadata": {},
   "outputs": [],
   "source": [
    "alpha_val = [i for i in range(5,21)]\n",
    "beta_val = [i for i in range(5,21)]\n",
    "beta_val.reverse()\n",
    "x = 10\n",
    "y = 10\n",
    "matrix_ans = []\n",
    "for beta in beta_val:\n",
    "    temp = []\n",
    "    print(beta,end = \" \")\n",
    "    for alpha in alpha_val:\n",
    "        graph = comm_surr_comm(x + alpha,y + beta,alpha,beta)\n",
    "        part = run_spinglass(graph[0],graph[1],0.95)\n",
    "        if(len(part) == (alpha + 1) or alpha == len(part)):\n",
    "            flag = 1\n",
    "            for i in range(x):\n",
    "                for j in part:\n",
    "                    if(i in part[j]):\n",
    "                        if(max(part[j]) < x):\n",
    "                            continue\n",
    "                        else:\n",
    "                            flag = 0\n",
    "                            break\n",
    "                if(flag == 0):\n",
    "                    break\n",
    "            temp.append(flag)\n",
    "    \n",
    "        else:\n",
    "            temp.append(2)\n",
    "#         print(part,flag)\n",
    "            \n",
    "    matrix_ans.append(temp)\n",
    "\n",
    "sns.heatmap(matrix_ans,xticklabels=alpha_val, yticklabels=beta_val)\n",
    "plt.xlabel(\"alpha \")\n",
    "plt.ylabel(\"beta \")\n",
    "plt.show()"
   ]
  },
  {
   "cell_type": "markdown",
   "metadata": {},
   "source": [
    "### CASE 3: Varying g and beta \n",
    "\n",
    "1 => each and every clique were correctly identified\n",
    "\n",
    "0 => each node from main clique merged into its respective clique\n",
    "\n",
    "2 => exception cases\n",
    "\n"
   ]
  },
  {
   "cell_type": "code",
   "execution_count": null,
   "metadata": {},
   "outputs": [],
   "source": [
    "g_val = [i/100 for i in range(90,100)]\n",
    "beta_val = [i for i in range(5,21)]\n",
    "beta_val.reverse()\n",
    "x = 50\n",
    "y = 2\n",
    "alpha = 5\n",
    "matrix_ans = []\n",
    "for beta in beta_val:\n",
    "    print(beta, end = \" \")\n",
    "    temp = []\n",
    "    for g in g_val:\n",
    "        graph = comm_surr_comm(x + alpha,y + beta,alpha,beta)\n",
    "        part = run_spinglass(graph[0],graph[1],g)\n",
    "        if(len(part) == (alpha + 1) or alpha == len(part)):\n",
    "            flag = 1\n",
    "            for i in range(x):\n",
    "                for j in part:\n",
    "                    if(i in part[j]):\n",
    "                        if(max(part[j]) < x):\n",
    "                            continue\n",
    "                        else:\n",
    "                            flag = 0\n",
    "                            break\n",
    "                if(flag == 0):\n",
    "                    break\n",
    "            temp.append(flag)\n",
    "    \n",
    "        else:\n",
    "            temp.append(2)\n",
    "#         print(part,flag)\n",
    "            \n",
    "    matrix_ans.append(temp)\n",
    "\n",
    "sns.heatmap(matrix_ans,xticklabels=g_val, yticklabels=beta_val)\n",
    "plt.xlabel(\"g size \")\n",
    "plt.ylabel(\"beta \")\n",
    "plt.show()"
   ]
  },
  {
   "cell_type": "code",
   "execution_count": null,
   "metadata": {},
   "outputs": [],
   "source": []
  }
 ],
 "metadata": {
  "accelerator": "TPU",
  "colab": {
   "collapsed_sections": [],
   "name": "Untitled12.ipynb",
   "provenance": []
  },
  "kernelspec": {
   "display_name": "Python 3",
   "language": "python",
   "name": "python3"
  },
  "language_info": {
   "codemirror_mode": {
    "name": "ipython",
    "version": 3
   },
   "file_extension": ".py",
   "mimetype": "text/x-python",
   "name": "python",
   "nbconvert_exporter": "python",
   "pygments_lexer": "ipython3",
   "version": "3.6.9"
  }
 },
 "nbformat": 4,
 "nbformat_minor": 1
}
