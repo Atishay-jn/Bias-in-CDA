{
 "cells": [
  {
   "cell_type": "code",
   "execution_count": 1,
   "metadata": {
    "colab": {
     "base_uri": "https://localhost:8080/",
     "height": 136
    },
    "colab_type": "code",
    "id": "BWY-hPOBI2V-",
    "outputId": "0ffe12b4-3152-48cc-affb-6f49c7af402c"
   },
   "outputs": [],
   "source": [
    "from igraph import *\n",
    "import networkx as nx\n",
    "import random\n",
    "import community as community_louvain\n",
    "# import louvain\n",
    "import os,sys\n",
    "import time\n",
    "import subprocess\n",
    "from infomap import Infomap\n",
    "import matplotlib.pyplot as plt\n",
    "import seaborn as sns\n",
    "import numpy as np\n",
    "from cdlib import algorithms\n",
    "import networkx as nx\n",
    "from louvain_mod import *"
   ]
  },
  {
   "cell_type": "code",
   "execution_count": 2,
   "metadata": {
    "colab": {},
    "colab_type": "code",
    "id": "F3N-TqilJQnJ"
   },
   "outputs": [],
   "source": [
    "def clique(g, size, idx, num_nodes):\n",
    "  for i in range(idx,num_nodes-1):\n",
    "    for j in range(idx - size,idx):\n",
    "      g[i,j] = 0"
   ]
  },
  {
   "cell_type": "code",
   "execution_count": 3,
   "metadata": {
    "colab": {},
    "colab_type": "code",
    "id": "DFLZtYcz9uGx"
   },
   "outputs": [],
   "source": [
    "def Print(g,num_nodes):\n",
    "  G = nx.Graph()\n",
    "  for i in range(num_nodes):\n",
    "    G.add_node(i)\n",
    "  for i in range(num_nodes):\n",
    "    for j in range(i+1, num_nodes):\n",
    "      if g[i,j] == 1:\n",
    "        G.add_edge(i,j)\n",
    "  nx.draw(G, with_labels=True)\n",
    "def Print(total,edges):\n",
    "  G = nx.Graph()\n",
    "  for i in range(total):\n",
    "    G.add_node(i)\n",
    "  for i1 in edges:\n",
    "    i = i1[0]\n",
    "    j = i1[1]\n",
    "    G.add_edge(i,j)\n",
    "  nx.draw(G, with_labels=True)"
   ]
  },
  {
   "cell_type": "code",
   "execution_count": 4,
   "metadata": {
    "colab": {},
    "colab_type": "code",
    "id": "GDk4omKK9xU2"
   },
   "outputs": [],
   "source": [
    "def walktrap(g):\n",
    "  k = g.community_walktrap()\n",
    "  k = k.as_clustering()\n",
    "  print(k)"
   ]
  },
  {
   "cell_type": "code",
   "execution_count": 5,
   "metadata": {},
   "outputs": [],
   "source": [
    "def infomap(g):\n",
    "  k = g.community_infomap()\n",
    "  print(k)"
   ]
  },
  {
   "cell_type": "code",
   "execution_count": 6,
   "metadata": {},
   "outputs": [],
   "source": [
    "def hub_node(clq):\n",
    "    num_nodes = int((clq*(clq+1))/2) + 1\n",
    "    g = Graph.Full(num_nodes)\n",
    "    size = 0\n",
    "    for i in range(clq,1,-1):\n",
    "        size = size + i\n",
    "        clique(g,i,size,num_nodes)\n",
    "    walktrap(g)\n",
    "    Print(g, num_nodes)\n",
    "    infomap(g)"
   ]
  },
  {
   "cell_type": "code",
   "execution_count": 7,
   "metadata": {},
   "outputs": [],
   "source": [
    "def hub_node2(clq):\n",
    "    num_nodes = int(clq*(clq+1)) + 1\n",
    "    g = Graph.Full(num_nodes)\n",
    "    size = 0\n",
    "    for i in range(clq,1,-1):\n",
    "        size = size + i\n",
    "        clique(g,i,size,num_nodes)\n",
    "        size = size + i\n",
    "        clique(g,i,size,num_nodes)\n",
    "    g[num_nodes-2, num_nodes-3] = 0\n",
    "    walktrap(g)\n",
    "    Print(g, num_nodes)\n",
    "    infomap(g)"
   ]
  },
  {
   "cell_type": "code",
   "execution_count": 8,
   "metadata": {},
   "outputs": [],
   "source": [
    "def alt_hub_node(clq):\n",
    "    num_nodes = int((clq+1)*(clq+1)/4) + 1\n",
    "    g = Graph.Full(num_nodes)\n",
    "    size = 0\n",
    "    for i in range(clq,1,-2):\n",
    "        size = size + i\n",
    "        clique(g,i,size,num_nodes)\n",
    "    walktrap(g)\n",
    "    Print(g, num_nodes)\n",
    "    infomap(g)"
   ]
  },
  {
   "cell_type": "code",
   "execution_count": 9,
   "metadata": {},
   "outputs": [],
   "source": [
    "def creat_random_connected(offset,size,number_of_edges = 100000000):\n",
    "\n",
    "    edges = []\n",
    "    for i in range(size-1):\n",
    "        edges.append((offset + i,offset + i + 1))\n",
    "    edges.append((offset,offset + size - 1))\n",
    "    ret_edges = edges[:];\n",
    "    \n",
    "    edges = []\n",
    "    for i in range(size):\n",
    "        for j in range(i + 1,size):\n",
    "            if((offset + i,offset + j) not in ret_edges):\n",
    "                edges.append((offset + i,offset + j))\n",
    "\n",
    "    last = len(edges)-1\n",
    "    for i in range(min(number_of_edges,len(edges))):\n",
    "        ind = random.randint(0,last)\n",
    "        ret_edges.append(edges[ind])\n",
    "        tmp = edges[ind]\n",
    "        edges[ind] = edges[last]\n",
    "        edges[last] = tmp\n",
    "        last -= 1\n",
    "    return ret_edges"
   ]
  },
  {
   "cell_type": "code",
   "execution_count": 10,
   "metadata": {},
   "outputs": [],
   "source": [
    "def ring_of_clique(ring_size , clique_size):\n",
    "\n",
    "    total_vert = ring_size*clique_size;\n",
    "\n",
    "    edges = creat_random_connected(0,clique_size);import random\n",
    "\n",
    "    offset = clique_size\n",
    "    prev_connector = offset - 1\n",
    "\n",
    "    for i in range(ring_size - 1):\n",
    "        new_clique = creat_random_connected(offset,clique_size);\n",
    "        new_clique.append((prev_connector,offset))\n",
    "        edges.extend(new_clique)\n",
    "        offset += clique_size\n",
    "        prev_connector += clique_size\n",
    "\n",
    "    edges.append((0,prev_connector))\n",
    "\n",
    "    return [total_vert, edges]\n"
   ]
  },
  {
   "cell_type": "code",
   "execution_count": 11,
   "metadata": {},
   "outputs": [],
   "source": [
    "def line_star_graph(total_vert, line_length):\n",
    "    edges = []\n",
    "\n",
    "    for i in range(1,line_length):\n",
    "        edges.append((i-1,i))\n",
    "\n",
    "    middle_node = line_length//2\n",
    "    rem_vert = total_vert - line_length\n",
    "    offset = line_length\n",
    "\n",
    "    for i in range(rem_vert):\n",
    "        edges.append((middle_node,offset + i))\n",
    "\n",
    "    return [total_vert, edges]"
   ]
  },
  {
   "cell_type": "code",
   "execution_count": 12,
   "metadata": {},
   "outputs": [],
   "source": [
    "def run_louvain(total_vert,edges):\n",
    "                \n",
    "    g = Graph()\n",
    "    g.add_vertices(total_vert)\n",
    "    g.add_edges(edges)\n",
    "    \n",
    "\n",
    "    part = g.community_multilevel();\n",
    "#     print(part)\n",
    "    return part"
   ]
  },
  {
   "cell_type": "code",
   "execution_count": 13,
   "metadata": {},
   "outputs": [],
   "source": [
    "def run_maxperm(total_vert, edges):\n",
    "    try:\n",
    "        returned_value = subprocess.check_output(\"rm input.dat\", shell = True)\n",
    "        returned_value = subprocess.check_output(\"rm output.txt\", shell = True)\n",
    "    except:\n",
    "        it = 0\n",
    "    input_file = open(\"input.dat\", \"w\")\n",
    "    input_file.write(str(total_vert) + \" \" + str(len(edges)) + \"\\n\")\n",
    "    for i in edges:\n",
    "        m1 = i[0]\n",
    "        m2 = i[1]\n",
    "        input_file.write(str(m1) + \" \" + str(m2) + \"\\n\")\n",
    "#         input_file.write(str(m2) + \" \" + str(m1) + \"\\n\")\n",
    "    input_file.close()\n",
    "    \n",
    "    returned_value = subprocess.check_output(\"bash compile.sh\", shell = True)\n",
    "    returned_value = returned_value.decode(\"utf-8\")\n",
    "    \n",
    "    #print(returned_value)\n",
    "    \n",
    "    output_file = open(\"output.txt\",\"r\")\n",
    "    partitions = output_file.readlines() \n",
    "\n",
    "    dicti={}\n",
    "#     print(partitions[:2])\n",
    "    for line in partitions[2:]:\n",
    "        #print(line.strip())\n",
    "        pair = line.split('\\t')\n",
    "        pair = list(map(int,pair))\n",
    "        if pair[1] in dicti:\n",
    "            dicti[pair[1]].append(pair[0])\n",
    "        else:\n",
    "            dicti[pair[1]] = [pair[0]]\n",
    "    try:\n",
    "        returned_value = subprocess.check_output(\"rm input.dat\", shell = True)\n",
    "        returned_value = subprocess.check_output(\"rm output.txt\", shell = True)\n",
    "    except:\n",
    "        it = 0\n",
    "#     print(\"total partitions : \" + str(len(dicti.keys())) )\n",
    "#     for i in dicti.keys():\n",
    "#         print (\"[\" + str(i) + \"] : \"),\n",
    "#         print(list(dicti[i]))\n",
    "    return dicti\n",
    "    "
   ]
  },
  {
   "cell_type": "code",
   "execution_count": 14,
   "metadata": {},
   "outputs": [],
   "source": [
    "def hub_surr_cliq(total_number_of_cliq,list_of_sizes):\n",
    "    \n",
    "    total_vert = sum(list_of_sizes) + 1\n",
    "    offset = 1\n",
    "    edges = []\n",
    "    \n",
    "    for i in range(total_number_of_cliq):\n",
    "        edges.append((0,offset))\n",
    "        edges.extend(creat_random_connected(offset,list_of_sizes[i]))\n",
    "        offset += list_of_sizes[i]\n",
    "        \n",
    "    return [total_vert,edges]\n",
    "def hub_surr_cliq2(total_number_of_cliq,list_of_sizes):\n",
    "    \n",
    "    total_vert = sum(list_of_sizes) + 1\n",
    "    offset = 1\n",
    "    edges = []\n",
    "    for i in range(1,total_vert):\n",
    "        edges.append((0,i))\n",
    "    for i in range(total_number_of_cliq):\n",
    "        edges.append((0,offset))\n",
    "        edges.extend(creat_random_connected(offset,list_of_sizes[i]))\n",
    "        offset += list_of_sizes[i]\n",
    "        \n",
    "    return [total_vert,edges]\n"
   ]
  },
  {
   "cell_type": "code",
   "execution_count": 15,
   "metadata": {},
   "outputs": [],
   "source": [
    "def comm_surr_comm(middle_size,outer_size,count_outer,beta):\n",
    "    edges = []\n",
    "\n",
    "    if(middle_size < count_outer):\n",
    "        print(\"add more vertices to middle comm\")\n",
    "        return None\n",
    "\n",
    "#     g = Graph()\n",
    "    total_vert = count_outer*outer_size + middle_size\n",
    "#     g.add_vertices(total_vert)\n",
    "\n",
    "    edges.extend(creat_random_connected(0,middle_size))\n",
    "    \n",
    "    offset = middle_size\n",
    "    for i in range(count_outer):\n",
    "        edges.extend(creat_random_connected(offset,outer_size))\n",
    "        beta1 = beta\n",
    "        for j in range(offset,offset + outer_size):\n",
    "            if(beta1 == 0):\n",
    "                break\n",
    "            beta1 -= 1\n",
    "            edges.append((i,j))\n",
    "        offset += outer_size\n",
    "\n",
    "    return [total_vert,edges]\n"
   ]
  },
  {
   "cell_type": "code",
   "execution_count": 16,
   "metadata": {},
   "outputs": [],
   "source": [
    "def hub_node_graph(left_size,right_size):\n",
    "    edges = []\n",
    "\n",
    "#     g = Graph()\n",
    "    total_vert = left_size + right_size + 1\n",
    "#     g.add_vertices(total_vert)\n",
    "    \n",
    "    hub_node = 0\n",
    "    offset_right = left_size + 1\n",
    "    \n",
    "    edges.extend(creat_random_connected(0,left_size + 1))\n",
    "    edges.extend(creat_random_connected(offset_right,right_size))\n",
    "\n",
    "    for i in range(right_size):\n",
    "        edges.append((0,offset_right + i));\n",
    "#     print(edges)\n",
    "#     g.add_edges(edges)\n",
    "    return [total_vert, edges]\n"
   ]
  },
  {
   "cell_type": "code",
   "execution_count": 17,
   "metadata": {},
   "outputs": [],
   "source": [
    "def ring_of_clique_temp(ring_size , clique_list):\n",
    "\n",
    "    total_vert = sum(clique_list);\n",
    "\n",
    "    edges = creat_random_connected(0,clique_list[0]);\n",
    "\n",
    "    offset = clique_list[0]\n",
    "    prev_connector = offset - 1\n",
    "\n",
    "    for i in range(1,ring_size):\n",
    "        new_clique = creat_random_connected(offset,clique_list[i]);\n",
    "        new_clique.append((prev_connector,offset))\n",
    "        edges.extend(new_clique)\n",
    "        offset += clique_list[i]\n",
    "        prev_connector += clique_list[i]\n",
    "\n",
    "    edges.append((0,prev_connector))\n",
    "\n",
    "    return [total_vert, edges]"
   ]
  },
  {
   "cell_type": "code",
   "execution_count": 18,
   "metadata": {},
   "outputs": [],
   "source": [
    "def run_infomap(total_vert,edges):\n",
    "    im = Infomap(\"--two-level --directed\")\n",
    "#     im.add_link(0, 1)\n",
    "    for i in edges:\n",
    "        im.addLink(i[0],i[1])\n",
    "        im.addLink(i[1],i[0])\n",
    "    im.run()\n",
    "    sets = {}\n",
    "\n",
    "#     print(\"Found \" + str(im.num_top_modules)+ \" modules with codelength: \" + str(im.codelength))\n",
    "    print(\"Result\")\n",
    "    print(\"\\n#node module\")\n",
    "    for node in im.tree:\n",
    "        if node.is_leaf:\n",
    "            if(node.module_id in sets):\n",
    "                sets[node.module_id].append(node.node_id)\n",
    "            else:\n",
    "                sets[node.module_id] = [node.node_id]\n",
    "            print(node.node_id, node.module_id)\n",
    "    print(\"total partitions : \" + str(len(sets.keys())) )\n",
    "    for i in sets.keys():\n",
    "        print (\"[\" + str(i) + \"] : \"),\n",
    "        print(sets[i])\n",
    "        \n",
    "    g = Graph()\n",
    "    g.add_vertices(total_vert)\n",
    "    g.add_edges(edges)\n",
    "    Print(g,total_vert)"
   ]
  },
  {
   "cell_type": "code",
   "execution_count": 19,
   "metadata": {},
   "outputs": [],
   "source": [
    "def hub_node_generic(x,y,alpha,beta):\n",
    "    total_vert = x + y + 1 + alpha + beta;\n",
    "    x,y = y,x\n",
    "    alpha,beta = beta,alpha\n",
    "    x = x + alpha\n",
    "    y = y + beta\n",
    "    edges = creat_random_connected(1,y);\n",
    "    offset = y + 1;\n",
    "    edges.extend(creat_random_connected(offset,x));\n",
    "\n",
    "    for i in range(1,y + 1):\n",
    "        if(beta == 0):\n",
    "            break\n",
    "        edges.append((0,i))\n",
    "        beta -= 1\n",
    "    for i in range(y + 1,y + x + 1):\n",
    "        if(alpha == 0):\n",
    "            break\n",
    "        edges.append((0,i))\n",
    "        alpha -= 1\n",
    "\n",
    "    return [total_vert, edges]"
   ]
  },
  {
   "cell_type": "code",
   "execution_count": 20,
   "metadata": {},
   "outputs": [
    {
     "name": "stdout",
     "output_type": "stream",
     "text": [
      "{0: {0, 1, 2, 3}}\n"
     ]
    }
   ],
   "source": [
    "def run_label_prop(total_vert,edges):\n",
    "    G = nx.Graph()\n",
    "    G.add_nodes_from(range(total_vert))\n",
    "    G.add_edges_from(edges)\n",
    "#     nx.draw_networkx(G)\n",
    "    cnt = 0;\n",
    "    dict1 = {}\n",
    "    for i in nx.algorithms.community.label_propagation.asyn_lpa_communities(G):\n",
    "        dict1[cnt] = i\n",
    "        cnt += 1\n",
    "    return dict1\n",
    "        \n",
    "print(run_label_prop(4,[(0,1),(2,1),(0,2),(3,1)]))"
   ]
  },
  {
   "cell_type": "code",
   "execution_count": 21,
   "metadata": {},
   "outputs": [],
   "source": [
    "def run_spinglass(total_vert,edges,gam):\n",
    "    G = Graph()\n",
    "    G.add_vertices(total_vert)\n",
    "    G.add_edges(edges)\n",
    "    \n",
    "    G_NX = nx.Graph()\n",
    "    G_NX.add_nodes_from(range(total_vert))\n",
    "    G_NX.add_edges_from(edges)\n",
    "    e =  naive_greedy_modularity_communities(G_NX,gamma = gam);\n",
    "    dict1 = {}\n",
    "    cnt = 0\n",
    "    for i in e:\n",
    "        dict1[cnt] = list(i)\n",
    "        cnt += 1\n",
    "        \n",
    "    return dict1"
   ]
  },
  {
   "cell_type": "code",
   "execution_count": 22,
   "metadata": {},
   "outputs": [],
   "source": [
    "def run_louvain(total_vert,edges):\n",
    "                \n",
    "    g = Graph()\n",
    "    g.add_vertices(total_vert)\n",
    "    g.add_edges(edges)\n",
    "    e = g.community_multilevel()\n",
    "#     print(e)\n",
    "    dict1 = {}\n",
    "    cnt = 0\n",
    "    for i in e:\n",
    "        dict1[cnt] = list(i)\n",
    "        cnt += 1\n",
    "    return dict1"
   ]
  },
  {
   "cell_type": "code",
   "execution_count": 24,
   "metadata": {},
   "outputs": [],
   "source": [
    "def run_spinglass_c(total_vert, edges,gamma):\n",
    "    try:\n",
    "        returned_value = subprocess.check_output(\"rm input.txt\", shell = True)\n",
    "        returned_value = subprocess.check_output(\"rm output.txt\", shell = True)\n",
    "    except:\n",
    "        it = 0\n",
    "    input_file = open(\"input.txt\", \"w\")\n",
    "    input_file.write(str(total_vert) + \" \" + str(len(edges)) + \" \" +  str(gamma) + \"\\n\")\n",
    "#     print(str(total_vert) + \" \" + str(len(edges)) +  str(gamma) + \"\\n\")\n",
    "    for i in edges:\n",
    "        m1 = i[0]\n",
    "        m2 = i[1]\n",
    "        input_file.write(str(m1) + \" \" + str(m2) + \"\\n\")\n",
    "#         input_file.write(str(m2) + \" \" + str(m1) + \"\\n\")\n",
    "    input_file.close()\n",
    "    \n",
    "    returned_value = subprocess.check_output(\"./a.out < input.txt > output.txt\", shell = True)\n",
    "    returned_value = returned_value.decode(\"utf-8\")\n",
    "    \n",
    "    #print(returned_value)\n",
    "    \n",
    "    output_file = open(\"output.txt\",\"r\")\n",
    "    partitions = output_file.readlines() \n",
    "    \n",
    "    l = partitions[0].split(\" \")\n",
    "    print(l)\n",
    "    dicti = {}\n",
    "    for i in range(total_vert):\n",
    "        try:\n",
    "            if(int(l[i]) in dicti):\n",
    "                dicti[int(l[i])].append(i)\n",
    "            else:\n",
    "                dicti[int(l[i])] = [i]\n",
    "        except:\n",
    "            m = 0\n",
    "    try:\n",
    "        returned_value = subprocess.check_output(\"rm input.dat\", shell = True)\n",
    "        returned_value = subprocess.check_output(\"rm output.txt\", shell = True)\n",
    "    except:\n",
    "        it = 0\n",
    "#     print(\"total partitions : \" + str(len(dicti.keys())) )\n",
    "#     for i in dicti.keys():\n",
    "#         print (\"[\" + str(i) + \"] : \"),\n",
    "#         print(list(dicti[i]))\n",
    "    return dicti\n",
    "    "
   ]
  },
  {
   "cell_type": "code",
   "execution_count": 26,
   "metadata": {},
   "outputs": [
    {
     "name": "stdout",
     "output_type": "stream",
     "text": [
      "{0: [0, 1], 1: [2], 2: [3], 3: [4], 4: [5], 5: [6], 6: [7], 7: [8], 8: [9], 9: [10], 10: [11], 11: [12], 12: [13], 13: [14], 14: [15], 15: [16], 16: [17], 17: [18], 18: [19], 19: [20], 20: [21], 21: [22], 22: [23], 23: [24], 24: [25], 25: [26], 26: [27], 27: [28], 28: [29], 29: [30], 30: [31], 31: [32], 32: [33], 33: [34], 34: [35], 35: [36], 36: [37], 37: [38], 38: [39], 39: [40], 40: [41], 41: [42], 42: [43], 43: [44]}\n"
     ]
    }
   ],
   "source": [
    "graph = hub_node_generic(19,19,3,3)\n",
    "part = run_spinglass(graph[0],graph[1],7)\n",
    "print(part)"
   ]
  },
  {
   "cell_type": "markdown",
   "metadata": {},
   "source": [
    "# SPINGLASS\n",
    "\n",
    "### CASE 1: Varying x and y (btw 5 -24) with constant alpha = 50 and beta = 50\n",
    "\n",
    "1 => hub node was merged with left community\n",
    "\n",
    "0 => hub node was merged with right community\n",
    "\n",
    "2 => whole graph was considered as one community\n"
   ]
  },
  {
   "cell_type": "code",
   "execution_count": null,
   "metadata": {},
   "outputs": [],
   "source": [
    "x_val = [i for i in range(5,20)]\n",
    "y_val = [i for i in range(5,20)]\n",
    "y_val.reverse()\n",
    "alpha = 3\n",
    "beta = 3\n",
    "matrix_ans = []\n",
    "for j in y_val:\n",
    "    temp = []\n",
    "    print(j)\n",
    "    for i in x_val:\n",
    "        print(i,end = \" \")\n",
    "        graph = hub_node_generic(i,j,alpha,beta)\n",
    "        part = run_spinglass(graph[0],graph[1],7)\n",
    "        if(len(part) == 1):\n",
    "            temp.append(2)\n",
    "            continue;\n",
    "#         if(len(part) > 3):\n",
    "#             temp.append(3)\n",
    "#             continue\n",
    "        for i1 in part:\n",
    "            if(0 in part[i1]):\n",
    "                if(len(part[i1]) <= 3):\n",
    "                    temp.append(3)\n",
    "                elif(max(part[i1]) <= (i + alpha) and max(part[i1]) != 0):\n",
    "                    temp.append(1)\n",
    "                    break\n",
    "                elif(max(part[i1]) <= (i + alpha + j + beta) and max(part[i1]) != 0):\n",
    "                    temp.append(0)\n",
    "                elif(max(part[i1]) == 0):\n",
    "                    temp.append(3)\n",
    "    print(len(temp),\"len\")\n",
    "    matrix_ans.append(temp)\n",
    "\n",
    "sns.heatmap(matrix_ans,xticklabels=x_val, yticklabels=y_val)\n",
    "plt.xlabel(\"left clique size\")\n",
    "plt.ylabel(\"right clique size\")\n",
    "plt.show()"
   ]
  },
  {
   "cell_type": "code",
   "execution_count": null,
   "metadata": {},
   "outputs": [
    {
     "name": "stdout",
     "output_type": "stream",
     "text": [
      "19\n",
      "5 6 7 8 9 10 11 12 13 14 15 16 17 18 19 15 len\n",
      "18\n",
      "5 6 7 8 9 10 11 12 "
     ]
    }
   ],
   "source": [
    "x_val = [i for i in range(5,20)]\n",
    "y_val = [i for i in range(5,20)]\n",
    "y_val.reverse()\n",
    "alpha = 3\n",
    "beta = 3\n",
    "matrix_ans = []\n",
    "for j in y_val:\n",
    "    temp = []\n",
    "    print(j)\n",
    "    for i in x_val:\n",
    "        print(i,end = \" \")\n",
    "        graph = hub_node_generic(i,j,alpha,beta)\n",
    "        part = run_spinglass(graph[0],graph[1],1)\n",
    "        if(len(part) == 1):\n",
    "            temp.append(2)\n",
    "            continue;\n",
    "#         if(len(part) > 3):\n",
    "#             temp.append(3)\n",
    "#             continue\n",
    "        for i1 in part:\n",
    "            if(0 in part[i1]):\n",
    "                if(len(part[i1]) <= 3):\n",
    "                    temp.append(3)\n",
    "                elif(max(part[i1]) <= (i + alpha) and max(part[i1]) != 0):\n",
    "                    temp.append(1)\n",
    "                    break\n",
    "                elif(max(part[i1]) <= (i + alpha + j + beta) and max(part[i1]) != 0):\n",
    "                    temp.append(0)\n",
    "                elif(max(part[i1]) == 0):\n",
    "                    temp.append(3)\n",
    "    print(len(temp),\"len\")\n",
    "    matrix_ans.append(temp)\n",
    "\n",
    "sns.heatmap(matrix_ans,xticklabels=x_val, yticklabels=y_val)\n",
    "plt.xlabel(\"left clique size\")\n",
    "plt.ylabel(\"right clique size\")\n",
    "plt.show()"
   ]
  },
  {
   "cell_type": "code",
   "execution_count": 37,
   "metadata": {},
   "outputs": [
    {
     "name": "stdout",
     "output_type": "stream",
     "text": [
      "19\n",
      "5 6 7 8 9 10 11 12 13 14 15 16 17 18 19 15 len\n",
      "18\n",
      "5 6 7 8 9 10 11 12 13 14 15 16 17 18 19 15 len\n",
      "17\n",
      "5 6 7 8 9 10 11 12 13 14 15 16 17 18 19 15 len\n",
      "16\n",
      "5 6 7 8 9 10 11 12 13 14 15 16 17 18 19 15 len\n",
      "15\n",
      "5 6 7 8 9 10 11 12 13 14 15 16 17 18 19 15 len\n",
      "14\n",
      "5 6 7 8 9 10 11 12 13 14 15 16 17 18 19 15 len\n",
      "13\n",
      "5 6 7 8 9 10 11 12 13 14 15 16 17 18 19 15 len\n",
      "12\n",
      "5 6 7 8 9 10 11 12 13 14 15 16 17 18 19 15 len\n",
      "11\n",
      "5 6 7 8 9 10 11 12 13 14 15 16 17 18 19 15 len\n",
      "10\n",
      "5 6 7 8 9 10 11 12 13 14 15 16 17 18 19 15 len\n",
      "9\n",
      "5 6 7 8 9 10 11 12 13 14 15 16 17 18 19 15 len\n",
      "8\n",
      "5 6 7 8 9 10 11 12 13 14 15 16 17 18 19 15 len\n",
      "7\n",
      "5 6 7 8 9 10 11 12 13 14 15 16 17 18 19 15 len\n",
      "6\n",
      "5 6 7 8 9 10 11 12 13 14 15 16 17 18 19 15 len\n",
      "5\n",
      "5 6 7 8 9 10 11 12 13 14 15 16 17 18 19 15 len\n"
     ]
    },
    {
     "data": {
      "image/png": "[encoded data removed]",
      "text/plain": [
       "<Figure size 432x288 with 2 Axes>"
      ]
     },
     "metadata": {
      "needs_background": "light"
     },
     "output_type": "display_data"
    }
   ],
   "source": [
    "x_val = [i for i in range(5,20)]\n",
    "y_val = [i for i in range(5,20)]\n",
    "y_val.reverse()\n",
    "alpha = 3\n",
    "beta = 3\n",
    "matrix_ans = []\n",
    "for j in y_val:\n",
    "    temp = []\n",
    "    print(j)\n",
    "    for i in x_val:\n",
    "        print(i,end = \" \")\n",
    "        graph = hub_node_generic(i,j,alpha,beta)\n",
    "        part = run_louvain(graph[0],graph[1])\n",
    "        if(len(part) == 1):\n",
    "            temp.append(2)\n",
    "            continue;\n",
    "#         if(len(part) > 3):\n",
    "#             temp.append(3)\n",
    "#             continue\n",
    "        for i1 in part:\n",
    "            if(0 in part[i1]):\n",
    "                if(len(part[i1]) <= 3):\n",
    "                    temp.append(3)\n",
    "                elif(max(part[i1]) <= (i + alpha) and max(part[i1]) != 0):\n",
    "                    temp.append(1)\n",
    "                    break\n",
    "                elif(max(part[i1]) <= (i + alpha + j + beta) and max(part[i1]) != 0):\n",
    "                    temp.append(0)\n",
    "                elif(max(part[i1]) == 0):\n",
    "                    temp.append(3)\n",
    "    print(len(temp),\"len\")\n",
    "    matrix_ans.append(temp)\n",
    "\n",
    "sns.heatmap(matrix_ans,xticklabels=x_val, yticklabels=y_val)\n",
    "plt.xlabel(\"left clique size\")\n",
    "plt.ylabel(\"right clique size\")\n",
    "plt.show()"
   ]
  },
  {
   "cell_type": "code",
   "execution_count": 33,
   "metadata": {},
   "outputs": [
    {
     "name": "stdout",
     "output_type": "stream",
     "text": [
      "19\n",
      "5 6 7 8 9 10 11 12 13 14 15 16 17 18 19 15 len\n",
      "18\n",
      "5 6 7 8 9 10 11 12 13 14 15 16 17 18 19 15 len\n",
      "17\n",
      "5 6 7 8 9 10 11 12 13 14 15 16 17 18 19 15 len\n",
      "16\n",
      "5 6 7 8 9 10 11 12 13 14 15 16 17 18 19 15 len\n",
      "15\n",
      "5 6 7 8 9 10 11 12 13 14 15 16 17 18 19 15 len\n",
      "14\n",
      "5 6 7 8 9 10 11 12 13 14 15 16 17 18 19 15 len\n",
      "13\n",
      "5 6 7 8 9 10 11 12 13 14 15 16 17 18 19 15 len\n",
      "12\n",
      "5 6 7 8 9 10 11 12 13 14 15 16 17 18 19 15 len\n",
      "11\n",
      "5 6 7 8 9 10 11 12 13 14 15 16 17 18 19 15 len\n",
      "10\n",
      "5 6 7 8 9 10 11 12 13 14 15 16 17 18 19 15 len\n",
      "9\n",
      "5 6 7 8 9 10 11 12 13 14 15 16 17 18 19 15 len\n",
      "8\n",
      "5 6 7 8 9 10 11 12 13 14 15 16 17 18 19 15 len\n",
      "7\n",
      "5 6 7 8 9 10 11 12 13 14 15 16 17 18 19 15 len\n",
      "6\n",
      "5 6 7 8 9 10 11 12 13 14 15 16 17 18 19 15 len\n",
      "5\n",
      "5 6 7 8 9 10 11 12 13 14 15 16 17 18 19 15 len\n"
     ]
    },
    {
     "data": {
      "image/png": "[encoded data removed]",
      "text/plain": [
       "<Figure size 432x288 with 2 Axes>"
      ]
     },
     "metadata": {
      "needs_background": "light"
     },
     "output_type": "display_data"
    }
   ],
   "source": [
    "x_val = [i for i in range(5,20)]\n",
    "y_val = [i for i in range(5,20)]\n",
    "y_val.reverse()\n",
    "alpha = 3\n",
    "beta = 3\n",
    "matrix_ans = []\n",
    "for j in y_val:\n",
    "    temp = []\n",
    "    print(j)\n",
    "    for i in x_val:\n",
    "        print(i,end = \" \")\n",
    "        graph = hub_node_generic(i,j,alpha,beta)\n",
    "        part = run_spinglass(graph[0],graph[1],7)\n",
    "#         print(part)\n",
    "        if(len(part) == 1):\n",
    "            temp.append(2)\n",
    "            continue;\n",
    "#         if(len(part) >= 3):\n",
    "#             temp.append(3)\n",
    "#             continue;\n",
    "        for i1 in part:\n",
    "            if(0 in part[i1]):\n",
    "                if(max(part[i1]) <= (i + alpha) and max(part[i1]) != 0):\n",
    "                    temp.append(1)\n",
    "                    break\n",
    "                elif(max(part[i1]) <= (i + alpha + j + beta) and max(part[i1]) != 0):\n",
    "                    temp.append(0)\n",
    "                elif(max(part[i1]) == 0):\n",
    "                    temp.append(3)\n",
    "    print(len(temp),\"len\")\n",
    "    matrix_ans.append(temp)\n",
    "\n",
    "sns.heatmap(matrix_ans,xticklabels=x_val, yticklabels=y_val)\n",
    "plt.xlabel(\"left clique size\")\n",
    "plt.ylabel(\"right clique size\")\n",
    "plt.show()"
   ]
  },
  {
   "cell_type": "code",
   "execution_count": 34,
   "metadata": {},
   "outputs": [
    {
     "name": "stdout",
     "output_type": "stream",
     "text": [
      "{0: [0, 1, 2, 3, 4, 5, 6, 7, 8], 1: [9, 10, 11, 12, 13, 14, 15]} sping\n",
      "{0: [0, 9, 10, 11, 12, 13, 14, 15], 1: [1, 2, 3, 4, 5, 6, 7, 8]} louv\n",
      "{0: [0, 1, 2, 3, 4, 5, 6, 7, 8], 1: [9, 10, 11, 12, 13, 14, 15]} sping\n",
      "{0: [0, 9, 10, 11, 12, 13, 14, 15], 1: [1, 2, 3, 4, 5, 6, 7, 8]} louv\n",
      "{0: [0, 1, 2, 3, 4, 5, 6, 7, 8], 1: [9, 10, 11, 12, 13, 14, 15]} sping\n",
      "{0: [0, 9, 10, 11, 12, 13, 14, 15], 1: [1, 2, 3, 4, 5, 6, 7, 8]} louv\n",
      "{0: [0, 1, 2, 3, 4, 5, 6, 7, 8], 1: [9, 10, 11, 12, 13, 14, 15]} sping\n",
      "{0: [0, 9, 10, 11, 12, 13, 14, 15], 1: [1, 2, 3, 4, 5, 6, 7, 8]} louv\n",
      "{0: [0, 1, 2, 3, 4, 5, 6, 7, 8], 1: [9, 10, 11, 12, 13, 14, 15]} sping\n",
      "{0: [0, 9, 10, 11, 12, 13, 14, 15], 1: [1, 2, 3, 4, 5, 6, 7, 8]} louv\n",
      "{0: [0, 1, 2, 3, 4, 5, 6, 7, 8], 1: [9, 10, 11, 12, 13, 14, 15]} sping\n",
      "{0: [0, 9, 10, 11, 12, 13, 14, 15], 1: [1, 2, 3, 4, 5, 6, 7, 8]} louv\n",
      "{0: [0, 1, 2, 3, 4, 5, 6, 7, 8], 1: [9, 10, 11, 12, 13, 14, 15]} sping\n",
      "{0: [0, 9, 10, 11, 12, 13, 14, 15], 1: [1, 2, 3, 4, 5, 6, 7, 8]} louv\n",
      "{0: [0, 1, 2, 3, 4, 5, 6, 7, 8], 1: [9, 10, 11, 12, 13, 14, 15]} sping\n",
      "{0: [0, 9, 10, 11, 12, 13, 14, 15], 1: [1, 2, 3, 4, 5, 6, 7, 8]} louv\n",
      "{0: [0, 1, 2, 3, 4, 5, 6, 7, 8], 1: [9, 10, 11, 12, 13, 14, 15]} sping\n",
      "{0: [0, 9, 10, 11, 12, 13, 14, 15], 1: [1, 2, 3, 4, 5, 6, 7, 8]} louv\n",
      "{0: [0, 1, 2, 3, 4, 5, 6, 7, 8], 1: [9, 10, 11, 12, 13, 14, 15]} sping\n",
      "{0: [0, 9, 10, 11, 12, 13, 14, 15], 1: [1, 2, 3, 4, 5, 6, 7, 8]} louv\n",
      "{0: [0, 1, 2, 3, 4, 5, 6, 7, 8], 1: [9, 10, 11, 12, 13, 14, 15]} sping\n",
      "{0: [0, 9, 10, 11, 12, 13, 14, 15], 1: [1, 2, 3, 4, 5, 6, 7, 8]} louv\n",
      "{0: [0, 1, 2, 3, 4, 5, 6, 7, 8], 1: [9, 10, 11, 12, 13, 14, 15]} sping\n",
      "{0: [0, 9, 10, 11, 12, 13, 14, 15], 1: [1, 2, 3, 4, 5, 6, 7, 8]} louv\n",
      "{0: [0, 1, 2, 3, 4, 5, 6, 7, 8], 1: [9, 10, 11, 12, 13, 14, 15]} sping\n",
      "{0: [0, 9, 10, 11, 12, 13, 14, 15], 1: [1, 2, 3, 4, 5, 6, 7, 8]} louv\n",
      "{0: [0, 1, 2, 3, 4, 5, 6, 7, 8], 1: [9, 10, 11, 12, 13, 14, 15]} sping\n",
      "{0: [0, 9, 10, 11, 12, 13, 14, 15], 1: [1, 2, 3, 4, 5, 6, 7, 8]} louv\n",
      "{0: [0, 1, 2, 3, 4, 5, 6, 7, 8], 1: [9, 10, 11, 12, 13, 14, 15]} sping\n",
      "{0: [0, 9, 10, 11, 12, 13, 14, 15], 1: [1, 2, 3, 4, 5, 6, 7, 8]} louv\n",
      "{0: [0, 1, 2, 3, 4, 5, 6, 7, 8], 1: [9, 10, 11, 12, 13, 14, 15]} sping\n",
      "{0: [0, 9, 10, 11, 12, 13, 14, 15], 1: [1, 2, 3, 4, 5, 6, 7, 8]} louv\n",
      "{0: [0, 1, 2, 3, 4, 5, 6, 7, 8], 1: [9, 10, 11, 12, 13, 14, 15]} sping\n",
      "{0: [0, 9, 10, 11, 12, 13, 14, 15], 1: [1, 2, 3, 4, 5, 6, 7, 8]} louv\n",
      "{0: [0, 1, 2, 3, 4, 5, 6, 7, 8], 1: [9, 10, 11, 12, 13, 14, 15]} sping\n",
      "{0: [0, 9, 10, 11, 12, 13, 14, 15], 1: [1, 2, 3, 4, 5, 6, 7, 8]} louv\n",
      "{0: [0, 1, 2, 3, 4, 5, 6, 7, 8], 1: [9, 10, 11, 12, 13, 14, 15]} sping\n",
      "{0: [0, 9, 10, 11, 12, 13, 14, 15], 1: [1, 2, 3, 4, 5, 6, 7, 8]} louv\n",
      "{0: [0, 1, 2, 3, 4, 5, 6, 7, 8], 1: [9, 10, 11, 12, 13, 14, 15]} sping\n",
      "{0: [0, 9, 10, 11, 12, 13, 14, 15], 1: [1, 2, 3, 4, 5, 6, 7, 8]} louv\n",
      "{0: [0, 1, 2, 3, 4, 5, 6, 7, 8], 1: [9, 10, 11, 12, 13, 14, 15]} sping\n",
      "{0: [0, 9, 10, 11, 12, 13, 14, 15], 1: [1, 2, 3, 4, 5, 6, 7, 8]} louv\n",
      "{0: [0, 1, 2, 3, 4, 5, 6, 7, 8], 1: [9, 10, 11, 12, 13, 14, 15]} sping\n",
      "{0: [0, 9, 10, 11, 12, 13, 14, 15], 1: [1, 2, 3, 4, 5, 6, 7, 8]} louv\n",
      "{0: [0, 1, 2, 3, 4, 5, 6, 7, 8], 1: [9, 10, 11, 12, 13, 14, 15]} sping\n",
      "{0: [0, 9, 10, 11, 12, 13, 14, 15], 1: [1, 2, 3, 4, 5, 6, 7, 8]} louv\n",
      "{0: [0, 1, 2, 3, 4, 5, 6, 7, 8], 1: [9, 10, 11, 12, 13, 14, 15]} sping\n",
      "{0: [0, 9, 10, 11, 12, 13, 14, 15], 1: [1, 2, 3, 4, 5, 6, 7, 8]} louv\n",
      "{0: [0, 1, 2, 3, 4, 5, 6, 7, 8], 1: [9, 10, 11, 12, 13, 14, 15]} sping\n",
      "{0: [0, 9, 10, 11, 12, 13, 14, 15], 1: [1, 2, 3, 4, 5, 6, 7, 8]} louv\n",
      "{0: [0, 1, 2, 3, 4, 5, 6, 7, 8], 1: [9, 10, 11, 12, 13, 14, 15]} sping\n",
      "{0: [0, 9, 10, 11, 12, 13, 14, 15], 1: [1, 2, 3, 4, 5, 6, 7, 8]} louv\n",
      "{0: [0, 1, 2, 3, 4, 5, 6, 7, 8], 1: [9, 10, 11, 12, 13, 14, 15]} sping\n",
      "{0: [0, 9, 10, 11, 12, 13, 14, 15], 1: [1, 2, 3, 4, 5, 6, 7, 8]} louv\n",
      "{0: [0, 1, 2, 3, 4, 5, 6, 7, 8], 1: [9, 10, 11, 12, 13, 14, 15]} sping\n",
      "{0: [0, 9, 10, 11, 12, 13, 14, 15], 1: [1, 2, 3, 4, 5, 6, 7, 8]} louv\n",
      "{0: [0, 1, 2, 3, 4, 5, 6, 7, 8], 1: [9, 10, 11, 12, 13, 14, 15]} sping\n",
      "{0: [0, 9, 10, 11, 12, 13, 14, 15], 1: [1, 2, 3, 4, 5, 6, 7, 8]} louv\n",
      "{0: [0, 1, 2, 3, 4, 5, 6, 7, 8], 1: [9, 10, 11, 12, 13, 14, 15]} sping\n",
      "{0: [0, 9, 10, 11, 12, 13, 14, 15], 1: [1, 2, 3, 4, 5, 6, 7, 8]} louv\n",
      "{0: [0, 1, 2, 3, 4, 5, 6, 7, 8], 1: [9, 10, 11, 12, 13, 14, 15]} sping\n",
      "{0: [0, 9, 10, 11, 12, 13, 14, 15], 1: [1, 2, 3, 4, 5, 6, 7, 8]} louv\n",
      "{0: [0, 1, 2, 3, 4, 5, 6, 7, 8], 1: [9, 10, 11, 12, 13, 14, 15]} sping\n",
      "{0: [0, 9, 10, 11, 12, 13, 14, 15], 1: [1, 2, 3, 4, 5, 6, 7, 8]} louv\n",
      "{0: [0, 1, 2, 3, 4, 5, 6, 7, 8], 1: [9, 10, 11, 12, 13, 14, 15]} sping\n",
      "{0: [0, 9, 10, 11, 12, 13, 14, 15], 1: [1, 2, 3, 4, 5, 6, 7, 8]} louv\n",
      "{0: [0, 1, 2, 3, 4, 5, 6, 7, 8], 1: [9, 10, 11, 12, 13, 14, 15]} sping\n",
      "{0: [0, 9, 10, 11, 12, 13, 14, 15], 1: [1, 2, 3, 4, 5, 6, 7, 8]} louv\n",
      "{0: [0, 1, 2, 3, 4, 5, 6, 7, 8], 1: [9, 10, 11, 12, 13, 14, 15]} sping\n",
      "{0: [0, 9, 10, 11, 12, 13, 14, 15], 1: [1, 2, 3, 4, 5, 6, 7, 8]} louv\n",
      "{0: [0, 1, 2, 3, 4, 5, 6, 7, 8], 1: [9, 10, 11, 12, 13, 14, 15]} sping\n",
      "{0: [0, 9, 10, 11, 12, 13, 14, 15], 1: [1, 2, 3, 4, 5, 6, 7, 8]} louv\n",
      "{0: [0, 1, 2, 3, 4, 5, 6, 7, 8], 1: [9, 10, 11, 12, 13, 14, 15]} sping\n",
      "{0: [0, 9, 10, 11, 12, 13, 14, 15], 1: [1, 2, 3, 4, 5, 6, 7, 8]} louv\n",
      "{0: [0, 1, 2, 3, 4, 5, 6, 7, 8], 1: [9, 10, 11, 12, 13, 14, 15]} sping\n",
      "{0: [0, 9, 10, 11, 12, 13, 14, 15], 1: [1, 2, 3, 4, 5, 6, 7, 8]} louv\n",
      "{0: [0, 1, 2, 3, 4, 5, 6, 7, 8], 1: [9, 10, 11, 12, 13, 14, 15]} sping\n",
      "{0: [0, 9, 10, 11, 12, 13, 14, 15], 1: [1, 2, 3, 4, 5, 6, 7, 8]} louv\n",
      "{0: [0, 1, 2, 3, 4, 5, 6, 7, 8], 1: [9, 10, 11, 12, 13, 14, 15]} sping\n",
      "{0: [0, 9, 10, 11, 12, 13, 14, 15], 1: [1, 2, 3, 4, 5, 6, 7, 8]} louv\n",
      "{0: [0, 1, 2, 3, 4, 5, 6, 7, 8], 1: [9, 10, 11, 12, 13, 14, 15]} sping\n",
      "{0: [0, 9, 10, 11, 12, 13, 14, 15], 1: [1, 2, 3, 4, 5, 6, 7, 8]} louv\n",
      "{0: [0, 1, 2, 3, 4, 5, 6, 7, 8], 1: [9, 10, 11, 12, 13, 14, 15]} sping\n",
      "{0: [0, 9, 10, 11, 12, 13, 14, 15], 1: [1, 2, 3, 4, 5, 6, 7, 8]} louv\n",
      "{0: [0, 1, 2, 3, 4, 5, 6, 7, 8], 1: [9, 10, 11, 12, 13, 14, 15]} sping\n",
      "{0: [0, 9, 10, 11, 12, 13, 14, 15], 1: [1, 2, 3, 4, 5, 6, 7, 8]} louv\n",
      "{0: [0, 1, 2, 3, 4, 5, 6, 7, 8], 1: [9, 10, 11, 12, 13, 14, 15]} sping\n",
      "{0: [0, 9, 10, 11, 12, 13, 14, 15], 1: [1, 2, 3, 4, 5, 6, 7, 8]} louv\n",
      "{0: [0, 1, 2, 3, 4, 5, 6, 7, 8], 1: [9, 10, 11, 12, 13, 14, 15]} sping\n",
      "{0: [0, 9, 10, 11, 12, 13, 14, 15], 1: [1, 2, 3, 4, 5, 6, 7, 8]} louv\n",
      "{0: [0, 1, 2, 3, 4, 5, 6, 7, 8], 1: [9, 10, 11, 12, 13, 14, 15]} sping\n",
      "{0: [0, 9, 10, 11, 12, 13, 14, 15], 1: [1, 2, 3, 4, 5, 6, 7, 8]} louv\n",
      "{0: [0, 1, 2, 3, 4, 5, 6, 7, 8], 1: [9, 10, 11, 12, 13, 14, 15]} sping\n",
      "{0: [0, 9, 10, 11, 12, 13, 14, 15], 1: [1, 2, 3, 4, 5, 6, 7, 8]} louv\n",
      "{0: [0, 1, 2, 3, 4, 5, 6, 7, 8], 1: [9, 10, 11, 12, 13, 14, 15]} sping\n",
      "{0: [0, 9, 10, 11, 12, 13, 14, 15], 1: [1, 2, 3, 4, 5, 6, 7, 8]} louv\n",
      "{0: [0, 1, 2, 3, 4, 5, 6, 7, 8], 1: [9, 10, 11, 12, 13, 14, 15]} sping\n",
      "{0: [0, 9, 10, 11, 12, 13, 14, 15], 1: [1, 2, 3, 4, 5, 6, 7, 8]} louv\n",
      "{0: [0, 1, 2, 3, 4, 5, 6, 7, 8], 1: [9, 10, 11, 12, 13, 14, 15]} sping\n",
      "{0: [0, 9, 10, 11, 12, 13, 14, 15], 1: [1, 2, 3, 4, 5, 6, 7, 8]} louv\n",
      "{0: [0, 1, 2, 3, 4, 5, 6, 7, 8], 1: [9, 10, 11, 12, 13, 14, 15]} sping\n",
      "{0: [0, 9, 10, 11, 12, 13, 14, 15], 1: [1, 2, 3, 4, 5, 6, 7, 8]} louv\n",
      "{0: [0, 1, 2, 3, 4, 5, 6, 7, 8], 1: [9, 10, 11, 12, 13, 14, 15]} sping\n",
      "{0: [0, 9, 10, 11, 12, 13, 14, 15], 1: [1, 2, 3, 4, 5, 6, 7, 8]} louv\n",
      "{0: [0, 1, 2, 3, 4, 5, 6, 7, 8], 1: [9, 10, 11, 12, 13, 14, 15]} sping\n",
      "{0: [0, 9, 10, 11, 12, 13, 14, 15], 1: [1, 2, 3, 4, 5, 6, 7, 8]} louv\n",
      "{0: [0, 1, 2, 3, 4, 5, 6, 7, 8], 1: [9, 10, 11, 12, 13, 14, 15]} sping\n",
      "{0: [0, 9, 10, 11, 12, 13, 14, 15], 1: [1, 2, 3, 4, 5, 6, 7, 8]} louv\n",
      "{0: [0, 1, 2, 3, 4, 5, 6, 7, 8], 1: [9, 10, 11, 12, 13, 14, 15]} sping\n",
      "{0: [0, 9, 10, 11, 12, 13, 14, 15], 1: [1, 2, 3, 4, 5, 6, 7, 8]} louv\n",
      "{0: [0, 1, 2, 3, 4, 5, 6, 7, 8], 1: [9, 10, 11, 12, 13, 14, 15]} sping\n",
      "{0: [0, 9, 10, 11, 12, 13, 14, 15], 1: [1, 2, 3, 4, 5, 6, 7, 8]} louv\n",
      "{0: [0, 1, 2, 3, 4, 5, 6, 7, 8], 1: [9, 10, 11, 12, 13, 14, 15]} sping\n",
      "{0: [0, 9, 10, 11, 12, 13, 14, 15], 1: [1, 2, 3, 4, 5, 6, 7, 8]} louv\n",
      "{0: [0, 1, 2, 3, 4, 5, 6, 7, 8], 1: [9, 10, 11, 12, 13, 14, 15]} sping\n",
      "{0: [0, 9, 10, 11, 12, 13, 14, 15], 1: [1, 2, 3, 4, 5, 6, 7, 8]} louv\n",
      "{0: [0, 1, 2, 3, 4, 5, 6, 7, 8], 1: [9, 10, 11, 12, 13, 14, 15]} sping\n",
      "{0: [0, 9, 10, 11, 12, 13, 14, 15], 1: [1, 2, 3, 4, 5, 6, 7, 8]} louv\n"
     ]
    },
    {
     "name": "stdout",
     "output_type": "stream",
     "text": [
      "{0: [0, 1, 2, 3, 4, 5, 6, 7, 8], 1: [9, 10, 11, 12, 13, 14, 15]} sping\n",
      "{0: [0, 9, 10, 11, 12, 13, 14, 15], 1: [1, 2, 3, 4, 5, 6, 7, 8]} louv\n",
      "{0: [0, 1, 2, 3, 4, 5, 6, 7, 8], 1: [9, 10, 11, 12, 13, 14, 15]} sping\n",
      "{0: [0, 9, 10, 11, 12, 13, 14, 15], 1: [1, 2, 3, 4, 5, 6, 7, 8]} louv\n",
      "{0: [0, 1, 2, 3, 4, 5, 6, 7, 8], 1: [9, 10, 11, 12, 13, 14, 15]} sping\n",
      "{0: [0, 9, 10, 11, 12, 13, 14, 15], 1: [1, 2, 3, 4, 5, 6, 7, 8]} louv\n",
      "{0: [0, 1, 2, 3, 4, 5, 6, 7, 8], 1: [9, 10, 11, 12, 13, 14, 15]} sping\n",
      "{0: [0, 9, 10, 11, 12, 13, 14, 15], 1: [1, 2, 3, 4, 5, 6, 7, 8]} louv\n",
      "{0: [0, 1, 2, 3, 4, 5, 6, 7, 8], 1: [9, 10, 11, 12, 13, 14, 15]} sping\n",
      "{0: [0, 9, 10, 11, 12, 13, 14, 15], 1: [1, 2, 3, 4, 5, 6, 7, 8]} louv\n",
      "{0: [0, 1, 2, 3, 4, 5, 6, 7, 8], 1: [9, 10, 11, 12, 13, 14, 15]} sping\n",
      "{0: [0, 9, 10, 11, 12, 13, 14, 15], 1: [1, 2, 3, 4, 5, 6, 7, 8]} louv\n",
      "{0: [0, 1, 2, 3, 4, 5, 6, 7, 8], 1: [9, 10, 11, 12, 13, 14, 15]} sping\n",
      "{0: [0, 9, 10, 11, 12, 13, 14, 15], 1: [1, 2, 3, 4, 5, 6, 7, 8]} louv\n",
      "{0: [0, 1, 2, 3, 4, 5, 6, 7, 8], 1: [9, 10, 11, 12, 13, 14, 15]} sping\n",
      "{0: [0, 9, 10, 11, 12, 13, 14, 15], 1: [1, 2, 3, 4, 5, 6, 7, 8]} louv\n",
      "{0: [0, 1, 2, 3, 4, 5, 6, 7, 8], 1: [9, 10, 11, 12, 13, 14, 15]} sping\n",
      "{0: [0, 9, 10, 11, 12, 13, 14, 15], 1: [1, 2, 3, 4, 5, 6, 7, 8]} louv\n",
      "{0: [0, 1, 2, 3, 4, 5, 6, 7, 8], 1: [9, 10, 11, 12, 13, 14, 15]} sping\n",
      "{0: [0, 9, 10, 11, 12, 13, 14, 15], 1: [1, 2, 3, 4, 5, 6, 7, 8]} louv\n",
      "{0: [0, 1, 2, 3, 4, 5, 6, 7, 8], 1: [9, 10, 11, 12, 13, 14, 15]} sping\n",
      "{0: [0, 9, 10, 11, 12, 13, 14, 15], 1: [1, 2, 3, 4, 5, 6, 7, 8]} louv\n",
      "{0: [0, 1, 2, 3, 4, 5, 6, 7, 8], 1: [9, 10, 11, 12, 13, 14, 15]} sping\n",
      "{0: [0, 9, 10, 11, 12, 13, 14, 15], 1: [1, 2, 3, 4, 5, 6, 7, 8]} louv\n",
      "{0: [0, 1, 2, 3, 4, 5, 6, 7, 8], 1: [9, 10, 11, 12, 13, 14, 15]} sping\n",
      "{0: [0, 9, 10, 11, 12, 13, 14, 15], 1: [1, 2, 3, 4, 5, 6, 7, 8]} louv\n",
      "{0: [0, 1, 2, 3, 4, 5, 6, 7, 8], 1: [9, 10, 11, 12, 13, 14, 15]} sping\n",
      "{0: [0, 9, 10, 11, 12, 13, 14, 15], 1: [1, 2, 3, 4, 5, 6, 7, 8]} louv\n",
      "{0: [0, 1, 2, 3, 4, 5, 6, 7, 8], 1: [9, 10, 11, 12, 13, 14, 15]} sping\n",
      "{0: [0, 9, 10, 11, 12, 13, 14, 15], 1: [1, 2, 3, 4, 5, 6, 7, 8]} louv\n",
      "{0: [0, 1, 2, 3, 4, 5, 6, 7, 8], 1: [9, 10, 11, 12, 13, 14, 15]} sping\n",
      "{0: [0, 9, 10, 11, 12, 13, 14, 15], 1: [1, 2, 3, 4, 5, 6, 7, 8]} louv\n",
      "{0: [0, 1, 2, 3, 4, 5, 6, 7, 8], 1: [9, 10, 11, 12, 13, 14, 15]} sping\n",
      "{0: [0, 9, 10, 11, 12, 13, 14, 15], 1: [1, 2, 3, 4, 5, 6, 7, 8]} louv\n",
      "{0: [0, 1, 2, 3, 4, 5, 6, 7, 8], 1: [9, 10, 11, 12, 13, 14, 15]} sping\n",
      "{0: [0, 9, 10, 11, 12, 13, 14, 15], 1: [1, 2, 3, 4, 5, 6, 7, 8]} louv\n",
      "{0: [0, 1, 2, 3, 4, 5, 6, 7, 8], 1: [9, 10, 11, 12, 13, 14, 15]} sping\n",
      "{0: [0, 9, 10, 11, 12, 13, 14, 15], 1: [1, 2, 3, 4, 5, 6, 7, 8]} louv\n",
      "{0: [0, 1, 2, 3, 4, 5, 6, 7, 8], 1: [9, 10, 11, 12, 13, 14, 15]} sping\n",
      "{0: [0, 9, 10, 11, 12, 13, 14, 15], 1: [1, 2, 3, 4, 5, 6, 7, 8]} louv\n",
      "{0: [0, 1, 2, 3, 4, 5, 6, 7, 8], 1: [9, 10, 11, 12, 13, 14, 15]} sping\n",
      "{0: [0, 9, 10, 11, 12, 13, 14, 15], 1: [1, 2, 3, 4, 5, 6, 7, 8]} louv\n",
      "{0: [0, 1, 2, 3, 4, 5, 6, 7, 8], 1: [9, 10, 11, 12, 13, 14, 15]} sping\n",
      "{0: [0, 9, 10, 11, 12, 13, 14, 15], 1: [1, 2, 3, 4, 5, 6, 7, 8]} louv\n",
      "{0: [0, 1, 2, 3, 4, 5, 6, 7, 8], 1: [9, 10, 11, 12, 13, 14, 15]} sping\n",
      "{0: [0, 9, 10, 11, 12, 13, 14, 15], 1: [1, 2, 3, 4, 5, 6, 7, 8]} louv\n",
      "{0: [0, 1, 2, 3, 4, 5, 6, 7, 8], 1: [9, 10, 11, 12, 13, 14, 15]} sping\n",
      "{0: [0, 9, 10, 11, 12, 13, 14, 15], 1: [1, 2, 3, 4, 5, 6, 7, 8]} louv\n",
      "{0: [0, 1, 2, 3, 4, 5, 6, 7, 8], 1: [9, 10, 11, 12, 13, 14, 15]} sping\n",
      "{0: [0, 9, 10, 11, 12, 13, 14, 15], 1: [1, 2, 3, 4, 5, 6, 7, 8]} louv\n",
      "{0: [0, 1, 2, 3, 4, 5, 6, 7, 8], 1: [9, 10, 11, 12, 13, 14, 15]} sping\n",
      "{0: [0, 9, 10, 11, 12, 13, 14, 15], 1: [1, 2, 3, 4, 5, 6, 7, 8]} louv\n",
      "{0: [0, 1, 2, 3, 4, 5, 6, 7, 8], 1: [9, 10, 11, 12, 13, 14, 15]} sping\n",
      "{0: [0, 9, 10, 11, 12, 13, 14, 15], 1: [1, 2, 3, 4, 5, 6, 7, 8]} louv\n",
      "{0: [0, 1, 2, 3, 4, 5, 6, 7, 8], 1: [9, 10, 11, 12, 13, 14, 15]} sping\n",
      "{0: [0, 9, 10, 11, 12, 13, 14, 15], 1: [1, 2, 3, 4, 5, 6, 7, 8]} louv\n",
      "{0: [0, 1, 2, 3, 4, 5, 6, 7, 8], 1: [9, 10, 11, 12, 13, 14, 15]} sping\n",
      "{0: [0, 9, 10, 11, 12, 13, 14, 15], 1: [1, 2, 3, 4, 5, 6, 7, 8]} louv\n",
      "{0: [0, 1, 2, 3, 4, 5, 6, 7, 8], 1: [9, 10, 11, 12, 13, 14, 15]} sping\n",
      "{0: [0, 9, 10, 11, 12, 13, 14, 15], 1: [1, 2, 3, 4, 5, 6, 7, 8]} louv\n",
      "{0: [0, 1, 2, 3, 4, 5, 6, 7, 8], 1: [9, 10, 11, 12, 13, 14, 15]} sping\n",
      "{0: [0, 9, 10, 11, 12, 13, 14, 15], 1: [1, 2, 3, 4, 5, 6, 7, 8]} louv\n",
      "{0: [0, 1, 2, 3, 4, 5, 6, 7, 8], 1: [9, 10, 11, 12, 13, 14, 15]} sping\n",
      "{0: [0, 9, 10, 11, 12, 13, 14, 15], 1: [1, 2, 3, 4, 5, 6, 7, 8]} louv\n",
      "{0: [0, 1, 2, 3, 4, 5, 6, 7, 8], 1: [9, 10, 11, 12, 13, 14, 15]} sping\n",
      "{0: [0, 9, 10, 11, 12, 13, 14, 15], 1: [1, 2, 3, 4, 5, 6, 7, 8]} louv\n",
      "{0: [0, 1, 2, 3, 4, 5, 6, 7, 8], 1: [9, 10, 11, 12, 13, 14, 15]} sping\n",
      "{0: [0, 9, 10, 11, 12, 13, 14, 15], 1: [1, 2, 3, 4, 5, 6, 7, 8]} louv\n",
      "{0: [0, 1, 2, 3, 4, 5, 6, 7, 8], 1: [9, 10, 11, 12, 13, 14, 15]} sping\n",
      "{0: [0, 9, 10, 11, 12, 13, 14, 15], 1: [1, 2, 3, 4, 5, 6, 7, 8]} louv\n",
      "{0: [0, 1, 2, 3, 4, 5, 6, 7, 8], 1: [9, 10, 11, 12, 13, 14, 15]} sping\n",
      "{0: [0, 9, 10, 11, 12, 13, 14, 15], 1: [1, 2, 3, 4, 5, 6, 7, 8]} louv\n",
      "{0: [0, 1, 2, 3, 4, 5, 6, 7, 8], 1: [9, 10, 11, 12, 13, 14, 15]} sping\n",
      "{0: [0, 9, 10, 11, 12, 13, 14, 15], 1: [1, 2, 3, 4, 5, 6, 7, 8]} louv\n",
      "{0: [0, 1, 2, 3, 4, 5, 6, 7, 8], 1: [9, 10, 11, 12, 13, 14, 15]} sping\n",
      "{0: [0, 9, 10, 11, 12, 13, 14, 15], 1: [1, 2, 3, 4, 5, 6, 7, 8]} louv\n",
      "{0: [0, 1, 2, 3, 4, 5, 6, 7, 8], 1: [9, 10, 11, 12, 13, 14, 15]} sping\n",
      "{0: [0, 9, 10, 11, 12, 13, 14, 15], 1: [1, 2, 3, 4, 5, 6, 7, 8]} louv\n",
      "{0: [0, 1, 2, 3, 4, 5, 6, 7, 8], 1: [9, 10, 11, 12, 13, 14, 15]} sping\n",
      "{0: [0, 9, 10, 11, 12, 13, 14, 15], 1: [1, 2, 3, 4, 5, 6, 7, 8]} louv\n",
      "{0: [0, 1, 2, 3, 4, 5, 6, 7, 8], 1: [9, 10, 11, 12, 13, 14, 15]} sping\n",
      "{0: [0, 9, 10, 11, 12, 13, 14, 15], 1: [1, 2, 3, 4, 5, 6, 7, 8]} louv\n"
     ]
    }
   ],
   "source": [
    "for i in range(100):\n",
    "    graph = hub_node_generic(5,4,alpha,beta)\n",
    "    part = run_spinglass(graph[0],graph[1],1)\n",
    "    print(part,\"sping\")\n",
    "    part = run_louvain(graph[0],graph[1])\n",
    "    print(part,\"louv\")"
   ]
  },
  {
   "cell_type": "markdown",
   "metadata": {},
   "source": [
    "### CASE 2: Varying alpha and beta (btw 5 -24) with constant x = 50 and y = 50\n",
    "\n",
    "1 => hub node was merged with left community\n",
    "\n",
    "0 => hub node was merged with right community\n",
    "\n",
    "2 => whole graph was considered as one community\n",
    "\n",
    "https://www.desmos.com/calculator/gjm394ys6u"
   ]
  },
  {
   "cell_type": "code",
   "execution_count": 38,
   "metadata": {},
   "outputs": [
    {
     "data": {
      "image/png": "[encoded data removed]",
      "text/plain": [
       "<Figure size 432x288 with 2 Axes>"
      ]
     },
     "metadata": {
      "needs_background": "light"
     },
     "output_type": "display_data"
    }
   ],
   "source": [
    "alpha_val = [i for i in range(5,25)]\n",
    "beta_val = [i for i in range(5,25)]\n",
    "beta_val.reverse()\n",
    "x = 50\n",
    "y = 50\n",
    "matrix_ans = []\n",
    "for beta in beta_val:\n",
    "    temp = []\n",
    "    for alpha in alpha_val:\n",
    "        graph = hub_node_generic(x,y,alpha,beta)\n",
    "        part = run_louvain(graph[0],graph[1])\n",
    "        if(len(part) == 1):\n",
    "            temp.append(2)\n",
    "            continue;\n",
    "        if(0 in part[0] and 1 in part[0]):\n",
    "            temp.append(1)\n",
    "        elif(0  in part[1] and 1 in part[1]):\n",
    "            temp.append(1)\n",
    "        else:\n",
    "            temp.append(0)\n",
    "    matrix_ans.append(temp)\n",
    "\n",
    "sns.heatmap(matrix_ans,xticklabels=alpha_val, yticklabels=beta_val)\n",
    "plt.xlabel(\"alpha \")\n",
    "plt.ylabel(\"beta \")\n",
    "plt.show()"
   ]
  },
  {
   "cell_type": "markdown",
   "metadata": {},
   "source": [
    "### CASE 3: Varying alpha and x  with constant y = 50 and beta = 10\n",
    "\n",
    "x : 5 10 .. 100 \n",
    "\n",
    "alpha : 5 - 50\n",
    "\n",
    "1 => hub node was merged with left community\n",
    "\n",
    "0 => hub node was merged with right community\n",
    "\n",
    "2 => whole graph was considered as one community\n",
    "\n",
    "https://www.desmos.com/calculator/gpxw3th3hk"
   ]
  },
  {
   "cell_type": "code",
   "execution_count": 39,
   "metadata": {},
   "outputs": [
    {
     "data": {
      "image/png": "[encoded data removed]",
      "text/plain": [
       "<Figure size 432x288 with 2 Axes>"
      ]
     },
     "metadata": {
      "needs_background": "light"
     },
     "output_type": "display_data"
    }
   ],
   "source": [
    "alpha_val = [i for i in range(5,51)]\n",
    "x_val = [i*5 for i in range(1,21)]\n",
    "alpha_val.reverse()\n",
    "beta = 10\n",
    "y = 50\n",
    "matrix_ans = []\n",
    "for alpha in alpha_val:\n",
    "    temp = []\n",
    "    for x in x_val:\n",
    "        graph = hub_node_generic(x,y,alpha,beta)\n",
    "        part = run_louvain(graph[0],graph[1])\n",
    "        if(len(part) == 1):\n",
    "            temp.append(2)\n",
    "            continue;\n",
    "        if(0 in part[0] and 1 in part[0]):\n",
    "            temp.append(1)\n",
    "        elif(0  in part[1] and 1 in part[1]):\n",
    "            temp.append(1)\n",
    "        else:\n",
    "            temp.append(0)\n",
    "    matrix_ans.append(temp)\n",
    "\n",
    "sns.heatmap(matrix_ans,xticklabels=x_val, yticklabels=alpha_val)\n",
    "plt.xlabel(\"left clique size \")\n",
    "plt.ylabel(\"alpha \")\n",
    "plt.show()"
   ]
  },
  {
   "cell_type": "markdown",
   "metadata": {},
   "source": [
    "## Maxperm\n",
    "\n",
    "### CASE 1: Varying x and y  (btw 10 - 26) with constant alpha = 10 and beta = 10\n",
    "\n",
    "1 => hub node was merged with left community\n",
    "\n",
    "0 => hub node was merged with right community\n",
    "\n",
    "2 => whole graph was considered as one community\n",
    "\n",
    "https://www.desmos.com/calculator/6u1v2pp0iu"
   ]
  },
  {
   "cell_type": "code",
   "execution_count": 40,
   "metadata": {},
   "outputs": [
    {
     "name": "stdout",
     "output_type": "stream",
     "text": [
      "26 25 24 23 22 21 20 19 18 17 16 15 14 13 12 11 10 "
     ]
    },
    {
     "data": {
      "image/png": "[encoded data removed]",
      "text/plain": [
       "<Figure size 432x288 with 2 Axes>"
      ]
     },
     "metadata": {
      "needs_background": "light"
     },
     "output_type": "display_data"
    }
   ],
   "source": [
    "x_val = [i for i in range(10,27)]\n",
    "y_val = [i for i in range(10,27)]\n",
    "y_val.reverse()\n",
    "alpha = 10\n",
    "beta = 10\n",
    "matrix_ans = []\n",
    "for j in y_val:\n",
    "    print (j,end = \" \")\n",
    "    temp = []\n",
    "    for i in x_val:\n",
    "        graph = hub_node_generic(i,j,alpha,beta)\n",
    "        part = run_maxperm(graph[0],graph[1])\n",
    "        if(len(part) == 1):\n",
    "            temp.append(0)\n",
    "            continue;\n",
    "        for i1 in part.keys():\n",
    "            if(0 in part[i1]):\n",
    "                if(1 in part[i1]):\n",
    "                    temp.append(1)\n",
    "                else:\n",
    "                    temp.append(0)\n",
    "                break\n",
    "    matrix_ans.append(temp)\n",
    "\n",
    "sns.heatmap(matrix_ans,xticklabels=x_val, yticklabels=y_val)\n",
    "plt.xlabel(\"left clique size\")\n",
    "plt.ylabel(\"right clique size\")\n",
    "plt.show()"
   ]
  },
  {
   "cell_type": "code",
   "execution_count": 41,
   "metadata": {},
   "outputs": [
    {
     "name": "stdout",
     "output_type": "stream",
     "text": [
      "{31: [0, 1, 2, 3, 4, 5, 6, 7, 8, 9, 10, 11, 12, 13, 14, 15, 16, 17, 18, 19, 20, 21, 22, 23, 24, 25, 26, 27, 28, 29, 30, 31, 32, 33, 34, 35, 36, 37, 38, 39, 40, 41, 42, 43, 44, 45, 46, 47]}\n"
     ]
    },
    {
     "data": {
      "image/png": "[encoded data removed]",
      "text/plain": [
       "<Figure size 432x288 with 1 Axes>"
      ]
     },
     "metadata": {},
     "output_type": "display_data"
    }
   ],
   "source": [
    "graph = hub_node_generic(14,13,10,10)\n",
    "part = run_maxperm(graph[0],graph[1])\n",
    "g = Graph()\n",
    "g.add_vertices(graph[0])\n",
    "g.add_edges(graph[1])\n",
    "Print(g,graph[0])\n",
    "print(part)"
   ]
  },
  {
   "cell_type": "code",
   "execution_count": 42,
   "metadata": {},
   "outputs": [
    {
     "name": "stdout",
     "output_type": "stream",
     "text": [
      "{1: [0, 1, 2, 3, 4, 5, 6, 7, 8, 9, 10, 11, 12, 13, 14, 15, 16, 17, 18, 19, 20, 21, 22, 23], 41: [24, 25, 26, 27, 28, 29, 30, 31, 32, 33, 34, 35, 36, 37, 38, 39, 40, 41, 42, 43, 44, 45, 46, 47]}\n"
     ]
    },
    {
     "data": {
      "image/png": "[encoded data removed]",
      "text/plain": [
       "<Figure size 432x288 with 1 Axes>"
      ]
     },
     "metadata": {},
     "output_type": "display_data"
    }
   ],
   "source": [
    "graph = hub_node_generic(13,14,10,10)\n",
    "part = run_maxperm(graph[0],graph[1])\n",
    "print(part)\n",
    "g = Graph()\n",
    "g.add_vertices(graph[0])\n",
    "g.add_edges(graph[1])\n",
    "Print(g,graph[0])"
   ]
  },
  {
   "cell_type": "markdown",
   "metadata": {},
   "source": [
    "### CASE 2: Varying alpha and beta (btw 20 -31) with constant x = 10 and y = 10\n",
    "\n",
    "1 => hub node was merged with left community\n",
    "\n",
    "0 => hub node was merged with right community\n",
    "\n",
    "2 => whole graph was considered as one community\n",
    "\n",
    "https://www.desmos.com/calculator/orrw2gwjqr"
   ]
  },
  {
   "cell_type": "code",
   "execution_count": 43,
   "metadata": {},
   "outputs": [
    {
     "data": {
      "image/png": "[encoded data removed]",
      "text/plain": [
       "<Figure size 432x288 with 2 Axes>"
      ]
     },
     "metadata": {
      "needs_background": "light"
     },
     "output_type": "display_data"
    }
   ],
   "source": [
    "alpha_val = [i for i in range(20,31)]\n",
    "beta_val = [i for i in range(20,31)]\n",
    "beta_val.reverse();\n",
    "x = 10\n",
    "y = 10\n",
    "matrix_ans = []\n",
    "for beta in beta_val:\n",
    "    temp = []\n",
    "    for alpha in alpha_val:\n",
    "        graph = hub_node_generic(x,y,alpha,beta)\n",
    "        part = run_maxperm(graph[0],graph[1])\n",
    "        if(len(part.keys()) == 1):\n",
    "            temp.append(2)\n",
    "            continue;\n",
    "        for i1 in part.keys():\n",
    "            if(0 in part[i1]):\n",
    "                if(1 in part[i1]):\n",
    "                    temp.append(1)\n",
    "                else:\n",
    "                    temp.append(0)\n",
    "                break\n",
    "    matrix_ans.append(temp)\n",
    "\n",
    "sns.heatmap(matrix_ans,xticklabels = alpha_val, yticklabels= beta_val)\n",
    "plt.xlabel(\"alpha \")\n",
    "plt.ylabel(\"beta \")\n",
    "plt.show()"
   ]
  },
  {
   "cell_type": "markdown",
   "metadata": {},
   "source": [
    "### CASE 3: Varying alpha and x  with constant y = 10 and beta = 10\n",
    "\n",
    "x : 10 - 20\n",
    "\n",
    "alpha : 10 - 20\n",
    "\n",
    "1 => hub node was merged with left community\n",
    "\n",
    "0 => hub node was merged with right community\n",
    "\n",
    "2 => whole graph was considered as one community\n",
    "\n",
    "https://www.desmos.com/calculator/ngsfx64njq"
   ]
  },
  {
   "cell_type": "code",
   "execution_count": 44,
   "metadata": {},
   "outputs": [
    {
     "name": "stdout",
     "output_type": "stream",
     "text": [
      "20 19 18 17 16 15 14 13 12 11 10 "
     ]
    },
    {
     "data": {
      "image/png": "[encoded data removed]",
      "text/plain": [
       "<Figure size 432x288 with 2 Axes>"
      ]
     },
     "metadata": {
      "needs_background": "light"
     },
     "output_type": "display_data"
    }
   ],
   "source": [
    "alpha_val = [i for i in range(10,21)]\n",
    "x_val = [i for i in range(10,21)]\n",
    "alpha_val.reverse()\n",
    "beta = 10\n",
    "y = 10\n",
    "matrix_ans = []\n",
    "for alpha in alpha_val:\n",
    "    print(alpha,end = \" \")\n",
    "    temp = []\n",
    "    for x in x_val:\n",
    "        graph = hub_node_generic(x,y,alpha,beta)\n",
    "        part = run_maxperm(graph[0],graph[1])\n",
    "        if(len(part.keys()) == 1):\n",
    "            temp.append(2)\n",
    "            continue;\n",
    "        for i1 in part.keys():\n",
    "            if(0 in part[i1]):\n",
    "                if(1 in part[i1]):\n",
    "                    temp.append(1)\n",
    "                else:\n",
    "                    temp.append(0)\n",
    "                break\n",
    "    matrix_ans.append(temp)\n",
    "\n",
    "sns.heatmap(matrix_ans,xticklabels=x_val, yticklabels=alpha_val)\n",
    "plt.xlabel(\"left clique size \")\n",
    "plt.ylabel(\"alpha \")\n",
    "plt.show()"
   ]
  },
  {
   "cell_type": "markdown",
   "metadata": {},
   "source": [
    "# Ring of Cliques\n",
    "\n",
    "## Modularity\n",
    "\n",
    "x : between 55 , 60 ... 100, total ring size \n",
    "\n",
    "y : between 3 - 30, each clique size\n",
    "\n",
    "1 => Some of the cliques were merged together\n",
    "\n",
    "0 => None of the cliques were merged together\n",
    "\n",
    "2 => not even those small cliques were identified correctly\n",
    "\n",
    "https://www.desmos.com/calculator/sxkdlnz3tn"
   ]
  },
  {
   "cell_type": "code",
   "execution_count": 52,
   "metadata": {},
   "outputs": [
    {
     "name": "stdout",
     "output_type": "stream",
     "text": [
      "10 9 8 7 6 5 4 3 "
     ]
    },
    {
     "data": {
      "image/png": "[encoded data removed]",
      "text/plain": [
       "<Figure size 432x288 with 2 Axes>"
      ]
     },
     "metadata": {
      "needs_background": "light"
     },
     "output_type": "display_data"
    }
   ],
   "source": [
    "x_val = [i*2 for i in range(5,21)]\n",
    "y_val = [i for i in range(3,11)]\n",
    "y_val.reverse()\n",
    "matrix_ans = []\n",
    "for y in y_val:\n",
    "    print(y,end = \" \")\n",
    "    temp = []\n",
    "    for x in x_val:\n",
    "        graph = ring_of_clique(x,y)\n",
    "#         part = run_spinglass(graph[0],graph[1],1)\n",
    "        part = run_louvain(graph[0],graph[1])\n",
    "        if(len(part) == x):\n",
    "            temp.append(1)\n",
    "        elif(len(part) < x):\n",
    "            temp.append(0)\n",
    "        else:\n",
    "            temp.append(2)\n",
    "    matrix_ans.append(temp)\n",
    "\n",
    "sns.heatmap(matrix_ans,xticklabels=x_val, yticklabels=y_val)\n",
    "plt.xlabel(\"total ring size \")\n",
    "plt.ylabel(\"each clique size \")\n",
    "plt.show()"
   ]
  },
  {
   "cell_type": "code",
   "execution_count": null,
   "metadata": {},
   "outputs": [],
   "source": [
    "x_val = [i*2 for i in range(5,21)]\n",
    "y_val = [i for i in range(3,11)]\n",
    "y_val.reverse()\n",
    "matrix_ans = []\n",
    "for y in y_val:\n",
    "    print(y,end = \" \")\n",
    "    temp = []\n",
    "    for x in x_val:\n",
    "        graph = ring_of_clique(x,y)\n",
    "        part = run_spinglass(graph[0],graph[1],1)\n",
    "#         part = run_louvain(graph[0],graph[1])\n",
    "        if(len(part) == x):\n",
    "            temp.append(1)\n",
    "        elif(len(part) < x):\n",
    "            temp.append(0)\n",
    "        else:\n",
    "            temp.append(2)\n",
    "    matrix_ans.append(temp)\n",
    "\n",
    "sns.heatmap(matrix_ans,xticklabels=x_val, yticklabels=y_val)\n",
    "plt.xlabel(\"total ring size \")\n",
    "plt.ylabel(\"each clique size \")\n",
    "plt.show()"
   ]
  },
  {
   "cell_type": "code",
   "execution_count": null,
   "metadata": {},
   "outputs": [],
   "source": [
    "x_val = [i*2 for i in range(5,13)]\n",
    "y_val = [i for i in range(3,7)]\n",
    "y_val.reverse()\n",
    "matrix_ans = []\n",
    "for y in y_val:\n",
    "    print(y,end = \" \")\n",
    "    temp = []\n",
    "    for x in x_val:\n",
    "        print(x,end = \" \")\n",
    "        graph = ring_of_clique(x,y)\n",
    "        part = run_spinglass(graph[0],graph[1],7)\n",
    "#         part = run_louvain(graph[0],graph[1])\n",
    "        if(len(part) == x):\n",
    "            temp.append(1)\n",
    "        elif(len(part) < x):\n",
    "            temp.append(0)\n",
    "        else:\n",
    "            temp.append(2)\n",
    "    matrix_ans.append(temp)\n",
    "    print()\n",
    "sns.heatmap(matrix_ans,xticklabels=x_val, yticklabels=y_val)\n",
    "plt.xlabel(\"total ring size \")\n",
    "plt.ylabel(\"each clique size \")\n",
    "plt.show()"
   ]
  },
  {
   "cell_type": "code",
   "execution_count": null,
   "metadata": {},
   "outputs": [],
   "source": [
    "x_val = [i*2 for i in range(5,13)]\n",
    "y_val = [i for i in range(3,7)]\n",
    "y_val.reverse()\n",
    "matrix_ans = []\n",
    "for y in y_val:\n",
    "    print(y,end = \" \")\n",
    "    temp = []\n",
    "    for x in x_val:\n",
    "        print(x,end = \" \")\n",
    "        graph = ring_of_clique(x,y)\n",
    "        part = run_spinglass(graph[0],graph[1],0.5)\n",
    "#         part = run_louvain(graph[0],graph[1])\n",
    "        if(len(part) == x):\n",
    "            temp.append(1)\n",
    "        elif(len(part) < x):\n",
    "            temp.append(0)\n",
    "        else:\n",
    "            temp.append(2)\n",
    "    matrix_ans.append(temp)\n",
    "    print()\n",
    "sns.heatmap(matrix_ans,xticklabels=x_val, yticklabels=y_val)\n",
    "plt.xlabel(\"total ring size \")\n",
    "plt.ylabel(\"each clique size \")\n",
    "plt.show()"
   ]
  },
  {
   "cell_type": "code",
   "execution_count": 32,
   "metadata": {},
   "outputs": [
    {
     "data": {
      "image/png": "[encoded data removed]",
      "text/plain": [
       "<Figure size 432x288 with 2 Axes>"
      ]
     },
     "metadata": {
      "needs_background": "light"
     },
     "output_type": "display_data"
    }
   ],
   "source": [
    "x_val = [i for i in range(30,71)]\n",
    "y_val = [i for i in range(5,31)]\n",
    "y_val.reverse()\n",
    "matrix_ans = []\n",
    "for y in y_val:\n",
    "    temp = []\n",
    "    for x in x_val:\n",
    "        graph = ring_of_clique(x,y)\n",
    "        part = run_louvain(graph[0],graph[1])\n",
    "        if(len(part) == x):\n",
    "            temp.append(1)\n",
    "        elif(len(part) < x):\n",
    "            temp.append(0)\n",
    "        else:\n",
    "            temp.append(2)\n",
    "    matrix_ans.append(temp)\n",
    "\n",
    "sns.heatmap(matrix_ans,xticklabels=x_val, yticklabels=y_val)\n",
    "plt.xlabel(\"total ring size \")\n",
    "plt.ylabel(\"each clique size \")\n",
    "plt.show()"
   ]
  },
  {
   "cell_type": "markdown",
   "metadata": {},
   "source": [
    "## Maxperm\n",
    "\n",
    "x : between 55 , 60 ... 100, total ring size \n",
    "\n",
    "y : between 3 - 30, each clique size\n",
    "\n",
    "1 => Some of the cliques were merged together\n",
    "\n",
    "0 => None of the cliques were merged together\n",
    "\n",
    "2 => not even those small cliques were identified correctly"
   ]
  },
  {
   "cell_type": "code",
   "execution_count": 46,
   "metadata": {},
   "outputs": [
    {
     "data": {
      "image/png": "[encoded data removed]",
      "text/plain": [
       "<Figure size 432x288 with 2 Axes>"
      ]
     },
     "metadata": {
      "needs_background": "light"
     },
     "output_type": "display_data"
    }
   ],
   "source": [
    "x_val = [i*5 for i in range(10,21)]\n",
    "y_val = [i for i in range(3,31)]\n",
    "matrix_ans = []\n",
    "y_val.reverse()\n",
    "for y in y_val:\n",
    "    temp = []\n",
    "    for x in x_val:\n",
    "        graph = ring_of_clique(x,y)\n",
    "        part = run_maxperm(graph[0],graph[1])\n",
    "        if(len(part) == x):\n",
    "            temp.append(1)\n",
    "        elif(len(part) < x):\n",
    "            temp.append(0)\n",
    "        else:\n",
    "            temp.append(2)\n",
    "    matrix_ans.append(temp)\n",
    "\n",
    "sns.heatmap(matrix_ans,xticklabels=x_val, yticklabels=y_val)\n",
    "plt.xlabel(\"total ring size \")\n",
    "plt.ylabel(\"each clique size \")\n",
    "plt.show()"
   ]
  },
  {
   "cell_type": "markdown",
   "metadata": {},
   "source": [
    "# One clique surrounded by others(Generalized)\n",
    "\n",
    "## Modularity\n",
    "\n",
    "### CASE 1 varying x and y\n",
    "\n",
    "x : between 30,35 ... 100, total ring size \n",
    "\n",
    "y : between 7 - 30, each clique size\n",
    "\n",
    "alpha : 10, number of outer cliques\n",
    "\n",
    "beta : 7, number of edges between main and each outer clique\n",
    "\n",
    "1 => each and every clique were correctly identified\n",
    "\n",
    "0 => each node from main clique merged into its respective clique\n",
    "\n",
    "2 => exception cases\n",
    "\n",
    "https://www.desmos.com/calculator/5r82070boc"
   ]
  },
  {
   "cell_type": "code",
   "execution_count": 25,
   "metadata": {},
   "outputs": [
    {
     "data": {
      "image/png": "[encoded data removed]",
      "text/plain": [
       "<Figure size 432x288 with 2 Axes>"
      ]
     },
     "metadata": {
      "needs_background": "light"
     },
     "output_type": "display_data"
    }
   ],
   "source": [
    "x_val = [i*5 for i in range(6,21)]\n",
    "y_val = [i for i in range(7,31)]\n",
    "alpha = 5\n",
    "beta = 4\n",
    "y_val.reverse()\n",
    "matrix_ans = []\n",
    "for y in y_val:\n",
    "    temp = []\n",
    "    for x in x_val:\n",
    "        graph = comm_surr_comm(x,y,alpha,beta)\n",
    "        part = run_louvain(graph[0],graph[1])\n",
    "        if(len(part) == (alpha + 1)):\n",
    "            flag = 1\n",
    "            for i in range(x):\n",
    "                for j in part:\n",
    "                    if(i in part[j]):\n",
    "                        if(max(part[j]) in range(x)):\n",
    "                            continue\n",
    "                        else:\n",
    "                            flag = 0\n",
    "                            break\n",
    "                if(flag == 0):\n",
    "                    break\n",
    "            temp.append(flag)\n",
    "    \n",
    "        else:\n",
    "            temp.append(2)\n",
    "            \n",
    "    matrix_ans.append(temp)\n",
    "\n",
    "sns.heatmap(matrix_ans,xticklabels=x_val, yticklabels=y_val)\n",
    "plt.xlabel(\"main clique size \")\n",
    "plt.ylabel(\"each outer clique size \")\n",
    "plt.show()"
   ]
  },
  {
   "cell_type": "code",
   "execution_count": null,
   "metadata": {},
   "outputs": [],
   "source": [
    "x_val = [i*5 for i in range(6,21)]\n",
    "y_val = [i for i in range(7,31)]\n",
    "alpha = 5\n",
    "beta = 4\n",
    "y_val.reverse()\n",
    "matrix_ans = []\n",
    "for y in y_val:\n",
    "    temp = []\n",
    "#     print(y)\n",
    "    for x in x_val:\n",
    "#         print(x,end = \" \")\n",
    "        graph = comm_surr_comm(x,y,alpha,beta)\n",
    "        part = run_spinglass(graph[0],graph[1],2)\n",
    "        if(len(part) == (alpha + 1)):\n",
    "            flag = 1\n",
    "            for i in range(x):\n",
    "                for j in part:\n",
    "                    if(i in part[j]):\n",
    "                        if(max(part[j]) in range(x)):\n",
    "                            continue\n",
    "                        else:\n",
    "                            flag = 0\n",
    "                            break\n",
    "                if(flag == 0):\n",
    "                    break\n",
    "            temp.append(flag)\n",
    "    \n",
    "        else:\n",
    "            temp.append(0)\n",
    "            \n",
    "    matrix_ans.append(temp)\n",
    "\n",
    "sns.heatmap(matrix_ans,xticklabels=x_val, yticklabels=y_val)\n",
    "plt.xlabel(\"main clique size \")\n",
    "plt.ylabel(\"each outer clique size \")\n",
    "plt.show()"
   ]
  },
  {
   "cell_type": "code",
   "execution_count": null,
   "metadata": {},
   "outputs": [],
   "source": [
    "x_val = [i*5 for i in range(6,21)]\n",
    "y_val = [i for i in range(7,31)]\n",
    "alpha = 5\n",
    "beta = 4\n",
    "y_val.reverse()\n",
    "matrix_ans = []\n",
    "for y in y_val:\n",
    "    temp = []\n",
    "#     print(y)\n",
    "    for x in x_val:\n",
    "#         print(x,end = \" \")\n",
    "        graph = comm_surr_comm(x,y,alpha,beta)\n",
    "        part = run_spinglass(graph[0],graph[1],1)\n",
    "        if(len(part) == (alpha + 1)):\n",
    "            flag = 1\n",
    "            for i in range(x):\n",
    "                for j in part:\n",
    "                    if(i in part[j]):\n",
    "                        if(max(part[j]) in range(x)):\n",
    "                            continue\n",
    "                        else:\n",
    "                            flag = 0\n",
    "                            break\n",
    "                if(flag == 0):\n",
    "                    break\n",
    "            temp.append(flag)\n",
    "    \n",
    "        else:\n",
    "            temp.append(0)\n",
    "            \n",
    "    matrix_ans.append(temp)\n",
    "\n",
    "sns.heatmap(matrix_ans,xticklabels=x_val, yticklabels=y_val)\n",
    "plt.xlabel(\"main clique size \")\n",
    "plt.ylabel(\"each outer clique size \")\n",
    "plt.show()"
   ]
  },
  {
   "cell_type": "code",
   "execution_count": null,
   "metadata": {},
   "outputs": [],
   "source": [
    "x_val = [i*5 for i in range(6,21)]\n",
    "y_val = [i for i in range(7,31)]\n",
    "alpha = 5\n",
    "beta = 4\n",
    "y_val.reverse()\n",
    "matrix_ans = []\n",
    "for y in y_val:\n",
    "    temp = []\n",
    "#     print(y)\n",
    "    for x in x_val:\n",
    "#         print(x,end = \" \")\n",
    "        graph = comm_surr_comm(x,y,alpha,beta)\n",
    "        part = run_louvain(graph[0],graph[1])\n",
    "        if(len(part) == (alpha + 1)):\n",
    "            flag = 1\n",
    "            for i in range(x):\n",
    "                for j in part:\n",
    "                    if(i in part[j]):\n",
    "                        if(max(part[j]) in range(x)):\n",
    "                            continue\n",
    "                        else:\n",
    "                            flag = 0\n",
    "                            break\n",
    "                if(flag == 0):\n",
    "                    break\n",
    "            temp.append(flag)\n",
    "    \n",
    "        else:\n",
    "            temp.append(0)\n",
    "            \n",
    "    matrix_ans.append(temp)\n",
    "\n",
    "sns.heatmap(matrix_ans,xticklabels=x_val, yticklabels=y_val)\n",
    "plt.xlabel(\"main clique size \")\n",
    "plt.ylabel(\"each outer clique size \")\n",
    "plt.show()"
   ]
  },
  {
   "cell_type": "code",
   "execution_count": null,
   "metadata": {},
   "outputs": [],
   "source": [
    "x_val = [i*5 for i in range(6,21)]\n",
    "y_val = [i for i in range(7,31)]\n",
    "alpha = 5\n",
    "beta = 4\n",
    "y_val.reverse()\n",
    "matrix_ans = []\n",
    "for y in y_val:\n",
    "    temp = []\n",
    "#     print(y)\n",
    "    for x in x_val:\n",
    "#         print(x,end = \" \")\n",
    "        graph = comm_surr_comm(x,y,alpha,beta)\n",
    "        part = run_spinglass(graph[0],graph[1],0.5)\n",
    "        if(len(part) == (alpha + 1)):\n",
    "            flag = 1\n",
    "            for i in range(x):\n",
    "                for j in part:\n",
    "                    if(i in part[j]):\n",
    "                        if(max(part[j]) in range(x)):\n",
    "                            continue\n",
    "                        else:\n",
    "                            flag = 0\n",
    "                            break\n",
    "                if(flag == 0):\n",
    "                    break\n",
    "            temp.append(flag)\n",
    "    \n",
    "        else:\n",
    "            temp.append(0)\n",
    "            \n",
    "    matrix_ans.append(temp)\n",
    "\n",
    "sns.heatmap(matrix_ans,xticklabels=x_val, yticklabels=y_val)\n",
    "plt.xlabel(\"main clique size \")\n",
    "plt.ylabel(\"each outer clique size \")\n",
    "plt.show()"
   ]
  },
  {
   "cell_type": "code",
   "execution_count": 53,
   "metadata": {},
   "outputs": [
    {
     "name": "stdout",
     "output_type": "stream",
     "text": [
      "{0: [0], 1: [1], 2: [2], 3: [3], 4: [4], 5: [5], 6: [6], 7: [7], 8: [8], 9: [9], 10: [10], 11: [11], 12: [12], 13: [13], 14: [14], 15: [15], 16: [16], 17: [17], 18: [18], 19: [19], 20: [20], 21: [21], 22: [22], 23: [23], 24: [24], 25: [25], 26: [26], 27: [27], 28: [28], 29: [29], 30: [30], 31: [31], 32: [32], 33: [33], 34: [34], 35: [35], 36: [36], 37: [37], 38: [38], 39: [39], 40: [40, 41, 42, 43, 44, 45, 46, 47, 48, 49, 50, 51, 52, 53, 54, 55, 56, 57, 58, 59], 41: [60, 61, 62, 63, 64, 65, 66, 67, 68, 69, 70, 71, 72, 73, 74, 75, 76, 77, 78, 79], 42: [80, 81, 82, 83, 84, 85, 86, 87, 88, 89, 90, 91, 92, 93, 94, 95, 96, 97, 98, 99], 43: [100, 101, 102, 103, 104, 105, 106, 107, 108, 109, 110, 111, 112, 113, 114, 115, 116, 117, 118, 119], 44: [120, 121, 122, 123, 124, 125, 126, 127, 128, 129, 130, 131, 132, 133, 134, 135, 136, 137, 138, 139]}\n",
      "False\n"
     ]
    }
   ],
   "source": [
    "graph = comm_surr_comm(40,20,5,4)\n",
    "part = run_spinglass(graph[0],graph[1],2)\n",
    "print(part)\n",
    "print(len(part) == (alpha + 1))"
   ]
  },
  {
   "cell_type": "code",
   "execution_count": 35,
   "metadata": {},
   "outputs": [
    {
     "name": "stdout",
     "output_type": "stream",
     "text": [
      "{0: [0, 1, 2, 3, 4, 5, 6, 7, 8, 9, 10, 11, 12, 13, 14, 15, 16, 17, 18, 19, 20, 21, 22, 23, 24, 25, 26, 27, 28, 29, 30, 31, 32, 33, 34, 35, 36, 37, 38, 39], 1: [40, 41, 42, 43, 44, 45, 46, 47, 48], 2: [49, 50, 51, 52, 53, 54, 55, 56, 57], 3: [58, 59, 60, 61, 62, 63, 64, 65, 66], 4: [67, 68, 69, 70, 71, 72, 73, 74, 75], 5: [76, 77, 78, 79, 80, 81, 82, 83, 84]}\n"
     ]
    }
   ],
   "source": [
    "graph = comm_surr_comm(40,9,5,4)\n",
    "part = run_louvain(graph[0],graph[1])\n",
    "print(part)"
   ]
  },
  {
   "cell_type": "code",
   "execution_count": 48,
   "metadata": {},
   "outputs": [
    {
     "data": {
      "image/png": "[encoded data removed]",
      "text/plain": [
       "<Figure size 432x288 with 2 Axes>"
      ]
     },
     "metadata": {
      "needs_background": "light"
     },
     "output_type": "display_data"
    }
   ],
   "source": [
    "x_val = [i*5 for i in range(6,35)]\n",
    "y_val = [i for i in range(15,41)]\n",
    "alpha = 10\n",
    "beta = 15\n",
    "matrix_ans = []\n",
    "y_val.reverse()\n",
    "for y in y_val:\n",
    "    temp = []\n",
    "    for x in x_val:\n",
    "        graph = comm_surr_comm(x,y,alpha,beta)\n",
    "        part = run_louvain(graph[0],graph[1])\n",
    "        if(len(part) == (alpha + 1)):\n",
    "            flag = 1\n",
    "            for i in range(x):\n",
    "                for j in part:\n",
    "                    if(i in j):\n",
    "                        if(max(j) < x):\n",
    "                            continue\n",
    "                        else:\n",
    "                            flag = 0\n",
    "                            break\n",
    "                if(flag == 0):\n",
    "                    break\n",
    "            temp.append(flag)\n",
    "    \n",
    "        else:\n",
    "            temp.append(2)\n",
    "            \n",
    "    matrix_ans.append(temp)\n",
    "\n",
    "sns.heatmap(matrix_ans,xticklabels=x_val, yticklabels=y_val)\n",
    "plt.xlabel(\"main clique size\")\n",
    "plt.ylabel(\"each outer clique size \")\n",
    "plt.show()"
   ]
  },
  {
   "cell_type": "markdown",
   "metadata": {},
   "source": [
    "### CASE 2 varying alpha and beta\n",
    "\n",
    "x : 100, total ring size \n",
    "\n",
    "y : 10, each clique size\n",
    "\n",
    "alpha : 2 - 30, number of outer cliques\n",
    "\n",
    "beta : 1 - 10, number of edges between main and each outer clique\n",
    "\n",
    "1 => each and every clique were correctly identified\n",
    "\n",
    "0 => each node from main clique merged into its respective clique\n",
    "\n",
    "2 => exception cases\n",
    "\n",
    "https://www.desmos.com/calculator/z32db1ohpb"
   ]
  },
  {
   "cell_type": "code",
   "execution_count": 49,
   "metadata": {},
   "outputs": [
    {
     "data": {
      "image/png": "[encoded data removed]",
      "text/plain": [
       "<Figure size 432x288 with 2 Axes>"
      ]
     },
     "metadata": {
      "needs_background": "light"
     },
     "output_type": "display_data"
    }
   ],
   "source": [
    "alpha_val = [i for i in range(2,30)]\n",
    "beta_val = [i for i in range(1,10)]\n",
    "beta_val.reverse()\n",
    "x = 100\n",
    "y = 10\n",
    "matrix_ans = []\n",
    "for beta in beta_val:\n",
    "    temp = []\n",
    "    for alpha in alpha_val:\n",
    "        graph = comm_surr_comm(x,y,alpha,beta)\n",
    "        part = run_louvain(graph[0],graph[1])\n",
    "        if(len(part) == (alpha + 1)):\n",
    "            flag = 1\n",
    "            for i in range(x):\n",
    "                for j in part:\n",
    "                    if(i in j):\n",
    "                        if(max(j) < x):\n",
    "                            continue\n",
    "                        else:\n",
    "                            flag = 0\n",
    "                            break\n",
    "                if(flag == 0):\n",
    "                    break\n",
    "            temp.append(flag)\n",
    "    \n",
    "        else:\n",
    "            temp.append(2)\n",
    "#         print(part,flag)\n",
    "            \n",
    "    matrix_ans.append(temp)\n",
    "\n",
    "sns.heatmap(matrix_ans,xticklabels=alpha_val, yticklabels=beta_val)\n",
    "plt.xlabel(\"alpha \")\n",
    "plt.ylabel(\"beta \")\n",
    "plt.show()"
   ]
  },
  {
   "cell_type": "markdown",
   "metadata": {},
   "source": [
    "### CASE 3 varying x and beta\n",
    "\n",
    "alpha : 15, total ring size \n",
    "\n",
    "y : 30, each clique size\n",
    "\n",
    "x : 15 - 50, inner clique size\n",
    "\n",
    "beta : 1 - 30, number of edges between main and each outer clique\n",
    "\n",
    "1 => each and every clique were correctly identified\n",
    "\n",
    "0 => each node from main clique merged into its respective clique\n",
    "\n",
    "2 => exception cases\n",
    "\n",
    "https://www.desmos.com/calculator/wegcen1fge"
   ]
  },
  {
   "cell_type": "code",
   "execution_count": 50,
   "metadata": {},
   "outputs": [
    {
     "data": {
      "image/png": "[encoded data removed]",
      "text/plain": [
       "<Figure size 432x288 with 2 Axes>"
      ]
     },
     "metadata": {
      "needs_background": "light"
     },
     "output_type": "display_data"
    }
   ],
   "source": [
    "x_val = [i for i in range(16,31)]\n",
    "beta_val = [i for i in range(1,30)]\n",
    "beta_val.reverse()\n",
    "alpha = 15\n",
    "y = 30\n",
    "matrix_ans = []\n",
    "for beta in beta_val:\n",
    "    temp = []\n",
    "    for x in x_val:\n",
    "        graph = comm_surr_comm(x,y,alpha,beta)\n",
    "        part = run_louvain(graph[0],graph[1])\n",
    "#         print(part)\n",
    "        if(len(part) == alpha):\n",
    "            temp.append(0)  \n",
    "        elif(len(part) == (alpha + 1)):\n",
    "            flag = 1\n",
    "            for i in range(x):\n",
    "                for j in part:\n",
    "                    if(i in j):\n",
    "                        if(max(j) < x):\n",
    "                            continue\n",
    "                        else:\n",
    "                            flag = 0\n",
    "                            break\n",
    "                if(flag == 0):\n",
    "                    break\n",
    "            temp.append(flag)\n",
    "    \n",
    "        else:\n",
    "            temp.append(2)\n",
    "            \n",
    "    matrix_ans.append(temp)\n",
    "\n",
    "sns.heatmap(matrix_ans,xticklabels=x_val, yticklabels=beta_val)\n",
    "plt.xlabel(\"main clique size \")\n",
    "plt.ylabel(\"beta \")\n",
    "plt.show()"
   ]
  },
  {
   "cell_type": "code",
   "execution_count": 51,
   "metadata": {},
   "outputs": [
    {
     "name": "stdout",
     "output_type": "stream",
     "text": [
      "Clustering with 482 elements and 16 clusters\n",
      "[ 0] 0, 32, 33, 34, 35, 36, 37, 38, 39, 40, 41, 42, 43, 44, 45, 46, 47, 48,\n",
      "     49, 50, 51, 52, 53, 54, 55, 56, 57, 58, 59, 60, 61\n",
      "[ 1] 1, 62, 63, 64, 65, 66, 67, 68, 69, 70, 71, 72, 73, 74, 75, 76, 77, 78,\n",
      "     79, 80, 81, 82, 83, 84, 85, 86, 87, 88, 89, 90, 91\n",
      "[ 2] 2, 92, 93, 94, 95, 96, 97, 98, 99, 100, 101, 102, 103, 104, 105, 106,\n",
      "     107, 108, 109, 110, 111, 112, 113, 114, 115, 116, 117, 118, 119, 120, 121\n",
      "[ 3] 3, 122, 123, 124, 125, 126, 127, 128, 129, 130, 131, 132, 133, 134, 135,\n",
      "     136, 137, 138, 139, 140, 141, 142, 143, 144, 145, 146, 147, 148, 149,\n",
      "     150, 151\n",
      "[ 4] 4, 152, 153, 154, 155, 156, 157, 158, 159, 160, 161, 162, 163, 164, 165,\n",
      "     166, 167, 168, 169, 170, 171, 172, 173, 174, 175, 176, 177, 178, 179,\n",
      "     180, 181\n",
      "[ 5] 5, 182, 183, 184, 185, 186, 187, 188, 189, 190, 191, 192, 193, 194, 195,\n",
      "     196, 197, 198, 199, 200, 201, 202, 203, 204, 205, 206, 207, 208, 209,\n",
      "     210, 211\n",
      "[ 6] 6, 212, 213, 214, 215, 216, 217, 218, 219, 220, 221, 222, 223, 224, 225,\n",
      "     226, 227, 228, 229, 230, 231, 232, 233, 234, 235, 236, 237, 238, 239,\n",
      "     240, 241\n",
      "[ 7] 7, 242, 243, 244, 245, 246, 247, 248, 249, 250, 251, 252, 253, 254, 255,\n",
      "     256, 257, 258, 259, 260, 261, 262, 263, 264, 265, 266, 267, 268, 269,\n",
      "     270, 271\n",
      "[ 8] 8, 272, 273, 274, 275, 276, 277, 278, 279, 280, 281, 282, 283, 284, 285,\n",
      "     286, 287, 288, 289, 290, 291, 292, 293, 294, 295, 296, 297, 298, 299,\n",
      "     300, 301\n",
      "[ 9] 9, 302, 303, 304, 305, 306, 307, 308, 309, 310, 311, 312, 313, 314, 315,\n",
      "     316, 317, 318, 319, 320, 321, 322, 323, 324, 325, 326, 327, 328, 329,\n",
      "     330, 331\n",
      "[10] 10, 332, 333, 334, 335, 336, 337, 338, 339, 340, 341, 342, 343, 344, 345,\n",
      "     346, 347, 348, 349, 350, 351, 352, 353, 354, 355, 356, 357, 358, 359,\n",
      "     360, 361\n",
      "[11] 11, 362, 363, 364, 365, 366, 367, 368, 369, 370, 371, 372, 373, 374, 375,\n",
      "     376, 377, 378, 379, 380, 381, 382, 383, 384, 385, 386, 387, 388, 389,\n",
      "     390, 391\n",
      "[12] 12, 392, 393, 394, 395, 396, 397, 398, 399, 400, 401, 402, 403, 404, 405,\n",
      "     406, 407, 408, 409, 410, 411, 412, 413, 414, 415, 416, 417, 418, 419,\n",
      "     420, 421\n",
      "[13] 13, 422, 423, 424, 425, 426, 427, 428, 429, 430, 431, 432, 433, 434, 435,\n",
      "     436, 437, 438, 439, 440, 441, 442, 443, 444, 445, 446, 447, 448, 449,\n",
      "     450, 451\n",
      "[14] 14, 452, 453, 454, 455, 456, 457, 458, 459, 460, 461, 462, 463, 464, 465,\n",
      "     466, 467, 468, 469, 470, 471, 472, 473, 474, 475, 476, 477, 478, 479,\n",
      "     480, 481\n",
      "[15] 15, 16, 17, 18, 19, 20, 21, 22, 23, 24, 25, 26, 27, 28, 29, 30, 31\n"
     ]
    }
   ],
   "source": [
    "graph = comm_surr_comm(32,y,alpha,19)\n",
    "part = run_louvain(graph[0],graph[1])\n",
    "print(part)"
   ]
  },
  {
   "cell_type": "markdown",
   "metadata": {},
   "source": [
    "### CASE 4 varying y and beta\n",
    "\n",
    "alpha : 20, total ring size \n",
    "\n",
    "y : 20 - 40, each clique size\n",
    "\n",
    "x : 15, inner clique size\n",
    "\n",
    "beta : 1 - 20, number of edges between main and each outer clique\n",
    "\n",
    "1 => each and every clique were correctly identified\n",
    "\n",
    "0 => each node from main clique merged into its respective clique\n",
    "\n",
    "2 => exception cases\n",
    "\n",
    "https://www.desmos.com/calculator/rrkzhltosb"
   ]
  },
  {
   "cell_type": "code",
   "execution_count": 52,
   "metadata": {
    "scrolled": true
   },
   "outputs": [
    {
     "data": {
      "image/png": "[encoded data removed]",
      "text/plain": [
       "<Figure size 432x288 with 2 Axes>"
      ]
     },
     "metadata": {
      "needs_background": "light"
     },
     "output_type": "display_data"
    }
   ],
   "source": [
    "y_val = [i for i in range(20,40)]\n",
    "beta_val = [i for i in range(1,20)]\n",
    "y_val.reverse()\n",
    "alpha = 10\n",
    "x = 15\n",
    "matrix_ans = []\n",
    "for y in y_val:\n",
    "    temp = []\n",
    "    for beta in beta_val:\n",
    "        graph = comm_surr_comm(x,y,alpha,beta)\n",
    "        part = run_louvain(graph[0],graph[1])\n",
    "#         if(y == 31):\n",
    "#             print(part)\n",
    "        if(len(part) == (alpha + 1)):\n",
    "            flag = 1\n",
    "            for i in range(x):\n",
    "                for j in part:\n",
    "                    if(i in j):\n",
    "                        if(max(j) < x):\n",
    "                            continue\n",
    "                        else:\n",
    "                            flag = 0\n",
    "                            break\n",
    "                if(flag == 0):\n",
    "                    break\n",
    "#             print(x,y,alpha,beta,flag)\n",
    "            temp.append(flag)\n",
    "    \n",
    "        else:\n",
    "            temp.append(2)\n",
    "            \n",
    "    matrix_ans.append(temp)\n",
    "\n",
    "sns.heatmap(matrix_ans,xticklabels=beta_val, yticklabels=y_val)\n",
    "plt.xlabel(\"beta \")\n",
    "plt.ylabel(\"each outer clique size \")\n",
    "plt.show()"
   ]
  },
  {
   "cell_type": "code",
   "execution_count": 53,
   "metadata": {},
   "outputs": [
    {
     "name": "stdout",
     "output_type": "stream",
     "text": [
      "Clustering with 325 elements and 11 clusters\n",
      "[ 0] 0, 1, 2, 3, 4, 5, 6, 7, 8, 9, 10, 11, 12, 13, 14\n",
      "[ 1] 15, 16, 17, 18, 19, 20, 21, 22, 23, 24, 25, 26, 27, 28, 29, 30, 31, 32,\n",
      "     33, 34, 35, 36, 37, 38, 39, 40, 41, 42, 43, 44, 45\n",
      "[ 2] 46, 47, 48, 49, 50, 51, 52, 53, 54, 55, 56, 57, 58, 59, 60, 61, 62, 63,\n",
      "     64, 65, 66, 67, 68, 69, 70, 71, 72, 73, 74, 75, 76\n",
      "[ 3] 77, 78, 79, 80, 81, 82, 83, 84, 85, 86, 87, 88, 89, 90, 91, 92, 93, 94,\n",
      "     95, 96, 97, 98, 99, 100, 101, 102, 103, 104, 105, 106, 107\n",
      "[ 4] 108, 109, 110, 111, 112, 113, 114, 115, 116, 117, 118, 119, 120, 121,\n",
      "     122, 123, 124, 125, 126, 127, 128, 129, 130, 131, 132, 133, 134, 135,\n",
      "     136, 137, 138\n",
      "[ 5] 139, 140, 141, 142, 143, 144, 145, 146, 147, 148, 149, 150, 151, 152,\n",
      "     153, 154, 155, 156, 157, 158, 159, 160, 161, 162, 163, 164, 165, 166,\n",
      "     167, 168, 169\n",
      "[ 6] 170, 171, 172, 173, 174, 175, 176, 177, 178, 179, 180, 181, 182, 183,\n",
      "     184, 185, 186, 187, 188, 189, 190, 191, 192, 193, 194, 195, 196, 197,\n",
      "     198, 199, 200\n",
      "[ 7] 201, 202, 203, 204, 205, 206, 207, 208, 209, 210, 211, 212, 213, 214,\n",
      "     215, 216, 217, 218, 219, 220, 221, 222, 223, 224, 225, 226, 227, 228,\n",
      "     229, 230, 231\n",
      "[ 8] 232, 233, 234, 235, 236, 237, 238, 239, 240, 241, 242, 243, 244, 245,\n",
      "     246, 247, 248, 249, 250, 251, 252, 253, 254, 255, 256, 257, 258, 259,\n",
      "     260, 261, 262\n",
      "[ 9] 263, 264, 265, 266, 267, 268, 269, 270, 271, 272, 273, 274, 275, 276,\n",
      "     277, 278, 279, 280, 281, 282, 283, 284, 285, 286, 287, 288, 289, 290,\n",
      "     291, 292, 293\n",
      "[10] 294, 295, 296, 297, 298, 299, 300, 301, 302, 303, 304, 305, 306, 307,\n",
      "     308, 309, 310, 311, 312, 313, 314, 315, 316, 317, 318, 319, 320, 321,\n",
      "     322, 323, 324\n"
     ]
    }
   ],
   "source": [
    "graph = comm_surr_comm(15,31,10,11)\n",
    "part = run_louvain(graph[0],graph[1])\n",
    "print(part)"
   ]
  },
  {
   "cell_type": "markdown",
   "metadata": {},
   "source": [
    "## Maxperm\n",
    "\n",
    "### CASE 1 varying x and y\n",
    "\n",
    "x : between 30,35 ... 100, total main clique size \n",
    "\n",
    "y : between 7 - 30, each clique size\n",
    "\n",
    "alpha : 10, number of outer cliques\n",
    "\n",
    "beta : 7, number of edges between main and each outer clique\n",
    "\n",
    "1 => none of the nodes in main clique merged with outside cliques\n",
    "\n",
    "0 => each node from main clique merged into its respective clique\n",
    "\n",
    "2 => exception cases"
   ]
  },
  {
   "cell_type": "code",
   "execution_count": 75,
   "metadata": {},
   "outputs": [
    {
     "name": "stdout",
     "output_type": "stream",
     "text": [
      "20\n",
      "19\n",
      "18\n",
      "17\n",
      "16\n",
      "15\n",
      "14\n",
      "13\n",
      "12\n",
      "11\n",
      "10\n",
      "9\n",
      "8\n",
      "7\n"
     ]
    },
    {
     "data": {
      "image/png": "[encoded data removed]",
      "text/plain": [
       "<Figure size 432x288 with 2 Axes>"
      ]
     },
     "metadata": {
      "needs_background": "light"
     },
     "output_type": "display_data"
    }
   ],
   "source": [
    "x_val = [i for i in range(11,26)]\n",
    "y_val = [i for i in range(7,21)]\n",
    "alpha = 10\n",
    "beta = 7\n",
    "y_val.reverse()\n",
    "matrix_ans = []\n",
    "for y in y_val:\n",
    "    print(y)\n",
    "    temp = []\n",
    "    for x in x_val:\n",
    "        graph = comm_surr_comm(x,y,alpha,beta)\n",
    "        part = run_maxperm(graph[0],graph[1])\n",
    "        flag = 1\n",
    "        for i in range(x):\n",
    "            for j in part:\n",
    "                if(i in part[j]):\n",
    "                    if(max(part[j]) in range(x)):\n",
    "                        continue\n",
    "                    else:\n",
    "                        flag = 0\n",
    "                        break\n",
    "            if(flag == 0):\n",
    "                break\n",
    "        temp.append(flag)\n",
    "            \n",
    "    matrix_ans.append(temp)\n",
    "\n",
    "sns.heatmap(matrix_ans,xticklabels=x_val, yticklabels=y_val)\n",
    "plt.ylabel(\"each outer clique size \")\n",
    "plt.xlabel(\"main clique size \")\n",
    "plt.show()"
   ]
  },
  {
   "cell_type": "code",
   "execution_count": 73,
   "metadata": {},
   "outputs": [],
   "source": [
    "graph = comm_surr_comm(10,15,10,7)\n",
    "part = run_maxperm(graph[0],graph[1])"
   ]
  },
  {
   "cell_type": "markdown",
   "metadata": {},
   "source": [
    "### CASE 2 varying alpha and beta\n",
    "\n",
    "x : 100, main clique size \n",
    "\n",
    "y : 10, each clique size\n",
    "\n",
    "alpha : 2 - 30, number of outer cliques\n",
    "\n",
    "beta : 1 - 10, number of edges between main and each outer clique\n",
    "\n",
    "1 => each and every clique were correctly identified\n",
    "\n",
    "0 => each node from main clique merged into its respective clique\n",
    "\n",
    "2 => exception cases"
   ]
  },
  {
   "cell_type": "code",
   "execution_count": 76,
   "metadata": {},
   "outputs": [
    {
     "name": "stdout",
     "output_type": "stream",
     "text": [
      "9 8 7 6 5 4 3 2 1 "
     ]
    },
    {
     "data": {
      "image/png": "[encoded data removed]",
      "text/plain": [
       "<Figure size 432x288 with 2 Axes>"
      ]
     },
     "metadata": {
      "needs_background": "light"
     },
     "output_type": "display_data"
    }
   ],
   "source": [
    "alpha_val = [i for i in range(2,30)]\n",
    "beta_val = [i for i in range(1,10)]\n",
    "beta_val.reverse()\n",
    "x = 60\n",
    "y = 10\n",
    "matrix_ans = []\n",
    "for beta in beta_val:\n",
    "    temp = []\n",
    "    print(beta,end = \" \")\n",
    "    for alpha in alpha_val:\n",
    "        graph = comm_surr_comm(x,y,alpha,beta)\n",
    "        part = run_maxperm(graph[0],graph[1])\n",
    "        flag = 1\n",
    "        for i in range(x):\n",
    "            for j in part:\n",
    "                if(i in part[j]):\n",
    "                    if(max(part[j]) in range(x)):\n",
    "                        continue\n",
    "                    else:\n",
    "                        flag = 0\n",
    "                        break\n",
    "            if(flag == 0):\n",
    "                break\n",
    "        temp.append(flag)\n",
    "            \n",
    "    matrix_ans.append(temp)\n",
    "\n",
    "sns.heatmap(matrix_ans,xticklabels=alpha_val, yticklabels=beta_val)\n",
    "plt.ylabel(\"beta \")\n",
    "plt.xlabel(\"alpha \")\n",
    "plt.show()"
   ]
  },
  {
   "cell_type": "markdown",
   "metadata": {},
   "source": [
    "### CASE 3 varying x and beta\n",
    "\n",
    "alpha : 15, main clique size \n",
    "\n",
    "y : 30, each clique size\n",
    "\n",
    "x : 15 - 50, inner clique size\n",
    "\n",
    "beta : 1 - 30, number of edges between main and each outer clique\n",
    "\n",
    "1 => each and every clique were correctly identified\n",
    "\n",
    "0 => each node from main clique merged into its respective clique\n",
    "\n",
    "2 => exception cases"
   ]
  },
  {
   "cell_type": "code",
   "execution_count": 77,
   "metadata": {},
   "outputs": [
    {
     "name": "stdout",
     "output_type": "stream",
     "text": [
      "29 28 27 26 25 24 23 22 21 20 19 18 17 16 15 14 13 12 11 10 9 8 7 6 5 4 3 2 1 "
     ]
    },
    {
     "data": {
      "image/png": "[encoded data removed]",
      "text/plain": [
       "<Figure size 432x288 with 2 Axes>"
      ]
     },
     "metadata": {
      "needs_background": "light"
     },
     "output_type": "display_data"
    }
   ],
   "source": [
    "x_val = [i for i in range(15,50)]\n",
    "beta_val = [i for i in range(1,30)]\n",
    "beta_val.reverse()\n",
    "alpha = 15\n",
    "y = 30\n",
    "matrix_ans = []\n",
    "for beta in beta_val:\n",
    "    temp = []\n",
    "    print(beta,end = \" \")\n",
    "    for x in x_val:\n",
    "        graph = comm_surr_comm(x,y,alpha,beta)\n",
    "        part = run_maxperm(graph[0],graph[1])\n",
    "        flag = 1\n",
    "        for i in range(x):\n",
    "            for j in part:\n",
    "                if(i in part[j]):\n",
    "                    if(max(part[j]) in range(x)):\n",
    "                        continue\n",
    "                    else:\n",
    "                        flag = 0\n",
    "                        break\n",
    "            if(flag == 0):\n",
    "                break\n",
    "        temp.append(flag)\n",
    "\n",
    "            \n",
    "    matrix_ans.append(temp)\n",
    "\n",
    "sns.heatmap(matrix_ans,xticklabels=x_val, yticklabels=beta_val)\n",
    "plt.ylabel(\"beta \")\n",
    "plt.xlabel(\"main clique size \")\n",
    "plt.show()"
   ]
  },
  {
   "cell_type": "markdown",
   "metadata": {},
   "source": [
    "### CASE 4 varying y and beta\n",
    "\n",
    "alpha : 20, main clique size \n",
    "\n",
    "y : 20 - 40, each clique size\n",
    "\n",
    "x : 15, inner clique size\n",
    "\n",
    "beta : 1 - 20, number of edges between main and each outer clique\n",
    "\n",
    "1 => each and every clique were correctly identified\n",
    "\n",
    "0 => each node from main clique merged into its respective clique\n",
    "\n",
    "2 => exception cases"
   ]
  },
  {
   "cell_type": "code",
   "execution_count": 78,
   "metadata": {},
   "outputs": [
    {
     "name": "stdout",
     "output_type": "stream",
     "text": [
      "39 38 37 36 35 34 33 32 31 30 29 28 27 26 25 24 23 22 21 20 "
     ]
    },
    {
     "data": {
      "image/png": "[encoded data removed]",
      "text/plain": [
       "<Figure size 432x288 with 2 Axes>"
      ]
     },
     "metadata": {
      "needs_background": "light"
     },
     "output_type": "display_data"
    }
   ],
   "source": [
    "y_val = [i for i in range(20,40)]\n",
    "beta_val = [i for i in range(1,20)]\n",
    "y_val.reverse()\n",
    "alpha = 10\n",
    "x = 15\n",
    "matrix_ans = []\n",
    "for y in y_val:\n",
    "    temp = []\n",
    "    print(y,end = \" \")\n",
    "    for beta in beta_val:\n",
    "        graph = comm_surr_comm(x,y,alpha,beta)\n",
    "        part = run_maxperm(graph[0],graph[1])\n",
    "        flag = 1\n",
    "        for i in range(x):\n",
    "            for j in part:\n",
    "                if(i in part[j]):\n",
    "                    if(max(part[j]) in range(x)):\n",
    "                        continue\n",
    "                    else:\n",
    "                        flag = 0\n",
    "                        break\n",
    "            if(flag == 0):\n",
    "                break\n",
    "        temp.append(flag)\n",
    "            \n",
    "    matrix_ans.append(temp)\n",
    "\n",
    "sns.heatmap(matrix_ans,xticklabels=beta_val, yticklabels=y_val)\n",
    "plt.xlabel(\"beta \")\n",
    "plt.ylabel(\"each outer clique size \")\n",
    "plt.show()"
   ]
  },
  {
   "cell_type": "markdown",
   "metadata": {},
   "source": [
    "# Hub Node (generic)\n",
    "\n",
    "## label propagation\n",
    "\n",
    "### CASE 1: Varying x and y  (btw 5 - 24) with constant alpha = 10 and beta = 10\n",
    "\n",
    "1 => hub node was merged with left community\n",
    "\n",
    "0 => hub node was merged with right community\n",
    "\n",
    "2 => whole graph was considered as one community\n"
   ]
  },
  {
   "cell_type": "code",
   "execution_count": 36,
   "metadata": {},
   "outputs": [
    {
     "data": {
      "image/png": "[encoded data removed]",
      "text/plain": [
       "<Figure size 432x288 with 2 Axes>"
      ]
     },
     "metadata": {
      "needs_background": "light"
     },
     "output_type": "display_data"
    }
   ],
   "source": [
    "x_val = [i for i in range(2,25)]\n",
    "y_val = [i for i in range(2,25)]\n",
    "y_val.reverse()\n",
    "alpha = 10\n",
    "beta = 10\n",
    "matrix_ans = []\n",
    "for j in y_val:\n",
    "    temp = []\n",
    "    for i in x_val:\n",
    "        graph = hub_node_generic(i,j,alpha,beta)\n",
    "        part = run_label_prop(graph[0],graph[1])\n",
    "        if(len(part) == 1):\n",
    "            temp.append(2)\n",
    "            continue;\n",
    "        if(0 in part[0] and 1 in part[0]):\n",
    "            temp.append(1)\n",
    "        elif(0  in part[1] and 1 in part[1]):\n",
    "            temp.append(1)\n",
    "        else:\n",
    "            temp.append(0)\n",
    "    matrix_ans.append(temp)\n",
    "\n",
    "sns.heatmap(matrix_ans,xticklabels=x_val, yticklabels=y_val)\n",
    "plt.xlabel(\"left clique size\")\n",
    "plt.ylabel(\"right clique size\")\n",
    "plt.show()"
   ]
  },
  {
   "cell_type": "markdown",
   "metadata": {},
   "source": [
    "### CASE 2: Varying alpha and beta (btw 5 -24) with constant x = 50 and y = 50\n",
    "\n",
    "1 => hub node was merged with left community\n",
    "\n",
    "0 => hub node was merged with right community\n",
    "\n",
    "2 => whole graph was considered as one community\n"
   ]
  },
  {
   "cell_type": "code",
   "execution_count": 37,
   "metadata": {},
   "outputs": [
    {
     "data": {
      "image/png": "[encoded data removed]",
      "text/plain": [
       "<Figure size 432x288 with 2 Axes>"
      ]
     },
     "metadata": {
      "needs_background": "light"
     },
     "output_type": "display_data"
    }
   ],
   "source": [
    "alpha_val = [i for i in range(5,25)]\n",
    "beta_val = [i for i in range(5,25)]\n",
    "beta_val.reverse()\n",
    "x = 50\n",
    "y = 50\n",
    "matrix_ans = []\n",
    "for beta in beta_val:\n",
    "    temp = []\n",
    "    for alpha in alpha_val:\n",
    "        graph = hub_node_generic(x,y,alpha,beta)\n",
    "        part = run_label_prop(graph[0],graph[1])\n",
    "        if(len(part) == 1):\n",
    "            temp.append(2)\n",
    "            continue;\n",
    "        if(0 in part[0] and 1 in part[0]):\n",
    "            temp.append(1)\n",
    "        elif(0  in part[1] and 1 in part[1]):\n",
    "            temp.append(1)\n",
    "        else:\n",
    "            temp.append(0)\n",
    "    matrix_ans.append(temp)\n",
    "\n",
    "sns.heatmap(matrix_ans,xticklabels=alpha_val, yticklabels=beta_val)\n",
    "plt.xlabel(\"alpha \")\n",
    "plt.ylabel(\"beta \")\n",
    "plt.show()"
   ]
  },
  {
   "cell_type": "markdown",
   "metadata": {},
   "source": [
    "### CASE 3: Varying alpha and x  with constant y = 50 and beta = 10\n",
    "\n",
    "x : 5 10 .. 100 \n",
    "\n",
    "alpha : 5 - 50\n",
    "\n",
    "1 => hub node was merged with left community\n",
    "\n",
    "0 => hub node was merged with right community\n",
    "\n",
    "2 => whole graph was considered as one community\n"
   ]
  },
  {
   "cell_type": "code",
   "execution_count": 38,
   "metadata": {},
   "outputs": [
    {
     "data": {
      "image/png": "[encoded data removed]",
      "text/plain": [
       "<Figure size 432x288 with 2 Axes>"
      ]
     },
     "metadata": {
      "needs_background": "light"
     },
     "output_type": "display_data"
    }
   ],
   "source": [
    "alpha_val = [i for i in range(5,51)]\n",
    "x_val = [i*5 for i in range(1,21)]\n",
    "alpha_val.reverse()\n",
    "beta = 10\n",
    "y = 50\n",
    "matrix_ans = []\n",
    "for alpha in alpha_val:\n",
    "    temp = []\n",
    "    for x in x_val:\n",
    "        graph = hub_node_generic(x,y,alpha,beta)\n",
    "        part = run_label_prop(graph[0],graph[1])\n",
    "        if(len(part) == 1):\n",
    "            temp.append(2)\n",
    "            continue;\n",
    "        if(0 in part[0] and 1 in part[0]):\n",
    "            temp.append(1)\n",
    "        elif(0  in part[1] and 1 in part[1]):\n",
    "            temp.append(1)\n",
    "        else:\n",
    "            temp.append(0)\n",
    "    matrix_ans.append(temp)\n",
    "\n",
    "sns.heatmap(matrix_ans,xticklabels=x_val, yticklabels=alpha_val)\n",
    "plt.xlabel(\"left clique size \")\n",
    "plt.ylabel(\"alpha \")\n",
    "plt.show()"
   ]
  },
  {
   "cell_type": "markdown",
   "metadata": {},
   "source": [
    "# Ring of Cliques\n",
    "\n",
    "## label propagation\n",
    "\n",
    "x : between 55 , 60 ... 100, total ring size \n",
    "\n",
    "y : between 3 - 30, each clique size\n",
    "\n",
    "1 => Some of the cliques were merged together\n",
    "\n",
    "0 => None of the cliques were merged together\n",
    "\n",
    "2 => not even those small cliques were identified correctly\n"
   ]
  },
  {
   "cell_type": "code",
   "execution_count": 39,
   "metadata": {},
   "outputs": [
    {
     "data": {
      "image/png": "[encoded data removed]",
      "text/plain": [
       "<Figure size 432x288 with 2 Axes>"
      ]
     },
     "metadata": {
      "needs_background": "light"
     },
     "output_type": "display_data"
    }
   ],
   "source": [
    "x_val = [i*5 for i in range(5,21)]\n",
    "y_val = [i for i in range(3,31)]\n",
    "y_val.reverse()\n",
    "matrix_ans = []\n",
    "for y in y_val:\n",
    "    temp = []\n",
    "    for x in x_val:\n",
    "        graph = ring_of_clique(x,y)\n",
    "        part = run_label_prop(graph[0],graph[1])\n",
    "        if(len(part) == x):\n",
    "            temp.append(1)\n",
    "        elif(len(part) < x):\n",
    "            temp.append(0)\n",
    "        else:\n",
    "            temp.append(2)\n",
    "    matrix_ans.append(temp)\n",
    "\n",
    "sns.heatmap(matrix_ans,xticklabels=x_val, yticklabels=y_val)\n",
    "plt.xlabel(\"total ring size \")\n",
    "plt.ylabel(\"each clique size \")\n",
    "plt.show()"
   ]
  },
  {
   "cell_type": "markdown",
   "metadata": {},
   "source": [
    "# One clique surrounded by others(Generalized)\n",
    "\n",
    "## label propagation\n",
    "\n",
    "### CASE 1 varying x and y\n",
    "\n",
    "x : between 30,35 ... 100, total ring size \n",
    "\n",
    "y : between 7 - 30, each clique size\n",
    "\n",
    "alpha : 10, number of outer cliques\n",
    "\n",
    "beta : 7, number of edges between main and each outer clique\n",
    "\n",
    "1 => each and every clique were correctly identified\n",
    "\n",
    "0 => each node from main clique merged into its respective clique\n",
    "\n",
    "2 => exception cases\n"
   ]
  },
  {
   "cell_type": "code",
   "execution_count": 40,
   "metadata": {},
   "outputs": [
    {
     "data": {
      "image/png": "[encoded data removed]",
      "text/plain": [
       "<Figure size 432x288 with 2 Axes>"
      ]
     },
     "metadata": {
      "needs_background": "light"
     },
     "output_type": "display_data"
    }
   ],
   "source": [
    "x_val = [i*5 for i in range(6,21)]\n",
    "y_val = [i for i in range(7,31)]\n",
    "alpha = 10\n",
    "beta = 7\n",
    "y_val.reverse()\n",
    "matrix_ans = []\n",
    "for y in y_val:\n",
    "    temp = []\n",
    "    for x in x_val:\n",
    "        graph = comm_surr_comm(x,y,alpha,beta)\n",
    "        part = run_label_prop(graph[0],graph[1])\n",
    "        if(len(part) == (alpha + 1)):\n",
    "            flag = 1\n",
    "            for i in range(x):\n",
    "                for j in part:\n",
    "                    if(i in part[j]):\n",
    "                        if(max(part[j]) in range(x)):\n",
    "                            continue\n",
    "                        else:\n",
    "                            flag = 0\n",
    "                            break\n",
    "                if(flag == 0):\n",
    "                    break\n",
    "            temp.append(flag)\n",
    "    \n",
    "        else:\n",
    "            temp.append(2)\n",
    "            \n",
    "    matrix_ans.append(temp)\n",
    "\n",
    "sns.heatmap(matrix_ans,xticklabels=x_val, yticklabels=y_val)\n",
    "plt.xlabel(\"main clique size \")\n",
    "plt.ylabel(\"each outer clique size \")\n",
    "plt.show()"
   ]
  },
  {
   "cell_type": "markdown",
   "metadata": {},
   "source": [
    "### CASE 2 varying alpha and beta\n",
    "\n",
    "x : 100, total ring size \n",
    "\n",
    "y : 10, each clique size\n",
    "\n",
    "alpha : 2 - 30, number of outer cliques\n",
    "\n",
    "beta : 1 - 10, number of edges between main and each outer clique\n",
    "\n",
    "1 => each and every clique were correctly identified\n",
    "\n",
    "0 => each node from main clique merged into its respective clique\n",
    "\n",
    "2 => exception cases\n"
   ]
  },
  {
   "cell_type": "code",
   "execution_count": 41,
   "metadata": {},
   "outputs": [
    {
     "data": {
      "image/png": "[encoded data removed]",
      "text/plain": [
       "<Figure size 432x288 with 2 Axes>"
      ]
     },
     "metadata": {
      "needs_background": "light"
     },
     "output_type": "display_data"
    }
   ],
   "source": [
    "alpha_val = [i for i in range(2,30)]\n",
    "beta_val = [i for i in range(1,10)]\n",
    "beta_val.reverse()\n",
    "x = 100\n",
    "y = 10\n",
    "matrix_ans = []\n",
    "for beta in beta_val:\n",
    "    temp = []\n",
    "    for alpha in alpha_val:\n",
    "        graph = comm_surr_comm(x,y,alpha,beta)\n",
    "        part = run_label_prop(graph[0],graph[1])\n",
    "        if(len(part) == (alpha + 1)):\n",
    "            flag = 1\n",
    "            for i in range(x):\n",
    "                for j in part:\n",
    "                    if(i in part[j]):\n",
    "                        if(max(part[j]) < x):\n",
    "                            continue\n",
    "                        else:\n",
    "                            flag = 0\n",
    "                            break\n",
    "                if(flag == 0):\n",
    "                    break\n",
    "            temp.append(flag)\n",
    "    \n",
    "        else:\n",
    "            temp.append(2)\n",
    "#         print(part,flag)\n",
    "            \n",
    "    matrix_ans.append(temp)\n",
    "\n",
    "sns.heatmap(matrix_ans,xticklabels=alpha_val, yticklabels=beta_val)\n",
    "plt.xlabel(\"alpha \")\n",
    "plt.ylabel(\"beta \")\n",
    "plt.show()"
   ]
  },
  {
   "cell_type": "markdown",
   "metadata": {},
   "source": [
    "# Spinglass\n",
    "\n",
    "### CASE 1: Varying x and y (btw 5 -24) with constant alpha = 20 and beta = 20, gamma = 0.5\n",
    "\n",
    "1 => hub node was merged with left community\n",
    "\n",
    "0 => hub node was merged with right community\n",
    "\n",
    "2 => whole graph was considered as one community\n"
   ]
  },
  {
   "cell_type": "code",
   "execution_count": 43,
   "metadata": {},
   "outputs": [
    {
     "name": "stdout",
     "output_type": "stream",
     "text": [
      "23 22 21 20 19 18 17 16 15 14 13 12 11 10 9 8 7 6 5 4 3 2 "
     ]
    },
    {
     "data": {
      "image/png": "[encoded data removed]",
      "text/plain": [
       "<Figure size 432x288 with 2 Axes>"
      ]
     },
     "metadata": {
      "needs_background": "light"
     },
     "output_type": "display_data"
    }
   ],
   "source": [
    "x_val = [i for i in range(2,24)]\n",
    "y_val = [i for i in range(2,24)]\n",
    "y_val.reverse()\n",
    "alpha = 20\n",
    "beta = 20\n",
    "matrix_ans = []\n",
    "for j in y_val:\n",
    "    temp = []\n",
    "    print(j,end = \" \")\n",
    "    for i in x_val:\n",
    "        graph = hub_node_generic(i,j,alpha,beta)\n",
    "        part = run_spinglass(graph[0],graph[1], 0.5)\n",
    "        if(len(part) == 1):\n",
    "            temp.append(2)\n",
    "            continue;\n",
    "#         print(part)\n",
    "        if(0 in part[0] and 1 in part[0]):\n",
    "            temp.append(1)\n",
    "        elif(0  in part[1] and 1 in part[1]):\n",
    "            temp.append(1)\n",
    "        else:\n",
    "            temp.append(0)\n",
    "    matrix_ans.append(temp)\n",
    "\n",
    "sns.heatmap(matrix_ans,xticklabels=x_val, yticklabels=y_val)\n",
    "plt.xlabel(\"left clique size\")\n",
    "plt.ylabel(\"right clique size\")\n",
    "plt.show()"
   ]
  },
  {
   "cell_type": "markdown",
   "metadata": {},
   "source": [
    "# Ring of Cliques\n",
    "\n",
    "## spinglass\n",
    "\n",
    "\n",
    "x : between 55 , 60 ... 100, total ring size \n",
    "\n",
    "y : between 3 - 30, each clique size\n",
    "\n",
    "1 => Some of the cliques were merged together\n",
    "\n",
    "0 => None of the cliques were merged together\n",
    "\n",
    "2 => not even those small cliques were identified correctly\n",
    "\n"
   ]
  },
  {
   "cell_type": "code",
   "execution_count": 46,
   "metadata": {},
   "outputs": [
    {
     "ename": "NameError",
     "evalue": "name 'y' is not defined",
     "output_type": "error",
     "traceback": [
      "\u001b[0;31m---------------------------------------------------------------------------\u001b[0m",
      "\u001b[0;31mNameError\u001b[0m                                 Traceback (most recent call last)",
      "\u001b[0;32m<ipython-input-46-a09f741e7325>\u001b[0m in \u001b[0;36m<module>\u001b[0;34m\u001b[0m\n\u001b[1;32m      4\u001b[0m \u001b[0mmatrix_ans\u001b[0m \u001b[0;34m=\u001b[0m \u001b[0;34m[\u001b[0m\u001b[0;34m]\u001b[0m\u001b[0;34m\u001b[0m\u001b[0;34m\u001b[0m\u001b[0m\n\u001b[1;32m      5\u001b[0m \u001b[0;32mfor\u001b[0m \u001b[0mx\u001b[0m \u001b[0;32min\u001b[0m \u001b[0mx_val\u001b[0m\u001b[0;34m:\u001b[0m\u001b[0;34m\u001b[0m\u001b[0;34m\u001b[0m\u001b[0m\n\u001b[0;32m----> 6\u001b[0;31m     \u001b[0mprint\u001b[0m\u001b[0;34m(\u001b[0m\u001b[0my\u001b[0m\u001b[0;34m,\u001b[0m\u001b[0mend\u001b[0m \u001b[0;34m=\u001b[0m \u001b[0;34m\" \"\u001b[0m\u001b[0;34m)\u001b[0m\u001b[0;34m\u001b[0m\u001b[0;34m\u001b[0m\u001b[0m\n\u001b[0m\u001b[1;32m      7\u001b[0m     \u001b[0mtemp\u001b[0m \u001b[0;34m=\u001b[0m \u001b[0;34m[\u001b[0m\u001b[0;34m]\u001b[0m\u001b[0;34m\u001b[0m\u001b[0;34m\u001b[0m\u001b[0m\n\u001b[1;32m      8\u001b[0m     \u001b[0my\u001b[0m \u001b[0;34m=\u001b[0m \u001b[0;36m3\u001b[0m\u001b[0;34m\u001b[0m\u001b[0;34m\u001b[0m\u001b[0m\n",
      "\u001b[0;31mNameError\u001b[0m: name 'y' is not defined"
     ]
    }
   ],
   "source": [
    "x_val = [i for i in range(10,11)]\n",
    "y_val = [i for i in range(3,4)]\n",
    "y_val.reverse()\n",
    "matrix_ans = []\n",
    "for x in x_val:\n",
    "    print(y,end = \" \")\n",
    "    temp = []\n",
    "    y = 3\n",
    "    while True:\n",
    "        graph = ring_of_clique(x,y)\n",
    "        part = run_spinglass(graph[0],graph[1],1)\n",
    "        print(len(part),x,y,\"%%%% \",end = \" \")\n",
    "        if(len(part) == x):\n",
    "            temp.append(1)\n",
    "        elif(len(part) < x):\n",
    "            temp.append(0)\n",
    "            break\n",
    "        else:\n",
    "            temp.append(2)\n",
    "            print(x,y)\n",
    "            break\n",
    "        y += 1\n",
    "    matrix_ans.append(temp)\n",
    "\n",
    "sns.heatmap(matrix_ans,xticklabels=x_val, yticklabels=y_val)\n",
    "plt.xlabel(\"total ring size \")\n",
    "plt.ylabel(\"each clique size \")\n",
    "plt.show()"
   ]
  },
  {
   "cell_type": "markdown",
   "metadata": {},
   "source": []
  },
  {
   "cell_type": "code",
   "execution_count": null,
   "metadata": {},
   "outputs": [],
   "source": [
    "graph = ring_of_clique(200,3)\n",
    "part = run_spinglass(graph[0],graph[1],1)\n",
    "Print(graph[0],graph[1])\n",
    "print(part)\n",
    "for i in part:\n",
    "    print(part[i])"
   ]
  },
  {
   "cell_type": "code",
   "execution_count": null,
   "metadata": {},
   "outputs": [],
   "source": [
    "\n",
    "G = nx.karate_club_graph()\n",
    "karate = load(\"karate.gml\")\n",
    "# print(karate)\n",
    "edges = []\n",
    "for i in G.edges():\n",
    "    source = i[0]\n",
    "    dest = i[1]\n",
    "#     print(source,dest)\n",
    "    edges.append((source,dest))\n",
    "\n",
    "part = run_louvain(34,edges)\n",
    "print(\"LOUVAIN\")\n",
    "print(part)\n",
    "circ_pos = nx.circular_layout(G)\n",
    "nx.draw_circular(G, with_labels=True)\n",
    "nx.draw_networkx_nodes(G,circ_pos, nodelist=part[0], node_color='g', alpha=0.5)\n",
    "nx.draw_networkx_nodes(G,circ_pos, nodelist=part[1], node_color='r', alpha=0.5)\n",
    "nx.draw_networkx_nodes(G,circ_pos, nodelist=part[2], node_color='b', alpha=0.5)\n",
    "nx.draw_networkx_nodes(G,circ_pos, nodelist=part[3], node_color='orange', alpha=0.5)\n",
    "plt.show()"
   ]
  },
  {
   "cell_type": "markdown",
   "metadata": {},
   "source": [
    "## Maxperm"
   ]
  },
  {
   "cell_type": "code",
   "execution_count": null,
   "metadata": {},
   "outputs": [],
   "source": [
    "plt.close()\n",
    "part = run_maxperm(34,edges)\n",
    "circ_pos = nx.circular_layout(G)\n",
    "nx.draw_circular(G, with_labels=True)\n",
    "print(\"MAXPERM\")\n",
    "for i in part:\n",
    "    print i,\": \",\n",
    "    print(sorted(list(part[i])))\n",
    "nx.draw_networkx_nodes(G,circ_pos, nodelist=sorted(part[16]), node_color='green', alpha=0.5)\n",
    "nx.draw_networkx_nodes(G,circ_pos, nodelist=sorted(part[32]), node_color='r', alpha=0.5)\n",
    "nx.draw_networkx_nodes(G,circ_pos, nodelist=sorted(part[10]), node_color='blue', alpha=0.5)\n",
    "nx.draw_networkx_nodes(G,circ_pos, nodelist=sorted(part[25]), node_color='black', alpha=0.5)\n",
    "nx.draw_networkx_nodes(G,circ_pos, nodelist=sorted(part[12]), node_color='pink', alpha=0.5)\n",
    "plt.show()"
   ]
  },
  {
   "cell_type": "code",
   "execution_count": null,
   "metadata": {},
   "outputs": [],
   "source": []
  },
  {
   "cell_type": "code",
   "execution_count": null,
   "metadata": {},
   "outputs": [],
   "source": []
  },
  {
   "cell_type": "code",
   "execution_count": null,
   "metadata": {},
   "outputs": [],
   "source": []
  },
  {
   "cell_type": "code",
   "execution_count": null,
   "metadata": {},
   "outputs": [],
   "source": []
  }
 ],
 "metadata": {
  "accelerator": "TPU",
  "colab": {
   "collapsed_sections": [],
   "name": "Untitled12.ipynb",
   "provenance": []
  },
  "kernelspec": {
   "display_name": "Python 3",
   "language": "python",
   "name": "python3"
  },
  "language_info": {
   "codemirror_mode": {
    "name": "ipython",
    "version": 3
   },
   "file_extension": ".py",
   "mimetype": "text/x-python",
   "name": "python",
   "nbconvert_exporter": "python",
   "pygments_lexer": "ipython3",
   "version": "3.6.9"
  }
 },
 "nbformat": 4,
 "nbformat_minor": 1
}
